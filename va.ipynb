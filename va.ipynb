{
 "cells": [
  {
   "cell_type": "markdown",
   "id": "b27fe5ba-9ba4-464d-bf97-2d6c17c72336",
   "metadata": {},
   "source": [
    "## Intro to MAUP"
   ]
  },
  {
   "cell_type": "markdown",
   "id": "542bef2f-131a-475f-85e2-4f24a6df7db4",
   "metadata": {},
   "source": [
    "@author: eveomett AI for Redistricting, USF All data retrieved 04/30/24:\n",
    "https://redistrictingdatahub.org/dataset/virginia-block-pl-94171-2020-by-table/\n",
    "https://redistrictingdatahub.org/dataset/vest-2020-virginia-precinct-boundaries-and-election-results-shapefile/\n",
    "https://redistrictingdatahub.org/dataset/2021-virginia-congressional-districts-approved-plan/\n",
    "\n",
    "https://redistrictingdatahub.org/dataset/vest-2018-virginia-precinct-and-election-results/\n",
    "https://redistrictingdatahub.org/dataset/vest-2016-virginia-precinct-and-election-results/\n",
    "https://redistrictingdatahub.org/dataset/vest-2021-virginia-precinct-boundaries-and-election-results-shapefile/\n",
    "https://redistrictingdatahub.org/dataset/vest-2017-virginia-precinct-boundaries-and-election-results-shapefile/\n",
    "\n",
    "https://redistrictingdatahub.org/dataset/2021-senate-of-virginia-districts-approved-plan/\n",
    "https://redistrictingdatahub.org/dataset/2021-virginia-house-of-delegates-districts-approved-plan/"
   ]
  },
  {
   "cell_type": "code",
   "execution_count": 4,
   "id": "97be400b-13a5-4a2c-bf18-060019c6fe8a",
   "metadata": {},
   "outputs": [],
   "source": [
    "import pandas as pd\n",
    "import geopandas as gpd\n",
    "import maup\n",
    "import time\n",
    "from maup import smart_repair\n",
    "from gerrychain import Graph\n",
    "\n",
    "maup.progress.enabled = True"
   ]
  },
  {
   "cell_type": "code",
   "execution_count": 5,
   "id": "21720c83-4c11-4c01-9ac6-932271c1f00b",
   "metadata": {},
   "outputs": [],
   "source": [
    "import warnings\n",
    "warnings.filterwarnings(\"ignore\")"
   ]
  },
  {
   "cell_type": "code",
   "execution_count": 6,
   "id": "78aa544f-7cfe-47d6-99c3-5b9a67422e13",
   "metadata": {},
   "outputs": [],
   "source": [
    "# state = Virginia\n",
    "state_ab = \"va\""
   ]
  },
  {
   "cell_type": "markdown",
   "id": "9e4b4f49-67d5-4296-9484-1ae5631613f3",
   "metadata": {},
   "source": [
    "## Data\n",
    "1. Download all the data in directory \"il_data\"\n",
    "2. Extract them all"
   ]
  },
  {
   "cell_type": "code",
   "execution_count": 27,
   "id": "f9715959-1d22-4644-8f00-2957248fd4ce",
   "metadata": {},
   "outputs": [],
   "source": [
    "data_folder = state_ab + \"_data/\"\n",
    "population1_data = \"./{}{}_pl2020_b-2/{}_pl2020_p1_b.shp\".format(data_folder, state_ab, state_ab)\n",
    "population2_data = \"./{}{}_pl2020_b-2/{}_pl2020_p2_b.shp\".format(data_folder, state_ab, state_ab)\n",
    "vap_data =  \"./{}{}_pl2020_b-2/{}_pl2020_p4_b.shp\".format(data_folder, state_ab, state_ab)\n",
    "vest21_data = \"./{}{}_vest_21/{}_vest_21.shp\".format(data_folder, state_ab, state_ab)\n",
    "vest20_data = \"./{}{}_vest_20/{}_vest_20.shp\".format(data_folder, state_ab, state_ab)\n",
    "vest18_data = \"./{}{}_vest_18/{}_vest_18.shp\".format(data_folder, state_ab, state_ab)\n",
    "vest17_data = \"./{}{}_vest_17/{}_vest_17.shp\".format(data_folder, state_ab, state_ab)\n",
    "vest16_data = \"./{}{}_vest_16/{}_vest_16.shp\".format(data_folder, state_ab, state_ab)\n",
    "cd_data = \"./{}{}_cong_adopted_2021/SCV FINAL CD.shp\".format(data_folder, state_ab)\n",
    "send_data = \"./{}{}_sldu_adopted_2021/SCV FINAL SD.shp\".format(data_folder, state_ab)\n",
    "hdist_data = \"./{}{}_sldl_adopted_2021/SCV FINAL HOD.shp\".format(data_folder, state_ab)"
   ]
  },
  {
   "cell_type": "code",
   "execution_count": 8,
   "id": "43468832-9663-4f4c-9a0c-7649da99a9e3",
   "metadata": {},
   "outputs": [],
   "source": [
    "def do_smart_repair(df):\n",
    "    # change it to the UTM it needs for smart_repair\n",
    "    df = df.to_crs(df.estimate_utm_crs())\n",
    "    df = smart_repair(df)\n",
    "    if maup.doctor(df):\n",
    "        print('smart_repair successful')\n",
    "            \n",
    "        # change it back to this UTM for this data\n",
    "        df = df.to_crs('EPSG:4269')\n",
    "    else:\n",
    "        print('smart_repair failed')\n",
    "    return df"
   ]
  },
  {
   "cell_type": "code",
   "execution_count": 94,
   "id": "7bd32288-d750-4945-b1c8-687417c4a4c0",
   "metadata": {},
   "outputs": [],
   "source": [
    "def do_nested_smart_repair(df, cong_df):\n",
    "    # change it to the UTM it needs for smart_repair\n",
    "    df = df.to_crs(df.estimate_utm_crs())\n",
    "    cong_df = cong_df.to_crs(df.estimate_utm_crs())\n",
    "    \n",
    "    df = smart_repair(df, nest_within_regions = cong_df)\n",
    "    if maup.doctor(df):\n",
    "        print('smart_repair successful')\n",
    "            \n",
    "        # change it back to this UTM for this data\n",
    "        cong_df = cong_df.to_crs('EPSG:4269')\n",
    "        cong_df = cong_df.to_crs('EPSG:4269')\n",
    "    else:\n",
    "        print('smart_repair failed')\n",
    "    return df"
   ]
  },
  {
   "cell_type": "code",
   "execution_count": 9,
   "id": "60f35324-63c4-475b-a1b6-132efa1a56ea",
   "metadata": {},
   "outputs": [],
   "source": [
    "def add_district(dist_df, dist_name, election_df, col_name):\n",
    "    # check if it needs to be smart_repair\n",
    "    if maup.doctor(dist_df) != True:\n",
    "        dist_df = do_smart_repair(dist_df)\n",
    "    \n",
    "    election_df = gpd.GeoDataFrame(election_df, crs=\"EPSG:4269\")\n",
    "    \n",
    "    # assigne the pricincts\n",
    "    precincts_to_district_assignment = maup.assign(election_df.geometry, dist_df.geometry)\n",
    "    election_df[dist_name] = precincts_to_district_assignment\n",
    "    for precinct_index in range(len(election_df)):\n",
    "        election_df.at[precinct_index, dist_name] = dist_df.at[election_df.at[precinct_index, dist_name], col_name]\n",
    "    \n",
    "    return election_df"
   ]
  },
  {
   "cell_type": "code",
   "execution_count": 10,
   "id": "c171f560-cff2-4579-85c3-f9806f2148c6",
   "metadata": {},
   "outputs": [],
   "source": [
    "def rename(original, year):\n",
    "    party = original[6]\n",
    "    if party == 'R' or party == 'D':\n",
    "        return original[3:6] + year + original[6]\n",
    "    else:\n",
    "        return original[3:6] + year + 'O'"
   ]
  },
  {
   "cell_type": "code",
   "execution_count": 42,
   "id": "8d1abd7c-a8e2-4e9f-8d06-f4a33315c0dc",
   "metadata": {},
   "outputs": [],
   "source": [
    "def rename_vest_data(vest_data, df, year):\n",
    "    vest = gpd.read_file(vest_data)\n",
    "    \n",
    "     # check if it needs to be smart_repair\n",
    "    if maup.doctor(vest) != True:\n",
    "        vest = do_smart_repair(vest)\n",
    "    \n",
    "    # rename the columns\n",
    "    original_col = vest.columns[5:-1]\n",
    "    new_col = [rename(i, year) for i in original_col]\n",
    "    rename_dict = dict(zip(original_col, new_col))\n",
    "    vest = vest.rename(columns=rename_dict)\n",
    "    vest = vest.groupby(level=0, axis=1).sum() # combine all the other party's vote into columns with sufix \"O\"\n",
    "    col_name = list(set(new_col))\n",
    "    col_name.sort()\n",
    "    \n",
    "    return df"
   ]
  },
  {
   "cell_type": "markdown",
   "id": "8a4dc63f-1f6c-4906-8cb7-dff3a3ffc0eb",
   "metadata": {},
   "source": [
    "\n",
    "    # assign pricinct to block\n",
    "    vest = gpd.GeoDataFrame(vest, crs=\"EPSG:4269\")\n",
    "    block_to_vest_assginment = maup.assign(block_df.geometry, vest.geometry,)\n",
    "    block = block_df[['geometry']]\n",
    "    block[col_name] = vest[col_name].groupby(vest_to_block_assginment).sum()\n",
    "    \n",
    "    "
   ]
  },
  {
   "cell_type": "code",
   "execution_count": 55,
   "id": "e66c1900-b12a-4d32-a394-696305c2754f",
   "metadata": {},
   "outputs": [],
   "source": [
    "def blocks_to_precincts(block, df):\n",
    "    # assign block to vest\n",
    "    block = gpd.GeoDataFrame(block, crs=\"EPSG:4269\")\n",
    "    df = gpd.GeoDataFrame(df, crs=\"EPSG:4269\")\n",
    "    block_to_precinct_assginment = maup.assign(block.geometry, df.geometry)\n",
    "    return block_to_precinct_assginment"
   ]
  },
  {
   "cell_type": "markdown",
   "id": "44238acb-c1b6-4b87-961b-243b3840995e",
   "metadata": {},
   "source": [
    "### Read the census data"
   ]
  },
  {
   "cell_type": "code",
   "execution_count": 68,
   "id": "fdbbeeb9-d2f9-4f62-9425-0862778f1e56",
   "metadata": {},
   "outputs": [],
   "source": [
    "population1_df = gpd.read_file(population1_data)\n",
    "population2_df = gpd.read_file(population2_data)\n",
    "vap_df = gpd.read_file(vap_data)"
   ]
  },
  {
   "cell_type": "code",
   "execution_count": 69,
   "id": "6f07afcf-aba3-4f3c-b826-7c5458ef5b8a",
   "metadata": {},
   "outputs": [],
   "source": [
    "population2_df = population2_df.drop(columns=['SUMLEV', 'LOGRECNO', 'GEOID', 'COUNTY', 'geometry'])\n",
    "vap_df = vap_df.drop(columns=['SUMLEV', 'LOGRECNO', 'GEOID', 'COUNTY', 'geometry'])"
   ]
  },
  {
   "cell_type": "code",
   "execution_count": 70,
   "id": "9d560222-1af2-4ccb-a794-1430bd335efb",
   "metadata": {},
   "outputs": [],
   "source": [
    "population_df = pd.merge(population1_df, population2_df, on='GEOID20')\n",
    "population_df = pd.merge(population_df, vap_df, on='GEOID20')"
   ]
  },
  {
   "cell_type": "code",
   "execution_count": 71,
   "id": "47022c58-9875-492e-8f29-45d668d01f5d",
   "metadata": {},
   "outputs": [
    {
     "name": "stderr",
     "output_type": "stream",
     "text": [
      "100%|██████████████████████████████████| 163491/163491 [04:51<00:00, 561.64it/s]\n"
     ]
    },
    {
     "data": {
      "text/plain": [
       "True"
      ]
     },
     "execution_count": 71,
     "metadata": {},
     "output_type": "execute_result"
    }
   ],
   "source": [
    "maup.doctor(population_df)"
   ]
  },
  {
   "cell_type": "code",
   "execution_count": 72,
   "id": "49ecc1ed-947c-4a62-93bb-d564f63a71f0",
   "metadata": {},
   "outputs": [],
   "source": [
    "population_df['H_WHITE'] = population_df.apply(lambda t: t['P0010003'] - t['P0020005'], 1)\n",
    "population_df['H_BLACK'] = population_df.apply(lambda t: t['P0010004'] - t['P0020006'], 1)\n",
    "population_df['H_AMIN'] = population_df.apply(lambda t: t['P0010005'] - t['P0020007'], 1)\n",
    "population_df['H_ASIAN'] = population_df.apply(lambda t: t['P0010006'] - t['P0020008'], 1)\n",
    "population_df['H_NHPI'] = population_df.apply(lambda t: t['P0010007'] - t['P0020009'], 1)\n",
    "population_df['H_OTHER'] = population_df.apply(lambda t: t['P0010008'] - t['P0020010'], 1)\n",
    "population_df['H_2MORE'] = population_df.apply(lambda t: t['P0010009'] - t['P0020011'], 1)"
   ]
  },
  {
   "cell_type": "markdown",
   "id": "c2091314-91dc-415f-a3c1-183a5dc4db05",
   "metadata": {},
   "source": [
    "## Read the vest 20 data\n",
    "\n",
    "Now using it as a \"base pricinct\", but it could be vest 18 or vest 16 if vest 20 is not working"
   ]
  },
  {
   "cell_type": "code",
   "execution_count": 73,
   "id": "1279603a-fb29-4c01-9133-93908cd35f1f",
   "metadata": {},
   "outputs": [],
   "source": [
    "vest20 = gpd.read_file(vest20_data)"
   ]
  },
  {
   "cell_type": "code",
   "execution_count": 74,
   "id": "af357616-3fe7-4a52-9756-e80cb68e9c4f",
   "metadata": {
    "scrolled": true
   },
   "outputs": [
    {
     "name": "stderr",
     "output_type": "stream",
     "text": [
      "100%|██████████████████████████████████████| 2477/2477 [00:11<00:00, 213.27it/s]\n"
     ]
    },
    {
     "name": "stdout",
     "output_type": "stream",
     "text": [
      "There are 58 overlaps.\n",
      "There are 587 holes.\n",
      "Snapping all geometries to a grid with precision 10^( -5 ) to avoid GEOS errors.\n",
      "Identifying overlaps...\n"
     ]
    },
    {
     "name": "stderr",
     "output_type": "stream",
     "text": [
      "100%|██████████████████████████████████████| 2623/2623 [00:03<00:00, 777.50it/s]\n"
     ]
    },
    {
     "name": "stdout",
     "output_type": "stream",
     "text": [
      "Resolving overlaps...\n",
      "Assigning order 2 pieces...\n",
      "Assigning order 3 pieces...\n",
      "Filling gaps...\n"
     ]
    },
    {
     "name": "stderr",
     "output_type": "stream",
     "text": [
      "Gaps to simplify: 100%|█████████████████████████| 64/64 [16:04<00:00, 15.08s/it]\n",
      "Gaps to fill: 100%|███████████████████████████████| 7/7 [00:04<00:00,  1.58it/s]\n",
      "100%|███████████████████████████████████████| 2477/2477 [15:23<00:00,  2.68it/s]\n"
     ]
    },
    {
     "name": "stdout",
     "output_type": "stream",
     "text": [
      "smart_repair successful\n"
     ]
    },
    {
     "data": {
      "text/html": [
       "<div>\n",
       "<style scoped>\n",
       "    .dataframe tbody tr th:only-of-type {\n",
       "        vertical-align: middle;\n",
       "    }\n",
       "\n",
       "    .dataframe tbody tr th {\n",
       "        vertical-align: top;\n",
       "    }\n",
       "\n",
       "    .dataframe thead th {\n",
       "        text-align: right;\n",
       "    }\n",
       "</style>\n",
       "<table border=\"1\" class=\"dataframe\">\n",
       "  <thead>\n",
       "    <tr style=\"text-align: right;\">\n",
       "      <th></th>\n",
       "      <th>2MOREVAP</th>\n",
       "      <th>AMINVAP</th>\n",
       "      <th>ASIANVAP</th>\n",
       "      <th>ATG17D</th>\n",
       "      <th>ATG17O</th>\n",
       "      <th>ATG17R</th>\n",
       "      <th>ATG21D</th>\n",
       "      <th>ATG21O</th>\n",
       "      <th>ATG21R</th>\n",
       "      <th>BVAP</th>\n",
       "      <th>...</th>\n",
       "      <th>TOTPOP</th>\n",
       "      <th>USS18O</th>\n",
       "      <th>USS18R</th>\n",
       "      <th>USS20D</th>\n",
       "      <th>USS20O</th>\n",
       "      <th>USS20R</th>\n",
       "      <th>VAP</th>\n",
       "      <th>VTDST</th>\n",
       "      <th>WVAP</th>\n",
       "      <th>geometry</th>\n",
       "    </tr>\n",
       "  </thead>\n",
       "  <tbody>\n",
       "    <tr>\n",
       "      <th>0</th>\n",
       "      <td>122.0</td>\n",
       "      <td>6.0</td>\n",
       "      <td>17.0</td>\n",
       "      <td>416.0</td>\n",
       "      <td>2.0</td>\n",
       "      <td>815.0</td>\n",
       "      <td>722.0</td>\n",
       "      <td>0.0</td>\n",
       "      <td>1283.0</td>\n",
       "      <td>25.0</td>\n",
       "      <td>...</td>\n",
       "      <td>3345.0</td>\n",
       "      <td>17.0</td>\n",
       "      <td>994.0</td>\n",
       "      <td>915</td>\n",
       "      <td>3</td>\n",
       "      <td>1563</td>\n",
       "      <td>2917.0</td>\n",
       "      <td>000101</td>\n",
       "      <td>2674.0</td>\n",
       "      <td>POLYGON Z ((-75.425072 37.899571 0, -75.424985...</td>\n",
       "    </tr>\n",
       "    <tr>\n",
       "      <th>1</th>\n",
       "      <td>32.0</td>\n",
       "      <td>6.0</td>\n",
       "      <td>9.0</td>\n",
       "      <td>132.0</td>\n",
       "      <td>0.0</td>\n",
       "      <td>422.0</td>\n",
       "      <td>143.0</td>\n",
       "      <td>0.0</td>\n",
       "      <td>550.0</td>\n",
       "      <td>178.0</td>\n",
       "      <td>...</td>\n",
       "      <td>1511.0</td>\n",
       "      <td>11.0</td>\n",
       "      <td>459.0</td>\n",
       "      <td>357</td>\n",
       "      <td>0</td>\n",
       "      <td>644</td>\n",
       "      <td>1222.0</td>\n",
       "      <td>000201</td>\n",
       "      <td>891.0</td>\n",
       "      <td>POLYGON Z ((-75.59978 37.876639 0, -75.5990449...</td>\n",
       "    </tr>\n",
       "    <tr>\n",
       "      <th>2</th>\n",
       "      <td>69.0</td>\n",
       "      <td>11.0</td>\n",
       "      <td>16.0</td>\n",
       "      <td>216.0</td>\n",
       "      <td>0.0</td>\n",
       "      <td>477.0</td>\n",
       "      <td>357.0</td>\n",
       "      <td>1.0</td>\n",
       "      <td>890.0</td>\n",
       "      <td>109.0</td>\n",
       "      <td>...</td>\n",
       "      <td>2887.0</td>\n",
       "      <td>9.0</td>\n",
       "      <td>577.0</td>\n",
       "      <td>539</td>\n",
       "      <td>0</td>\n",
       "      <td>1054</td>\n",
       "      <td>2441.0</td>\n",
       "      <td>000202</td>\n",
       "      <td>2165.0</td>\n",
       "      <td>POLYGON Z ((-75.499191 37.934158 0, -75.498871...</td>\n",
       "    </tr>\n",
       "    <tr>\n",
       "      <th>3</th>\n",
       "      <td>62.0</td>\n",
       "      <td>9.0</td>\n",
       "      <td>27.0</td>\n",
       "      <td>384.0</td>\n",
       "      <td>1.0</td>\n",
       "      <td>393.0</td>\n",
       "      <td>477.0</td>\n",
       "      <td>1.0</td>\n",
       "      <td>555.0</td>\n",
       "      <td>1310.0</td>\n",
       "      <td>...</td>\n",
       "      <td>3560.0</td>\n",
       "      <td>11.0</td>\n",
       "      <td>477.0</td>\n",
       "      <td>1003</td>\n",
       "      <td>2</td>\n",
       "      <td>638</td>\n",
       "      <td>2786.0</td>\n",
       "      <td>000301</td>\n",
       "      <td>1302.0</td>\n",
       "      <td>POLYGON Z ((-75.64986999999999 37.927015999999...</td>\n",
       "    </tr>\n",
       "    <tr>\n",
       "      <th>4</th>\n",
       "      <td>44.0</td>\n",
       "      <td>2.0</td>\n",
       "      <td>8.0</td>\n",
       "      <td>92.0</td>\n",
       "      <td>0.0</td>\n",
       "      <td>236.0</td>\n",
       "      <td>135.0</td>\n",
       "      <td>1.0</td>\n",
       "      <td>371.0</td>\n",
       "      <td>154.0</td>\n",
       "      <td>...</td>\n",
       "      <td>1378.0</td>\n",
       "      <td>4.0</td>\n",
       "      <td>277.0</td>\n",
       "      <td>306</td>\n",
       "      <td>0</td>\n",
       "      <td>447</td>\n",
       "      <td>1090.0</td>\n",
       "      <td>000401</td>\n",
       "      <td>732.0</td>\n",
       "      <td>POLYGON Z ((-75.715564 37.875126 0, -75.712240...</td>\n",
       "    </tr>\n",
       "    <tr>\n",
       "      <th>...</th>\n",
       "      <td>...</td>\n",
       "      <td>...</td>\n",
       "      <td>...</td>\n",
       "      <td>...</td>\n",
       "      <td>...</td>\n",
       "      <td>...</td>\n",
       "      <td>...</td>\n",
       "      <td>...</td>\n",
       "      <td>...</td>\n",
       "      <td>...</td>\n",
       "      <td>...</td>\n",
       "      <td>...</td>\n",
       "      <td>...</td>\n",
       "      <td>...</td>\n",
       "      <td>...</td>\n",
       "      <td>...</td>\n",
       "      <td>...</td>\n",
       "      <td>...</td>\n",
       "      <td>...</td>\n",
       "      <td>...</td>\n",
       "      <td>...</td>\n",
       "    </tr>\n",
       "    <tr>\n",
       "      <th>2472</th>\n",
       "      <td>26.0</td>\n",
       "      <td>0.0</td>\n",
       "      <td>8.0</td>\n",
       "      <td>685.0</td>\n",
       "      <td>0.0</td>\n",
       "      <td>29.0</td>\n",
       "      <td>667.0</td>\n",
       "      <td>0.0</td>\n",
       "      <td>21.0</td>\n",
       "      <td>1538.0</td>\n",
       "      <td>...</td>\n",
       "      <td>2136.0</td>\n",
       "      <td>1.0</td>\n",
       "      <td>26.0</td>\n",
       "      <td>1082</td>\n",
       "      <td>5</td>\n",
       "      <td>58</td>\n",
       "      <td>1636.0</td>\n",
       "      <td>000302</td>\n",
       "      <td>48.0</td>\n",
       "      <td>POLYGON Z ((-76.466768 36.746249 0, -76.466771...</td>\n",
       "    </tr>\n",
       "    <tr>\n",
       "      <th>2473</th>\n",
       "      <td>8.0</td>\n",
       "      <td>0.0</td>\n",
       "      <td>2.0</td>\n",
       "      <td>134.0</td>\n",
       "      <td>1.0</td>\n",
       "      <td>331.0</td>\n",
       "      <td>92.0</td>\n",
       "      <td>1.0</td>\n",
       "      <td>290.0</td>\n",
       "      <td>18.0</td>\n",
       "      <td>...</td>\n",
       "      <td>687.0</td>\n",
       "      <td>4.0</td>\n",
       "      <td>246.0</td>\n",
       "      <td>149</td>\n",
       "      <td>0</td>\n",
       "      <td>317</td>\n",
       "      <td>572.0</td>\n",
       "      <td>000504</td>\n",
       "      <td>533.0</td>\n",
       "      <td>POLYGON Z ((-76.69103299999999 36.796239 0, -7...</td>\n",
       "    </tr>\n",
       "    <tr>\n",
       "      <th>2474</th>\n",
       "      <td>85.0</td>\n",
       "      <td>1.0</td>\n",
       "      <td>19.0</td>\n",
       "      <td>493.0</td>\n",
       "      <td>1.0</td>\n",
       "      <td>111.0</td>\n",
       "      <td>523.0</td>\n",
       "      <td>0.0</td>\n",
       "      <td>189.0</td>\n",
       "      <td>1182.0</td>\n",
       "      <td>...</td>\n",
       "      <td>2984.0</td>\n",
       "      <td>5.0</td>\n",
       "      <td>149.0</td>\n",
       "      <td>952</td>\n",
       "      <td>0</td>\n",
       "      <td>285</td>\n",
       "      <td>2084.0</td>\n",
       "      <td>000302</td>\n",
       "      <td>644.0</td>\n",
       "      <td>POLYGON Z ((-76.555408 36.731193 0, -76.560138...</td>\n",
       "    </tr>\n",
       "    <tr>\n",
       "      <th>2475</th>\n",
       "      <td>95.0</td>\n",
       "      <td>12.0</td>\n",
       "      <td>167.0</td>\n",
       "      <td>678.0</td>\n",
       "      <td>0.0</td>\n",
       "      <td>299.0</td>\n",
       "      <td>785.0</td>\n",
       "      <td>1.0</td>\n",
       "      <td>305.0</td>\n",
       "      <td>32.0</td>\n",
       "      <td>...</td>\n",
       "      <td>2000.0</td>\n",
       "      <td>34.0</td>\n",
       "      <td>245.0</td>\n",
       "      <td>661</td>\n",
       "      <td>0</td>\n",
       "      <td>357</td>\n",
       "      <td>1508.0</td>\n",
       "      <td>000712</td>\n",
       "      <td>1020.0</td>\n",
       "      <td>POLYGON Z ((-77.209321 38.887316 0, -77.209197...</td>\n",
       "    </tr>\n",
       "    <tr>\n",
       "      <th>2476</th>\n",
       "      <td>119.0</td>\n",
       "      <td>1.0</td>\n",
       "      <td>1088.0</td>\n",
       "      <td>1296.0</td>\n",
       "      <td>1.0</td>\n",
       "      <td>383.0</td>\n",
       "      <td>1445.0</td>\n",
       "      <td>2.0</td>\n",
       "      <td>484.0</td>\n",
       "      <td>319.0</td>\n",
       "      <td>...</td>\n",
       "      <td>5915.0</td>\n",
       "      <td>47.0</td>\n",
       "      <td>405.0</td>\n",
       "      <td>1882</td>\n",
       "      <td>7</td>\n",
       "      <td>600</td>\n",
       "      <td>4413.0</td>\n",
       "      <td>000713</td>\n",
       "      <td>1671.0</td>\n",
       "      <td>POLYGON Z ((-77.2082610626668 38.8851813511949...</td>\n",
       "    </tr>\n",
       "  </tbody>\n",
       "</table>\n",
       "<p>2477 rows × 56 columns</p>\n",
       "</div>"
      ],
      "text/plain": [
       "      2MOREVAP  AMINVAP  ASIANVAP  ATG17D  ATG17O  ATG17R  ATG21D  ATG21O  \\\n",
       "0        122.0      6.0      17.0   416.0     2.0   815.0   722.0     0.0   \n",
       "1         32.0      6.0       9.0   132.0     0.0   422.0   143.0     0.0   \n",
       "2         69.0     11.0      16.0   216.0     0.0   477.0   357.0     1.0   \n",
       "3         62.0      9.0      27.0   384.0     1.0   393.0   477.0     1.0   \n",
       "4         44.0      2.0       8.0    92.0     0.0   236.0   135.0     1.0   \n",
       "...        ...      ...       ...     ...     ...     ...     ...     ...   \n",
       "2472      26.0      0.0       8.0   685.0     0.0    29.0   667.0     0.0   \n",
       "2473       8.0      0.0       2.0   134.0     1.0   331.0    92.0     1.0   \n",
       "2474      85.0      1.0      19.0   493.0     1.0   111.0   523.0     0.0   \n",
       "2475      95.0     12.0     167.0   678.0     0.0   299.0   785.0     1.0   \n",
       "2476     119.0      1.0    1088.0  1296.0     1.0   383.0  1445.0     2.0   \n",
       "\n",
       "      ATG21R    BVAP  ...  TOTPOP  USS18O  USS18R  USS20D  USS20O  USS20R  \\\n",
       "0     1283.0    25.0  ...  3345.0    17.0   994.0     915       3    1563   \n",
       "1      550.0   178.0  ...  1511.0    11.0   459.0     357       0     644   \n",
       "2      890.0   109.0  ...  2887.0     9.0   577.0     539       0    1054   \n",
       "3      555.0  1310.0  ...  3560.0    11.0   477.0    1003       2     638   \n",
       "4      371.0   154.0  ...  1378.0     4.0   277.0     306       0     447   \n",
       "...      ...     ...  ...     ...     ...     ...     ...     ...     ...   \n",
       "2472    21.0  1538.0  ...  2136.0     1.0    26.0    1082       5      58   \n",
       "2473   290.0    18.0  ...   687.0     4.0   246.0     149       0     317   \n",
       "2474   189.0  1182.0  ...  2984.0     5.0   149.0     952       0     285   \n",
       "2475   305.0    32.0  ...  2000.0    34.0   245.0     661       0     357   \n",
       "2476   484.0   319.0  ...  5915.0    47.0   405.0    1882       7     600   \n",
       "\n",
       "         VAP   VTDST    WVAP  \\\n",
       "0     2917.0  000101  2674.0   \n",
       "1     1222.0  000201   891.0   \n",
       "2     2441.0  000202  2165.0   \n",
       "3     2786.0  000301  1302.0   \n",
       "4     1090.0  000401   732.0   \n",
       "...      ...     ...     ...   \n",
       "2472  1636.0  000302    48.0   \n",
       "2473   572.0  000504   533.0   \n",
       "2474  2084.0  000302   644.0   \n",
       "2475  1508.0  000712  1020.0   \n",
       "2476  4413.0  000713  1671.0   \n",
       "\n",
       "                                               geometry  \n",
       "0     POLYGON Z ((-75.425072 37.899571 0, -75.424985...  \n",
       "1     POLYGON Z ((-75.59978 37.876639 0, -75.5990449...  \n",
       "2     POLYGON Z ((-75.499191 37.934158 0, -75.498871...  \n",
       "3     POLYGON Z ((-75.64986999999999 37.927015999999...  \n",
       "4     POLYGON Z ((-75.715564 37.875126 0, -75.712240...  \n",
       "...                                                 ...  \n",
       "2472  POLYGON Z ((-76.466768 36.746249 0, -76.466771...  \n",
       "2473  POLYGON Z ((-76.69103299999999 36.796239 0, -7...  \n",
       "2474  POLYGON Z ((-76.555408 36.731193 0, -76.560138...  \n",
       "2475  POLYGON Z ((-77.209321 38.887316 0, -77.209197...  \n",
       "2476  POLYGON Z ((-77.2082610626668 38.8851813511949...  \n",
       "\n",
       "[2477 rows x 56 columns]"
      ]
     },
     "execution_count": 74,
     "metadata": {},
     "output_type": "execute_result"
    }
   ],
   "source": [
    "vest20 = rename_vest_data(vest20_data, election_df, '20')\n",
    "vest20"
   ]
  },
  {
   "cell_type": "code",
   "execution_count": 75,
   "id": "6aa7dd20-826e-466f-be4c-09041093fdfe",
   "metadata": {
    "scrolled": true
   },
   "outputs": [
    {
     "name": "stderr",
     "output_type": "stream",
     "text": [
      "100%|███████████████████████████████████████| 2479/2479 [01:56<00:00, 21.33it/s]\n"
     ]
    },
    {
     "name": "stdout",
     "output_type": "stream",
     "text": [
      "There are 58 overlaps.\n",
      "There are 588 holes.\n",
      "Snapping all geometries to a grid with precision 10^( -5 ) to avoid GEOS errors.\n",
      "Identifying overlaps...\n"
     ]
    },
    {
     "name": "stderr",
     "output_type": "stream",
     "text": [
      "100%|██████████████████████████████████████| 2624/2624 [00:03<00:00, 775.51it/s]\n"
     ]
    },
    {
     "name": "stdout",
     "output_type": "stream",
     "text": [
      "Resolving overlaps...\n",
      "Assigning order 2 pieces...\n",
      "Assigning order 3 pieces...\n",
      "Filling gaps...\n"
     ]
    },
    {
     "name": "stderr",
     "output_type": "stream",
     "text": [
      "Gaps to simplify: 100%|█████████████████████████| 65/65 [00:35<00:00,  1.85it/s]\n",
      "Gaps to fill: 100%|███████████████████████████████| 7/7 [00:02<00:00,  2.45it/s]\n",
      "100%|██████████████████████████████████████| 2479/2479 [00:06<00:00, 357.02it/s]\n"
     ]
    },
    {
     "name": "stdout",
     "output_type": "stream",
     "text": [
      "smart_repair successful\n"
     ]
    },
    {
     "name": "stderr",
     "output_type": "stream",
     "text": [
      "100%|██████████████████████████████████████| 2477/2477 [00:06<00:00, 365.05it/s]\n"
     ]
    },
    {
     "name": "stdout",
     "output_type": "stream",
     "text": [
      "There are 58 overlaps.\n",
      "There are 587 holes.\n",
      "Snapping all geometries to a grid with precision 10^( -5 ) to avoid GEOS errors.\n",
      "Identifying overlaps...\n"
     ]
    },
    {
     "name": "stderr",
     "output_type": "stream",
     "text": [
      "100%|█████████████████████████████████████| 2623/2623 [00:02<00:00, 1243.98it/s]\n"
     ]
    },
    {
     "name": "stdout",
     "output_type": "stream",
     "text": [
      "Resolving overlaps...\n",
      "Assigning order 2 pieces...\n",
      "Assigning order 3 pieces...\n",
      "Filling gaps...\n"
     ]
    },
    {
     "name": "stderr",
     "output_type": "stream",
     "text": [
      "Gaps to simplify: 100%|█████████████████████████| 64/64 [00:21<00:00,  2.93it/s]\n",
      "Gaps to fill: 100%|███████████████████████████████| 7/7 [00:02<00:00,  2.57it/s]\n",
      "100%|██████████████████████████████████████| 2477/2477 [00:06<00:00, 394.66it/s]\n"
     ]
    },
    {
     "name": "stdout",
     "output_type": "stream",
     "text": [
      "smart_repair successful\n"
     ]
    },
    {
     "name": "stderr",
     "output_type": "stream",
     "text": [
      "100%|██████████████████████████████████████| 2477/2477 [00:07<00:00, 329.57it/s]\n"
     ]
    },
    {
     "name": "stdout",
     "output_type": "stream",
     "text": [
      "There are 58 overlaps.\n",
      "There are 587 holes.\n",
      "Snapping all geometries to a grid with precision 10^( -5 ) to avoid GEOS errors.\n",
      "Identifying overlaps...\n"
     ]
    },
    {
     "name": "stderr",
     "output_type": "stream",
     "text": [
      "100%|█████████████████████████████████████| 2623/2623 [00:01<00:00, 1339.73it/s]\n"
     ]
    },
    {
     "name": "stdout",
     "output_type": "stream",
     "text": [
      "Resolving overlaps...\n",
      "Assigning order 2 pieces...\n",
      "Assigning order 3 pieces...\n",
      "Filling gaps...\n"
     ]
    },
    {
     "name": "stderr",
     "output_type": "stream",
     "text": [
      "Gaps to simplify: 100%|█████████████████████████| 64/64 [00:21<00:00,  2.92it/s]\n",
      "Gaps to fill: 100%|███████████████████████████████| 7/7 [00:02<00:00,  2.53it/s]\n",
      "100%|██████████████████████████████████████| 2477/2477 [00:06<00:00, 398.31it/s]\n"
     ]
    },
    {
     "name": "stdout",
     "output_type": "stream",
     "text": [
      "smart_repair successful\n"
     ]
    },
    {
     "name": "stderr",
     "output_type": "stream",
     "text": [
      "100%|██████████████████████████████████████| 2477/2477 [00:08<00:00, 302.67it/s]\n"
     ]
    },
    {
     "name": "stdout",
     "output_type": "stream",
     "text": [
      "There are 58 overlaps.\n",
      "There are 587 holes.\n",
      "Snapping all geometries to a grid with precision 10^( -5 ) to avoid GEOS errors.\n",
      "Identifying overlaps...\n"
     ]
    },
    {
     "name": "stderr",
     "output_type": "stream",
     "text": [
      "100%|█████████████████████████████████████| 2623/2623 [00:01<00:00, 1323.12it/s]\n"
     ]
    },
    {
     "name": "stdout",
     "output_type": "stream",
     "text": [
      "Resolving overlaps...\n",
      "Assigning order 2 pieces...\n",
      "Assigning order 3 pieces...\n",
      "Filling gaps...\n"
     ]
    },
    {
     "name": "stderr",
     "output_type": "stream",
     "text": [
      "Gaps to simplify: 100%|█████████████████████████| 64/64 [00:22<00:00,  2.86it/s]\n",
      "Gaps to fill: 100%|███████████████████████████████| 7/7 [00:02<00:00,  2.55it/s]\n",
      "100%|██████████████████████████████████████| 2477/2477 [00:06<00:00, 379.91it/s]\n"
     ]
    },
    {
     "name": "stdout",
     "output_type": "stream",
     "text": [
      "smart_repair successful\n"
     ]
    }
   ],
   "source": [
    "vest21 = rename_vest_data(vest21_data, election_df, '21')\n",
    "vest18 = rename_vest_data(vest20_data, election_df, '18')\n",
    "vest17 = rename_vest_data(vest20_data, election_df, '17')\n",
    "vest16 = rename_vest_data(vest20_data, election_df, '16')"
   ]
  },
  {
   "cell_type": "markdown",
   "id": "b1088323-1cc9-4449-9583-e287d41db412",
   "metadata": {},
   "source": [
    "### In order to move all this data around, we'll need assignments of blocks to precincts for each of the precinct files."
   ]
  },
  {
   "cell_type": "code",
   "execution_count": 76,
   "id": "b5123baf-de9c-4e9c-8489-49b697dce378",
   "metadata": {},
   "outputs": [
    {
     "name": "stderr",
     "output_type": "stream",
     "text": [
      "100%|██████████████████████████████████████| 2477/2477 [00:23<00:00, 104.52it/s]\n",
      "100%|██████████████████████████████████████| 2477/2477 [00:02<00:00, 906.11it/s]\n",
      "100%|██████████████████████████████████████| 2477/2477 [00:24<00:00, 100.32it/s]\n",
      "100%|██████████████████████████████████████| 2477/2477 [00:02<00:00, 899.95it/s]\n",
      "100%|██████████████████████████████████████| 2477/2477 [00:24<00:00, 101.30it/s]\n",
      "100%|██████████████████████████████████████| 2477/2477 [00:02<00:00, 864.93it/s]\n",
      "100%|██████████████████████████████████████| 2477/2477 [00:23<00:00, 107.13it/s]\n",
      "100%|██████████████████████████████████████| 2477/2477 [00:02<00:00, 869.77it/s]\n",
      "100%|██████████████████████████████████████| 2477/2477 [00:23<00:00, 104.36it/s]\n",
      "100%|██████████████████████████████████████| 2477/2477 [00:02<00:00, 834.39it/s]\n"
     ]
    }
   ],
   "source": [
    "blocks_to_precincts2021_assignment = blocks_to_precincts(population_df.geometry, vest21.geometry)\n",
    "blocks_to_precincts2020_assignment = blocks_to_precincts(population_df.geometry, vest20.geometry)\n",
    "blocks_to_precincts2018_assignment = blocks_to_precincts(population_df.geometry, vest18.geometry)\n",
    "blocks_to_precincts2017_assignment = blocks_to_precincts(population_df.geometry, vest17.geometry)\n",
    "blocks_to_precincts2016_assignment = blocks_to_precincts(population_df.geometry, vest16.geometry)"
   ]
  },
  {
   "cell_type": "markdown",
   "id": "4bde6f39-9f38-4b1a-8d5d-ebf95641e80d",
   "metadata": {},
   "source": [
    "### First step: Aggregate population data from blocks to 2020 precincts.\n",
    "### (We'll just use a few of the population columns for this demo.)"
   ]
  },
  {
   "cell_type": "code",
   "execution_count": 77,
   "id": "993691b0-1086-4b7e-a758-9b70bd155db3",
   "metadata": {
    "scrolled": true
   },
   "outputs": [
    {
     "name": "stdout",
     "output_type": "stream",
     "text": [
      "GEOID20\n",
      "SUMLEV\n",
      "LOGRECNO\n",
      "GEOID\n",
      "COUNTY\n",
      "P0010001\n",
      "P0010002\n",
      "P0010003\n",
      "P0010004\n",
      "P0010005\n",
      "P0010006\n",
      "P0010007\n",
      "P0010008\n",
      "P0010009\n",
      "P0010010\n",
      "P0010011\n",
      "P0010012\n",
      "P0010013\n",
      "P0010014\n",
      "P0010015\n",
      "P0010016\n",
      "P0010017\n",
      "P0010018\n",
      "P0010019\n",
      "P0010020\n",
      "P0010021\n",
      "P0010022\n",
      "P0010023\n",
      "P0010024\n",
      "P0010025\n",
      "P0010026\n",
      "P0010027\n",
      "P0010028\n",
      "P0010029\n",
      "P0010030\n",
      "P0010031\n",
      "P0010032\n",
      "P0010033\n",
      "P0010034\n",
      "P0010035\n",
      "P0010036\n",
      "P0010037\n",
      "P0010038\n",
      "P0010039\n",
      "P0010040\n",
      "P0010041\n",
      "P0010042\n",
      "P0010043\n",
      "P0010044\n",
      "P0010045\n",
      "P0010046\n",
      "P0010047\n",
      "P0010048\n",
      "P0010049\n",
      "P0010050\n",
      "P0010051\n",
      "P0010052\n",
      "P0010053\n",
      "P0010054\n",
      "P0010055\n",
      "P0010056\n",
      "P0010057\n",
      "P0010058\n",
      "P0010059\n",
      "P0010060\n",
      "P0010061\n",
      "P0010062\n",
      "P0010063\n",
      "P0010064\n",
      "P0010065\n",
      "P0010066\n",
      "P0010067\n",
      "P0010068\n",
      "P0010069\n",
      "P0010070\n",
      "P0010071\n",
      "geometry\n",
      "P0020001\n",
      "P0020002\n",
      "P0020003\n",
      "P0020004\n",
      "P0020005\n",
      "P0020006\n",
      "P0020007\n",
      "P0020008\n",
      "P0020009\n",
      "P0020010\n",
      "P0020011\n",
      "P0020012\n",
      "P0020013\n",
      "P0020014\n",
      "P0020015\n",
      "P0020016\n",
      "P0020017\n",
      "P0020018\n",
      "P0020019\n",
      "P0020020\n",
      "P0020021\n",
      "P0020022\n",
      "P0020023\n",
      "P0020024\n",
      "P0020025\n",
      "P0020026\n",
      "P0020027\n",
      "P0020028\n",
      "P0020029\n",
      "P0020030\n",
      "P0020031\n",
      "P0020032\n",
      "P0020033\n",
      "P0020034\n",
      "P0020035\n",
      "P0020036\n",
      "P0020037\n",
      "P0020038\n",
      "P0020039\n",
      "P0020040\n",
      "P0020041\n",
      "P0020042\n",
      "P0020043\n",
      "P0020044\n",
      "P0020045\n",
      "P0020046\n",
      "P0020047\n",
      "P0020048\n",
      "P0020049\n",
      "P0020050\n",
      "P0020051\n",
      "P0020052\n",
      "P0020053\n",
      "P0020054\n",
      "P0020055\n",
      "P0020056\n",
      "P0020057\n",
      "P0020058\n",
      "P0020059\n",
      "P0020060\n",
      "P0020061\n",
      "P0020062\n",
      "P0020063\n",
      "P0020064\n",
      "P0020065\n",
      "P0020066\n",
      "P0020067\n",
      "P0020068\n",
      "P0020069\n",
      "P0020070\n",
      "P0020071\n",
      "P0020072\n",
      "P0020073\n",
      "P0040001\n",
      "P0040002\n",
      "P0040003\n",
      "P0040004\n",
      "P0040005\n",
      "P0040006\n",
      "P0040007\n",
      "P0040008\n",
      "P0040009\n",
      "P0040010\n",
      "P0040011\n",
      "P0040012\n",
      "P0040013\n",
      "P0040014\n",
      "P0040015\n",
      "P0040016\n",
      "P0040017\n",
      "P0040018\n",
      "P0040019\n",
      "P0040020\n",
      "P0040021\n",
      "P0040022\n",
      "P0040023\n",
      "P0040024\n",
      "P0040025\n",
      "P0040026\n",
      "P0040027\n",
      "P0040028\n",
      "P0040029\n",
      "P0040030\n",
      "P0040031\n",
      "P0040032\n",
      "P0040033\n",
      "P0040034\n",
      "P0040035\n",
      "P0040036\n",
      "P0040037\n",
      "P0040038\n",
      "P0040039\n",
      "P0040040\n",
      "P0040041\n",
      "P0040042\n",
      "P0040043\n",
      "P0040044\n",
      "P0040045\n",
      "P0040046\n",
      "P0040047\n",
      "P0040048\n",
      "P0040049\n",
      "P0040050\n",
      "P0040051\n",
      "P0040052\n",
      "P0040053\n",
      "P0040054\n",
      "P0040055\n",
      "P0040056\n",
      "P0040057\n",
      "P0040058\n",
      "P0040059\n",
      "P0040060\n",
      "P0040061\n",
      "P0040062\n",
      "P0040063\n",
      "P0040064\n",
      "P0040065\n",
      "P0040066\n",
      "P0040067\n",
      "P0040068\n",
      "P0040069\n",
      "P0040070\n",
      "P0040071\n",
      "P0040072\n",
      "P0040073\n",
      "H_WHITE\n",
      "H_BLACK\n",
      "H_AMIN\n",
      "H_ASIAN\n",
      "H_NHPI\n",
      "H_OTHER\n",
      "H_2MORE\n"
     ]
    }
   ],
   "source": [
    "for column in population_df.columns:\n",
    "    print(column)"
   ]
  },
  {
   "cell_type": "code",
   "execution_count": 78,
   "id": "867c2375-c866-4947-ab5c-6322e3bc4b98",
   "metadata": {},
   "outputs": [
    {
     "data": {
      "text/plain": [
       "Index(['GEOID20', 'P0040001', 'P0040002', 'P0040003', 'P0040004', 'P0040005',\n",
       "       'P0040006', 'P0040007', 'P0040008', 'P0040009', 'P0040010', 'P0040011',\n",
       "       'P0040012', 'P0040013', 'P0040014', 'P0040015', 'P0040016', 'P0040017',\n",
       "       'P0040018', 'P0040019', 'P0040020', 'P0040021', 'P0040022', 'P0040023',\n",
       "       'P0040024', 'P0040025', 'P0040026', 'P0040027', 'P0040028', 'P0040029',\n",
       "       'P0040030', 'P0040031', 'P0040032', 'P0040033', 'P0040034', 'P0040035',\n",
       "       'P0040036', 'P0040037', 'P0040038', 'P0040039', 'P0040040', 'P0040041',\n",
       "       'P0040042', 'P0040043', 'P0040044', 'P0040045', 'P0040046', 'P0040047',\n",
       "       'P0040048', 'P0040049', 'P0040050', 'P0040051', 'P0040052', 'P0040053',\n",
       "       'P0040054', 'P0040055', 'P0040056', 'P0040057', 'P0040058', 'P0040059',\n",
       "       'P0040060', 'P0040061', 'P0040062', 'P0040063', 'P0040064', 'P0040065',\n",
       "       'P0040066', 'P0040067', 'P0040068', 'P0040069', 'P0040070', 'P0040071',\n",
       "       'P0040072', 'P0040073'],\n",
       "      dtype='object')"
      ]
     },
     "execution_count": 78,
     "metadata": {},
     "output_type": "execute_result"
    }
   ],
   "source": [
    "vap_df.columns"
   ]
  },
  {
   "cell_type": "code",
   "execution_count": 79,
   "id": "8ae710dc-8df7-4885-b42c-e205e1ca4934",
   "metadata": {},
   "outputs": [],
   "source": [
    "pop_cols = ['P0020001', 'P0040001']"
   ]
  },
  {
   "cell_type": "markdown",
   "id": "b998a95c-f834-4131-afe7-584f3438f84f",
   "metadata": {},
   "source": [
    "### We can use the assignment of blocks to precincts to aggregate populations from blocks up to precincts:"
   ]
  },
  {
   "cell_type": "code",
   "execution_count": 80,
   "id": "c298b24f-e792-484b-be54-60dfc06e1f1c",
   "metadata": {},
   "outputs": [],
   "source": [
    "vest21[pop_cols] = population_df[pop_cols].groupby(blocks_to_precincts2021_assignment).sum()"
   ]
  },
  {
   "cell_type": "code",
   "execution_count": 84,
   "id": "fbd7dbf3-37ed-481b-93c0-d33512ddf145",
   "metadata": {},
   "outputs": [
    {
     "data": {
      "text/html": [
       "<div>\n",
       "<style scoped>\n",
       "    .dataframe tbody tr th:only-of-type {\n",
       "        vertical-align: middle;\n",
       "    }\n",
       "\n",
       "    .dataframe tbody tr th {\n",
       "        vertical-align: top;\n",
       "    }\n",
       "\n",
       "    .dataframe thead th {\n",
       "        text-align: right;\n",
       "    }\n",
       "</style>\n",
       "<table border=\"1\" class=\"dataframe\">\n",
       "  <thead>\n",
       "    <tr style=\"text-align: right;\">\n",
       "      <th></th>\n",
       "      <th>P0020001</th>\n",
       "      <th>P0040001</th>\n",
       "    </tr>\n",
       "  </thead>\n",
       "  <tbody>\n",
       "    <tr>\n",
       "      <th>0</th>\n",
       "      <td>3345.0</td>\n",
       "      <td>2917.0</td>\n",
       "    </tr>\n",
       "    <tr>\n",
       "      <th>1</th>\n",
       "      <td>1511.0</td>\n",
       "      <td>1222.0</td>\n",
       "    </tr>\n",
       "    <tr>\n",
       "      <th>2</th>\n",
       "      <td>2887.0</td>\n",
       "      <td>2441.0</td>\n",
       "    </tr>\n",
       "    <tr>\n",
       "      <th>3</th>\n",
       "      <td>3560.0</td>\n",
       "      <td>2786.0</td>\n",
       "    </tr>\n",
       "    <tr>\n",
       "      <th>4</th>\n",
       "      <td>1378.0</td>\n",
       "      <td>1090.0</td>\n",
       "    </tr>\n",
       "  </tbody>\n",
       "</table>\n",
       "</div>"
      ],
      "text/plain": [
       "   P0020001  P0040001\n",
       "0    3345.0    2917.0\n",
       "1    1511.0    1222.0\n",
       "2    2887.0    2441.0\n",
       "3    3560.0    2786.0\n",
       "4    1378.0    1090.0"
      ]
     },
     "execution_count": 84,
     "metadata": {},
     "output_type": "execute_result"
    }
   ],
   "source": [
    "vest21[pop_cols].head()"
   ]
  },
  {
   "cell_type": "markdown",
   "id": "ca2ca05a-cd5b-4c2b-baf5-5e5f4baf31d4",
   "metadata": {},
   "source": [
    "#### Check that we didn't gain/lose any population in the aggregation step:\n"
   ]
  },
  {
   "cell_type": "code",
   "execution_count": 82,
   "id": "620f13a1-ce97-4f4f-9e44-928b044b66e6",
   "metadata": {},
   "outputs": [
    {
     "data": {
      "text/plain": [
       "P0020001    8631393\n",
       "P0040001    6745054\n",
       "dtype: int64"
      ]
     },
     "execution_count": 82,
     "metadata": {},
     "output_type": "execute_result"
    }
   ],
   "source": [
    "population_df[pop_cols].sum()"
   ]
  },
  {
   "cell_type": "code",
   "execution_count": 85,
   "id": "cfb4a792-f6df-45ea-b4a7-9369136835c9",
   "metadata": {},
   "outputs": [
    {
     "data": {
      "text/plain": [
       "P0020001    8631389.0\n",
       "P0040001    6745051.0\n",
       "dtype: float64"
      ]
     },
     "execution_count": 85,
     "metadata": {},
     "output_type": "execute_result"
    }
   ],
   "source": [
    "vest21[pop_cols].sum()"
   ]
  },
  {
   "cell_type": "markdown",
   "id": "ac39048c-03dc-4470-ae8c-b741ccfd7d54",
   "metadata": {},
   "source": [
    "#### Since we see above the Populations do not match, so lets try with vest 20 dataset"
   ]
  },
  {
   "cell_type": "code",
   "execution_count": 86,
   "id": "302e10e4-716d-4b0d-a428-4f789eb7b92a",
   "metadata": {},
   "outputs": [],
   "source": [
    "vest20[pop_cols] = population_df[pop_cols].groupby(blocks_to_precincts2020_assignment).sum()"
   ]
  },
  {
   "cell_type": "code",
   "execution_count": 88,
   "id": "88e0f55b-0ee5-4531-9eeb-9aa688a8a371",
   "metadata": {},
   "outputs": [
    {
     "name": "stdout",
     "output_type": "stream",
     "text": [
      "P0020001    8631393\n",
      "P0040001    6745054\n",
      "dtype: int64\n",
      "P0020001    8631389.0\n",
      "P0040001    6745051.0\n",
      "dtype: float64\n"
     ]
    }
   ],
   "source": [
    "print(population_df[pop_cols].sum())\n",
    "print(vest20[pop_cols].sum())"
   ]
  },
  {
   "cell_type": "code",
   "execution_count": 89,
   "id": "4e951669-32f5-435e-8d1b-49f2346a96be",
   "metadata": {},
   "outputs": [
    {
     "name": "stdout",
     "output_type": "stream",
     "text": [
      "P0020001    8631393\n",
      "P0040001    6745054\n",
      "dtype: int64\n",
      "P0020001    8631389.0\n",
      "P0040001    6745051.0\n",
      "dtype: float64\n"
     ]
    }
   ],
   "source": [
    "vest18[pop_cols] = population_df[pop_cols].groupby(blocks_to_precincts2018_assignment).sum()\n",
    "print(population_df[pop_cols].sum())\n",
    "print(vest18[pop_cols].sum())"
   ]
  },
  {
   "cell_type": "code",
   "execution_count": 90,
   "id": "c78167a4-b799-436b-82b2-d892ca96aa56",
   "metadata": {},
   "outputs": [
    {
     "name": "stdout",
     "output_type": "stream",
     "text": [
      "P0020001    8631393\n",
      "P0040001    6745054\n",
      "dtype: int64\n",
      "P0020001    8631389.0\n",
      "P0040001    6745051.0\n",
      "dtype: float64\n"
     ]
    }
   ],
   "source": [
    "vest17[pop_cols] = population_df[pop_cols].groupby(blocks_to_precincts2017_assignment).sum()\n",
    "print(population_df[pop_cols].sum())\n",
    "print(vest17[pop_cols].sum())"
   ]
  },
  {
   "cell_type": "code",
   "execution_count": 91,
   "id": "b78774c9-f99b-449a-9053-9d237ced78bb",
   "metadata": {},
   "outputs": [
    {
     "name": "stdout",
     "output_type": "stream",
     "text": [
      "P0020001    8631393\n",
      "P0040001    6745054\n",
      "dtype: int64\n",
      "P0020001    8631389.0\n",
      "P0040001    6745051.0\n",
      "dtype: float64\n"
     ]
    }
   ],
   "source": [
    "vest16[pop_cols] = population_df[pop_cols].groupby(blocks_to_precincts2016_assignment).sum()\n",
    "print(population_df[pop_cols].sum())\n",
    "print(vest16[pop_cols].sum())"
   ]
  },
  {
   "cell_type": "markdown",
   "id": "113e0814-86e1-4faf-828d-94704f0e91df",
   "metadata": {},
   "source": [
    "#### Analysis: Since we checked that none of vest populations are matching to its corresponding values for population dataframe, we need to use smart repair with one more paramter nest_within_regions = cong_df "
   ]
  },
  {
   "cell_type": "code",
   "execution_count": 95,
   "id": "06a45e0c-ddac-4716-a5d5-d3142ddfecdf",
   "metadata": {},
   "outputs": [
    {
     "name": "stderr",
     "output_type": "stream",
     "text": [
      "100%|██████████████████████████████████████| 2477/2477 [00:11<00:00, 220.99it/s]\n"
     ]
    },
    {
     "name": "stdout",
     "output_type": "stream",
     "text": [
      "There are 58 overlaps.\n",
      "There are 587 holes.\n"
     ]
    },
    {
     "name": "stderr",
     "output_type": "stream",
     "text": [
      "100%|███████████████████████████████████████████| 11/11 [00:00<00:00, 22.75it/s]\n"
     ]
    },
    {
     "name": "stdout",
     "output_type": "stream",
     "text": [
      "Snapping all geometries to a grid with precision 10^( -5 ) to avoid GEOS errors.\n"
     ]
    },
    {
     "name": "stderr",
     "output_type": "stream",
     "text": [
      "100%|███████████████████████████████████████████| 11/11 [00:02<00:00,  3.99it/s]\n",
      "100%|███████████████████████████████████████████| 11/11 [00:00<00:00, 24.97it/s]\n"
     ]
    },
    {
     "name": "stdout",
     "output_type": "stream",
     "text": [
      "Identifying overlaps...\n"
     ]
    },
    {
     "name": "stderr",
     "output_type": "stream",
     "text": [
      "100%|██████████████████████████████████████| 2770/2770 [00:14<00:00, 192.02it/s]\n"
     ]
    },
    {
     "name": "stdout",
     "output_type": "stream",
     "text": [
      "Resolving overlaps and filling gaps...\n"
     ]
    },
    {
     "name": "stderr",
     "output_type": "stream",
     "text": [
      "100%|███████████████████████████████████████████| 11/11 [00:02<00:00,  4.12it/s]\n",
      "100%|███████████████████████████████████████████| 11/11 [00:00<00:00, 25.85it/s]\n"
     ]
    },
    {
     "name": "stdout",
     "output_type": "stream",
     "text": [
      "2 gaps in region 0 will remain unfilled, because they either are not simply connected or exceed the area threshold.\n"
     ]
    },
    {
     "name": "stderr",
     "output_type": "stream",
     "text": [
      "Gaps to simplify in region 0: 100%|█████████████| 20/20 [00:02<00:00,  8.12it/s]\n",
      "Gaps to fill in region 0: 100%|███████████████████| 2/2 [00:00<00:00,  4.54it/s]\n"
     ]
    },
    {
     "name": "stdout",
     "output_type": "stream",
     "text": [
      "1 gaps in region 1 will remain unfilled, because they either are not simply connected or exceed the area threshold.\n"
     ]
    },
    {
     "name": "stderr",
     "output_type": "stream",
     "text": [
      "Gaps to simplify in region 1: 100%|█████████████| 14/14 [00:02<00:00,  5.47it/s]\n",
      "Gaps to fill in region 1: 100%|███████████████████| 4/4 [00:02<00:00,  1.94it/s]\n"
     ]
    },
    {
     "name": "stdout",
     "output_type": "stream",
     "text": [
      "1 gaps in region 2 will remain unfilled, because they either are not simply connected or exceed the area threshold.\n"
     ]
    },
    {
     "name": "stderr",
     "output_type": "stream",
     "text": [
      "Gaps to simplify in region 2: 100%|█████████████| 15/15 [00:01<00:00,  8.55it/s]\n",
      "Gaps to fill in region 2: 100%|███████████████████| 9/9 [00:00<00:00, 11.67it/s]\n"
     ]
    },
    {
     "name": "stdout",
     "output_type": "stream",
     "text": [
      "2 gaps in region 3 will remain unfilled, because they either are not simply connected or exceed the area threshold.\n"
     ]
    },
    {
     "name": "stderr",
     "output_type": "stream",
     "text": [
      "Gaps to simplify in region 3: 100%|███████████████| 6/6 [00:00<00:00, 11.49it/s]\n",
      "Gaps to fill in region 3: 100%|███████████████████| 1/1 [00:00<00:00, 15.82it/s]\n"
     ]
    },
    {
     "name": "stdout",
     "output_type": "stream",
     "text": [
      "1 gaps in region 4 will remain unfilled, because they either are not simply connected or exceed the area threshold.\n"
     ]
    },
    {
     "name": "stderr",
     "output_type": "stream",
     "text": [
      "Gaps to simplify in region 4: 100%|█████████████| 10/10 [00:05<00:00,  1.81it/s]\n",
      "Gaps to fill in region 4: 100%|███████████████████| 5/5 [00:01<00:00,  4.15it/s]\n",
      "Gaps to simplify in region 5: 100%|█████████████| 18/18 [00:03<00:00,  4.89it/s]\n",
      "Gaps to fill in region 5: 100%|███████████████████| 2/2 [00:00<00:00,  4.53it/s]\n"
     ]
    },
    {
     "name": "stdout",
     "output_type": "stream",
     "text": [
      "1 gaps in region 6 will remain unfilled, because they either are not simply connected or exceed the area threshold.\n"
     ]
    },
    {
     "name": "stderr",
     "output_type": "stream",
     "text": [
      "Gaps to simplify in region 6: 100%|█████████████| 21/21 [00:02<00:00,  7.60it/s]\n",
      "Gaps to fill in region 6: 100%|███████████████████| 2/2 [00:00<00:00,  4.57it/s]\n"
     ]
    },
    {
     "name": "stdout",
     "output_type": "stream",
     "text": [
      "1 gaps in region 7 will remain unfilled, because they either are not simply connected or exceed the area threshold.\n"
     ]
    },
    {
     "name": "stderr",
     "output_type": "stream",
     "text": [
      "Gaps to simplify in region 7: 100%|█████████████| 11/11 [00:14<00:00,  1.30s/it]\n",
      "Gaps to fill in region 7: 100%|███████████████████| 3/3 [00:00<00:00,  6.32it/s]\n",
      "Gaps to simplify in region 8: 100%|█████████████| 20/20 [00:04<00:00,  4.01it/s]\n",
      "Gaps to fill: 0it [00:00, ?it/s]\n",
      "Gaps to simplify in region 9: 100%|█████████████| 21/21 [01:12<00:00,  3.45s/it]\n",
      "Gaps to fill in region 9: 100%|███████████████████| 6/6 [00:13<00:00,  2.30s/it]\n"
     ]
    },
    {
     "name": "stdout",
     "output_type": "stream",
     "text": [
      "7 gaps in region 10 will remain unfilled, because they either are not simply connected or exceed the area threshold.\n"
     ]
    },
    {
     "name": "stderr",
     "output_type": "stream",
     "text": [
      "Gaps to simplify in region 10: 100%|██████████████| 4/4 [00:12<00:00,  3.23s/it]\n",
      "Gaps to fill in region 10: 100%|████████████████| 17/17 [00:02<00:00,  8.40it/s]\n"
     ]
    },
    {
     "name": "stdout",
     "output_type": "stream",
     "text": [
      "WARNING: A component of the geometry at index 597 may have been disconnected!\n",
      "WARNING: A component of the geometry at index 1990 may have been disconnected!\n"
     ]
    },
    {
     "name": "stderr",
     "output_type": "stream",
     "text": [
      "100%|██████████████████████████████████████| 2477/2477 [00:10<00:00, 243.18it/s]\n"
     ]
    },
    {
     "name": "stdout",
     "output_type": "stream",
     "text": [
      "There are 15 holes.\n",
      "smart_repair failed\n"
     ]
    },
    {
     "name": "stderr",
     "output_type": "stream",
     "text": [
      "100%|██████████████████████████████████████| 2477/2477 [00:12<00:00, 205.71it/s]\n"
     ]
    },
    {
     "name": "stdout",
     "output_type": "stream",
     "text": [
      "There are 58 overlaps.\n",
      "There are 587 holes.\n",
      "False\n"
     ]
    }
   ],
   "source": [
    "vest20 = gpd.read_file(vest20_data)\n",
    "\n",
    "start_col = 5 # this should be the same for all vest data in that state\n",
    "original_col = vest20.columns[start_col:-1]\n",
    "new_col = [rename(i, '20') for i in original_col]\n",
    "rename_dict = dict(zip(original_col, new_col))\n",
    "vest20 = vest20.rename(columns=rename_dict)\n",
    "vest20 = vest20.groupby(level=0, axis=1).sum()\n",
    "vest20 = gpd.GeoDataFrame(vest20, crs=\"EPSG:4269\")\n",
    "\n",
    "cong_df = gpd.read_file(cd_data)\n",
    "if maup.doctor(vest20) != True:\n",
    "    do_nested_smart_repair(vest20, cong_df)\n",
    "    print(maup.doctor(vest20))"
   ]
  },
  {
   "cell_type": "code",
   "execution_count": null,
   "id": "2298b5f3-5e83-4f90-b2e3-9260ecff3b56",
   "metadata": {},
   "outputs": [],
   "source": [
    "blocks_to_precincts2020_assignment = blocks_to_precincts(population_df.geometry, vest20.geometry)"
   ]
  },
  {
   "cell_type": "code",
   "execution_count": null,
   "id": "96065d94-2bbb-4771-a1bc-aa02f4529767",
   "metadata": {},
   "outputs": [],
   "source": [
    "vest20[pop_cols] = population_df[pop_cols].groupby(blocks_to_precincts2020_assignment).sum()\n",
    "print(population_df[pop_cols].sum())\n",
    "print(vest20[pop_cols].sum())"
   ]
  },
  {
   "cell_type": "code",
   "execution_count": null,
   "id": "9a86c9d3-214e-472e-9e9f-9b0c1a4f7fa8",
   "metadata": {},
   "outputs": [],
   "source": []
  }
 ],
 "metadata": {
  "kernelspec": {
   "display_name": "Python 3 (ipykernel)",
   "language": "python",
   "name": "python3"
  },
  "language_info": {
   "codemirror_mode": {
    "name": "ipython",
    "version": 3
   },
   "file_extension": ".py",
   "mimetype": "text/x-python",
   "name": "python",
   "nbconvert_exporter": "python",
   "pygments_lexer": "ipython3",
   "version": "3.12.1"
  }
 },
 "nbformat": 4,
 "nbformat_minor": 5
}

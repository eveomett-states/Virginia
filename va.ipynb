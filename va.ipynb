{
 "cells": [
  {
   "cell_type": "markdown",
   "id": "b27fe5ba-9ba4-464d-bf97-2d6c17c72336",
   "metadata": {},
   "source": [
    "## Data Retrieved"
   ]
  },
  {
   "cell_type": "markdown",
   "id": "542bef2f-131a-475f-85e2-4f24a6df7db4",
   "metadata": {},
   "source": [
    "USF All data retrieved 04/30/24:\n",
    "https://redistrictingdatahub.org/dataset/virginia-block-pl-94171-2020-by-table/\n",
    "https://redistrictingdatahub.org/dataset/vest-2020-virginia-precinct-boundaries-and-election-results-shapefile/\n",
    "https://redistrictingdatahub.org/dataset/2021-virginia-congressional-districts-approved-plan/\n",
    "\n",
    "https://redistrictingdatahub.org/dataset/vest-2018-virginia-precinct-and-election-results/\n",
    "https://redistrictingdatahub.org/dataset/vest-2016-virginia-precinct-and-election-results/\n",
    "https://redistrictingdatahub.org/dataset/vest-2021-virginia-precinct-boundaries-and-election-results-shapefile/\n",
    "https://redistrictingdatahub.org/dataset/vest-2017-virginia-precinct-boundaries-and-election-results-shapefile/\n",
    "\n",
    "https://redistrictingdatahub.org/dataset/2021-senate-of-virginia-districts-approved-plan/\n",
    "https://redistrictingdatahub.org/dataset/2021-virginia-house-of-delegates-districts-approved-plan/"
   ]
  },
  {
   "cell_type": "code",
   "execution_count": 3,
   "id": "97be400b-13a5-4a2c-bf18-060019c6fe8a",
   "metadata": {},
   "outputs": [],
   "source": [
    "import pandas as pd\n",
    "import geopandas as gpd\n",
    "import maup\n",
    "import time\n",
    "from maup import smart_repair\n",
    "from gerrychain import Graph\n",
    "\n",
    "maup.progress.enabled = True"
   ]
  },
  {
   "cell_type": "code",
   "execution_count": 4,
   "id": "21720c83-4c11-4c01-9ac6-932271c1f00b",
   "metadata": {},
   "outputs": [],
   "source": [
    "import warnings\n",
    "warnings.filterwarnings(\"ignore\")"
   ]
  },
  {
   "cell_type": "code",
   "execution_count": 5,
   "id": "78aa544f-7cfe-47d6-99c3-5b9a67422e13",
   "metadata": {},
   "outputs": [],
   "source": [
    "# state = Virginia\n",
    "state_ab = \"va\""
   ]
  },
  {
   "cell_type": "markdown",
   "id": "9e4b4f49-67d5-4296-9484-1ae5631613f3",
   "metadata": {},
   "source": [
    "## Data\n",
    "1. Download all the data in directory \"va_data\"\n",
    "2. Extract them all"
   ]
  },
  {
   "cell_type": "code",
   "execution_count": 7,
   "id": "f9715959-1d22-4644-8f00-2957248fd4ce",
   "metadata": {},
   "outputs": [],
   "source": [
    "data_folder = state_ab + \"_data/\"\n",
    "population1_data = \"./{}{}_pl2020_b/{}_pl2020_p1_b.shp\".format(data_folder, state_ab, state_ab)\n",
    "population2_data = \"./{}{}_pl2020_b/{}_pl2020_p2_b.shp\".format(data_folder, state_ab, state_ab)\n",
    "vap_data =  \"./{}{}_pl2020_b/{}_pl2020_p4_b.shp\".format(data_folder, state_ab, state_ab)\n",
    "vest21_data = \"./{}{}_vest_21/{}_vest_21.shp\".format(data_folder, state_ab, state_ab)\n",
    "vest20_data = \"./{}{}_vest_20/{}_vest_20.shp\".format(data_folder, state_ab, state_ab)\n",
    "vest18_data = \"./{}{}_vest_18/{}_vest_18.shp\".format(data_folder, state_ab, state_ab)\n",
    "vest17_data = \"./{}{}_vest_17/{}_vest_17.shp\".format(data_folder, state_ab, state_ab)\n",
    "vest16_data = \"./{}{}_vest_16/{}_vest_16.shp\".format(data_folder, state_ab, state_ab)\n",
    "cd_data = \"./{}{}_cong_adopted_2021/SCV FINAL CD.shp\".format(data_folder, state_ab)\n",
    "send_data = \"./{}{}_sldu_adopted_2021/SCV FINAL SD.shp\".format(data_folder, state_ab)\n",
    "hdist_data = \"./{}{}_sldl_adopted_2021/SCV FINAL HOD.shp\".format(data_folder, state_ab)\n",
    "county_data = \"./{}{}_pl2020_cnty/{}_pl2020_cnty.shp\".format(data_folder, state_ab, state_ab)"
   ]
  },
  {
   "cell_type": "code",
   "execution_count": 8,
   "id": "43468832-9663-4f4c-9a0c-7649da99a9e3",
   "metadata": {},
   "outputs": [],
   "source": [
    "def do_smart_repair(df, min_rook_length = None, snap_precision = 10):\n",
    "    # change it to the UTM it needs for smart_repair\n",
    "    df = df.to_crs(df.estimate_utm_crs())\n",
    "    df = smart_repair(df, min_rook_length = min_rook_length)\n",
    "\n",
    "    if maup.doctor(df) == False:\n",
    "        raise Exception('maup.doctor failed')\n",
    "    \n",
    "    return df"
   ]
  },
  {
   "cell_type": "code",
   "execution_count": 9,
   "id": "60f35324-63c4-475b-a1b6-132efa1a56ea",
   "metadata": {},
   "outputs": [],
   "source": [
    "def add_district(dist_df, dist_name, election_df, col_name):\n",
    "    election_df = election_df.to_crs(election_df.estimate_utm_crs())\n",
    "    dist_df = dist_df.to_crs(dist_df.estimate_utm_crs())\n",
    "    # check if it needs to be smart_repair\n",
    "    if maup.doctor(dist_df) != True:\n",
    "        dist_df = do_smart_repair(dist_df)\n",
    "\n",
    "    # assign the pricincts\n",
    "    precincts_to_district_assignment = maup.assign(election_df.geometry, dist_df.geometry)\n",
    "    election_df[dist_name] = precincts_to_district_assignment\n",
    "    for precinct_index in range(len(election_df)):\n",
    "        election_df.at[precinct_index, dist_name] = dist_df.at[election_df.at[precinct_index, dist_name], col_name]\n",
    "\n",
    "    return election_df"
   ]
  },
  {
   "cell_type": "code",
   "execution_count": 10,
   "id": "c171f560-cff2-4579-85c3-f9806f2148c6",
   "metadata": {},
   "outputs": [],
   "source": [
    "def rename(original, year):\n",
    "    party = original[6]\n",
    "    if party == 'R' or party == 'D':\n",
    "        return original[3:6] + year + original[6]\n",
    "    else:\n",
    "        return original[3:6] + year + 'O'"
   ]
  },
  {
   "cell_type": "code",
   "execution_count": 11,
   "id": "91246499",
   "metadata": {},
   "outputs": [],
   "source": [
    "pop_col = ['TOTPOP', 'HISP', 'NH_WHITE', 'NH_BLACK', 'NH_AMIN', 'NH_ASIAN', 'NH_NHPI', 'NH_OTHER', 'NH_2MORE', 'H_WHITE', 'H_BLACK', 'H_AMIN', 'H_ASIAN', 'H_NHPI', 'H_OTHER', 'H_2MORE', 'VAP', 'HVAP', 'WVAP', 'BVAP', 'AMINVAP', 'ASIANVAP', 'NHPIVAP', 'OTHERVAP', '2MOREVAP']"
   ]
  },
  {
   "cell_type": "code",
   "execution_count": 12,
   "id": "44116067",
   "metadata": {},
   "outputs": [],
   "source": [
    "def check_population(population, df):\n",
    "    pop_check = pd.DataFrame({\n",
    "        'pop_col': pop_col,\n",
    "        'population_df': population[pop_col].sum(), \n",
    "        'vest_base': df[pop_col].sum(),\n",
    "        'equal': [x == y for x, y in zip(population[pop_col].sum(), df[pop_col].sum())]\n",
    "    })\n",
    "    if pop_check['equal'].mean() < 1:\n",
    "        print(pop_check)\n",
    "        raise Exception(\"population doesn't agree\")\n",
    "\n",
    "    else:\n",
    "        print(\"population agrees\")"
   ]
  },
  {
   "cell_type": "code",
   "execution_count": 13,
   "id": "ce742e28",
   "metadata": {},
   "outputs": [],
   "source": [
    "def add_vest(vest, df, year, population, start_col, snap_precision = 10):\n",
    "    df = df.to_crs(df.estimate_utm_crs())\n",
    "    vest = vest.to_crs(vest.estimate_utm_crs())\n",
    "    population = population.to_crs(population.estimate_utm_crs())\n",
    "    df_crs = df.crs\n",
    "    vest_crs = vest.crs\n",
    "    \n",
    "     # check if it needs to be smart_repair\n",
    "    if maup.doctor(vest) != True:\n",
    "        vest = do_smart_repair(vest, snap_precision = snap_precision)\n",
    "    \n",
    "    # rename the columns\n",
    "    original_col = vest.columns[start_col:-1]\n",
    "    new_col = [rename(i, year) for i in original_col]\n",
    "    rename_dict = dict(zip(original_col, new_col))\n",
    "    vest = vest.rename(columns=rename_dict)\n",
    "    vest = vest.groupby(level=0, axis=1).sum() # combine all the other party's vote into columns with sufix \"O\"\n",
    "    col_name = list(set(new_col))\n",
    "    col_name.sort()\n",
    "    \n",
    "    # make the blocks from precincts by weight\n",
    "    vest = gpd.GeoDataFrame(vest, crs=vest_crs)\n",
    "    election_in_block = population[[\"VAP\", 'geometry']] # population_df is in block scale\n",
    "    blocks_to_precincts_assignment = maup.assign(election_in_block.geometry, vest.geometry)\n",
    "    weights = election_in_block[\"VAP\"] / blocks_to_precincts_assignment.map(election_in_block[\"VAP\"].groupby(blocks_to_precincts_assignment).sum())\n",
    "    weights = weights.fillna(0)\n",
    "    prorated = maup.prorate(blocks_to_precincts_assignment, vest[col_name], weights)\n",
    "    election_in_block[col_name] = prorated\n",
    "    \n",
    "    # assign blocks to precincts\n",
    "    election_in_block = gpd.GeoDataFrame(election_in_block, crs=vest_crs)\n",
    "    df = gpd.GeoDataFrame(df, crs=df_crs)\n",
    "    block_to_pricinct_assginment = maup.assign(election_in_block.geometry, df.geometry)\n",
    "    df[col_name] = election_in_block[col_name].groupby(block_to_pricinct_assginment).sum()\n",
    "    df = df.groupby(level=0, axis=1).sum()\n",
    "    df = gpd.GeoDataFrame(df, crs = df_crs)\n",
    "    # check if population agrees\n",
    "    check_population(population, df)\n",
    "    \n",
    "    return df"
   ]
  },
  {
   "cell_type": "code",
   "execution_count": 14,
   "id": "58c7506e-9ccb-4bc9-834a-ce10882ddd04",
   "metadata": {},
   "outputs": [],
   "source": [
    "def add_vest_base(vest, start_col, year, county = None, min_rook_length = None, snap_precision = 10):\n",
    "    vest = vest.to_crs(vest.estimate_utm_crs())\n",
    "    vest_crs = vest.crs\n",
    "    original_col = vest.columns[start_col:-1]\n",
    "    new_col = [rename(i, year) for i in original_col]\n",
    "    rename_dict = dict(zip(original_col, new_col))\n",
    "    vest = vest.rename(columns=rename_dict)\n",
    "    vest = vest.groupby(level=0, axis=1).sum()\n",
    "    vest = gpd.GeoDataFrame(vest, crs=vest_crs)\n",
    "\n",
    "    if county is not None:\n",
    "        county = county.to_crs(county.estimate_utm_crs())\n",
    "        vest = smart_repair(vest, nest_within_regions = county, min_rook_length = min_rook_length, snap_precision = snap_precision) # nest precincts within counties\n",
    "\n",
    "    else:\n",
    "        vest = smart_repair(vest, min_rook_length = min_rook_length, snap_precision = snap_precision) \n",
    "    \n",
    "    return vest"
   ]
  },
  {
   "cell_type": "code",
   "execution_count": 15,
   "id": "e118ef05-06f1-476e-98ea-f52ed58358cf",
   "metadata": {},
   "outputs": [],
   "source": [
    "def check_small_boundary_lengths(vest_base):\n",
    "    import copy\n",
    "    vest_base = vest_base.to_crs(vest_base.estimate_utm_crs())\n",
    "\n",
    "    boundaries = copy.deepcopy(vest_base)\n",
    "    boundaries[\"geometry\"] = boundaries.geometry.boundary  # get boundaries\n",
    "    neighbors = gpd.sjoin(boundaries, vest_base, predicate=\"intersects\") # find boundaries that intersect\n",
    "    neighbors = neighbors[neighbors.index != neighbors.index_right] # remove boundaries of a region with itself\n",
    "\n",
    "    # compute shared border length using intersection\n",
    "    borders = list(neighbors.apply(\n",
    "        lambda row: row.geometry.intersection(vest_base.loc[row.index_right, \"geometry\"]).length, axis=1\n",
    "    ))\n",
    "\n",
    "    borders.sort()\n",
    "    \n",
    "    return borders"
   ]
  },
  {
   "cell_type": "markdown",
   "id": "44238acb-c1b6-4b87-961b-243b3840995e",
   "metadata": {},
   "source": [
    "### Read the census data"
   ]
  },
  {
   "cell_type": "code",
   "execution_count": 17,
   "id": "fdbbeeb9-d2f9-4f62-9425-0862778f1e56",
   "metadata": {},
   "outputs": [],
   "source": [
    "population1_df = gpd.read_file(population1_data)\n",
    "population2_df = gpd.read_file(population2_data)\n",
    "vap_df = gpd.read_file(vap_data)\n",
    "county_df = gpd.read_file(county_data)"
   ]
  },
  {
   "cell_type": "code",
   "execution_count": 18,
   "id": "6f07afcf-aba3-4f3c-b826-7c5458ef5b8a",
   "metadata": {},
   "outputs": [],
   "source": [
    "population2_df = population2_df.drop(columns=['SUMLEV', 'LOGRECNO', 'GEOID', 'COUNTY', 'geometry'])\n",
    "vap_df = vap_df.drop(columns=['SUMLEV', 'LOGRECNO', 'GEOID', 'COUNTY', 'geometry'])"
   ]
  },
  {
   "cell_type": "code",
   "execution_count": 35,
   "id": "9d560222-1af2-4ccb-a794-1430bd335efb",
   "metadata": {},
   "outputs": [],
   "source": [
    "population_df = pd.merge(population1_df, population2_df, on='GEOID20')\n",
    "population_df = pd.merge(population_df, vap_df, on='GEOID20')\n",
    "population_df = population_df.to_crs(population_df.estimate_utm_crs())"
   ]
  },
  {
   "cell_type": "code",
   "execution_count": 36,
   "id": "47022c58-9875-492e-8f29-45d668d01f5d",
   "metadata": {},
   "outputs": [
    {
     "name": "stderr",
     "output_type": "stream",
     "text": [
      "100%|█████████████████████████████████| 163491/163491 [01:12<00:00, 2263.75it/s]\n"
     ]
    },
    {
     "data": {
      "text/plain": [
       "True"
      ]
     },
     "execution_count": 36,
     "metadata": {},
     "output_type": "execute_result"
    }
   ],
   "source": [
    "maup.doctor(population_df)"
   ]
  },
  {
   "cell_type": "code",
   "execution_count": 37,
   "id": "49ecc1ed-947c-4a62-93bb-d564f63a71f0",
   "metadata": {},
   "outputs": [],
   "source": [
    "population_df['H_WHITE'] = population_df.apply(lambda t: t['P0010003'] - t['P0020005'], 1)\n",
    "population_df['H_BLACK'] = population_df.apply(lambda t: t['P0010004'] - t['P0020006'], 1)\n",
    "population_df['H_AMIN'] = population_df.apply(lambda t: t['P0010005'] - t['P0020007'], 1)\n",
    "population_df['H_ASIAN'] = population_df.apply(lambda t: t['P0010006'] - t['P0020008'], 1)\n",
    "population_df['H_NHPI'] = population_df.apply(lambda t: t['P0010007'] - t['P0020009'], 1)\n",
    "population_df['H_OTHER'] = population_df.apply(lambda t: t['P0010008'] - t['P0020010'], 1)\n",
    "population_df['H_2MORE'] = population_df.apply(lambda t: t['P0010009'] - t['P0020011'], 1)"
   ]
  },
  {
   "cell_type": "code",
   "execution_count": 38,
   "id": "0bb87815",
   "metadata": {},
   "outputs": [],
   "source": [
    "rename_dict = {'P0020001': 'TOTPOP', 'P0020002': 'HISP', 'P0020005': 'NH_WHITE', 'P0020006': 'NH_BLACK', 'P0020007': 'NH_AMIN',\n",
    "                    'P0020008': 'NH_ASIAN', 'P0020009': 'NH_NHPI', 'P0020010': 'NH_OTHER', 'P0020011': 'NH_2MORE',\n",
    "                    'P0040001': 'VAP', 'P0040002': 'HVAP', 'P0040005': 'WVAP', 'P0040006': 'BVAP', 'P0040007': 'AMINVAP',\n",
    "                                        'P0040008': 'ASIANVAP', 'P0040009': 'NHPIVAP', 'P0040010': 'OTHERVAP', 'P0040011': '2MOREVAP'}"
   ]
  },
  {
   "cell_type": "code",
   "execution_count": 39,
   "id": "9f489b5c",
   "metadata": {},
   "outputs": [],
   "source": [
    "population_df.rename(columns=rename_dict, inplace = True)"
   ]
  },
  {
   "cell_type": "code",
   "execution_count": 40,
   "id": "e2895b0c",
   "metadata": {},
   "outputs": [
    {
     "name": "stderr",
     "output_type": "stream",
     "text": [
      "100%|████████████████████████████████████████| 133/133 [00:00<00:00, 201.39it/s]\n"
     ]
    },
    {
     "data": {
      "text/plain": [
       "True"
      ]
     },
     "execution_count": 40,
     "metadata": {},
     "output_type": "execute_result"
    }
   ],
   "source": [
    "maup.doctor(county_df)"
   ]
  },
  {
   "cell_type": "markdown",
   "id": "c2091314-91dc-415f-a3c1-183a5dc4db05",
   "metadata": {},
   "source": [
    "## Read the vest 20 data\n",
    "\n",
    "Now using it as a \"base pricinct\""
   ]
  },
  {
   "cell_type": "markdown",
   "id": "cbf75de4",
   "metadata": {},
   "source": [
    "## Check if vest20 can be used as base"
   ]
  },
  {
   "cell_type": "code",
   "execution_count": 43,
   "id": "20fd0020",
   "metadata": {},
   "outputs": [],
   "source": [
    "vest20 = gpd.read_file(vest20_data)"
   ]
  },
  {
   "cell_type": "code",
   "execution_count": 44,
   "id": "5f823a48",
   "metadata": {},
   "outputs": [
    {
     "data": {
      "text/plain": [
       "Index(['COUNTYFP', 'LOCALITY', 'VTDST', 'PRECINCT', 'G20PREDBID', 'G20PRERTRU',\n",
       "       'G20PRELJOR', 'G20PREOWRI', 'G20USSDWAR', 'G20USSRGAD', 'G20USSOWRI',\n",
       "       'geometry'],\n",
       "      dtype='object')"
      ]
     },
     "execution_count": 44,
     "metadata": {},
     "output_type": "execute_result"
    }
   ],
   "source": [
    "vest20.columns"
   ]
  },
  {
   "cell_type": "code",
   "execution_count": 45,
   "id": "cc7aaccc",
   "metadata": {},
   "outputs": [],
   "source": [
    "start_col = 4\n",
    "vest_base_data = vest20\n",
    "year = '20'"
   ]
  },
  {
   "cell_type": "code",
   "execution_count": 46,
   "id": "556ed71f",
   "metadata": {},
   "outputs": [
    {
     "name": "stderr",
     "output_type": "stream",
     "text": [
      "100%|████████████████████████████████████████| 133/133 [00:00<00:00, 215.24it/s]\n"
     ]
    },
    {
     "name": "stdout",
     "output_type": "stream",
     "text": [
      "Snapping all geometries to a grid with precision 10^( -5 ) to avoid GEOS errors.\n"
     ]
    },
    {
     "name": "stderr",
     "output_type": "stream",
     "text": [
      "100%|█████████████████████████████████████████| 133/133 [00:01<00:00, 99.67it/s]\n",
      "100%|████████████████████████████████████████| 133/133 [00:00<00:00, 546.35it/s]\n"
     ]
    },
    {
     "name": "stdout",
     "output_type": "stream",
     "text": [
      "Identifying overlaps...\n"
     ]
    },
    {
     "name": "stderr",
     "output_type": "stream",
     "text": [
      "100%|█████████████████████████████████████| 2786/2786 [00:02<00:00, 1200.63it/s]\n"
     ]
    },
    {
     "name": "stdout",
     "output_type": "stream",
     "text": [
      "Resolving overlaps and filling gaps...\n"
     ]
    },
    {
     "name": "stderr",
     "output_type": "stream",
     "text": [
      "100%|█████████████████████████████████████████| 133/133 [00:01<00:00, 98.98it/s]\n",
      "100%|████████████████████████████████████████| 133/133 [00:00<00:00, 559.12it/s]\n",
      "Gaps to simplify: 0it [00:00, ?it/s]\n",
      "Gaps to fill: 0it [00:00, ?it/s]\n",
      "Gaps to simplify: 0it [00:00, ?it/s]\n",
      "Gaps to fill: 0it [00:00, ?it/s]\n",
      "Gaps to simplify in region 2: 100%|███████████████| 2/2 [00:00<00:00,  2.49it/s]\n",
      "Gaps to fill: 0it [00:00, ?it/s]\n",
      "Gaps to simplify in region 3: 100%|███████████████| 1/1 [00:00<00:00, 64.52it/s]\n"
     ]
    },
    {
     "name": "stdout",
     "output_type": "stream",
     "text": [
      "Found a component of the region at index 3 that does not intersect any geometry assigned to that region.\n"
     ]
    },
    {
     "name": "stderr",
     "output_type": "stream",
     "text": [
      "Gaps to fill: 0it [00:00, ?it/s]\n",
      "Gaps to simplify in region 4: 100%|██████████████| 1/1 [00:00<00:00, 127.88it/s]\n",
      "Gaps to fill: 0it [00:00, ?it/s]\n",
      "Gaps to simplify: 0it [00:00, ?it/s]\n",
      "Gaps to fill: 0it [00:00, ?it/s]\n",
      "Gaps to simplify: 0it [00:00, ?it/s]\n",
      "Gaps to fill: 0it [00:00, ?it/s]\n",
      "Gaps to simplify in region 7: 100%|██████████████| 1/1 [00:00<00:00, 158.61it/s]\n",
      "Gaps to fill: 0it [00:00, ?it/s]\n",
      "Gaps to simplify: 0it [00:00, ?it/s]\n",
      "Gaps to fill: 0it [00:00, ?it/s]\n",
      "Gaps to simplify in region 9: 100%|███████████████| 1/1 [00:00<00:00, 61.54it/s]\n",
      "Gaps to fill: 0it [00:00, ?it/s]\n",
      "Gaps to simplify in region 10: 100%|██████████████| 3/3 [00:00<00:00, 94.23it/s]\n",
      "Gaps to fill: 0it [00:00, ?it/s]\n",
      "Gaps to simplify: 0it [00:00, ?it/s]\n",
      "Gaps to fill: 0it [00:00, ?it/s]\n",
      "Gaps to simplify: 0it [00:00, ?it/s]\n",
      "Gaps to fill: 0it [00:00, ?it/s]\n",
      "Gaps to simplify in region 13: 100%|█████████████| 1/1 [00:00<00:00, 150.20it/s]\n",
      "Gaps to fill: 0it [00:00, ?it/s]\n",
      "Gaps to simplify in region 14: 100%|██████████████| 2/2 [00:00<00:00, 85.44it/s]\n",
      "Gaps to fill: 0it [00:00, ?it/s]\n",
      "Gaps to simplify in region 15: 100%|██████████████| 6/6 [00:00<00:00, 66.55it/s]\n",
      "Gaps to fill: 0it [00:00, ?it/s]\n",
      "Gaps to simplify: 0it [00:00, ?it/s]\n",
      "Gaps to fill: 0it [00:00, ?it/s]\n",
      "Gaps to simplify: 0it [00:00, ?it/s]\n",
      "Gaps to fill: 0it [00:00, ?it/s]\n",
      "Gaps to simplify: 0it [00:00, ?it/s]\n",
      "Gaps to fill: 0it [00:00, ?it/s]\n",
      "Gaps to simplify in region 19: 100%|██████████████| 4/4 [00:00<00:00, 76.86it/s]\n",
      "Gaps to fill: 0it [00:00, ?it/s]\n",
      "Gaps to simplify: 0it [00:00, ?it/s]\n",
      "Gaps to fill: 0it [00:00, ?it/s]\n",
      "Gaps to simplify in region 21: 100%|██████████████| 1/1 [00:00<00:00, 62.30it/s]\n",
      "Gaps to fill: 0it [00:00, ?it/s]\n",
      "Gaps to simplify in region 22: 100%|█████████████| 2/2 [00:00<00:00, 145.41it/s]\n",
      "Gaps to fill: 0it [00:00, ?it/s]\n",
      "Gaps to simplify: 0it [00:00, ?it/s]\n",
      "Gaps to fill: 0it [00:00, ?it/s]\n",
      "Gaps to simplify in region 24: 100%|██████████████| 2/2 [00:00<00:00, 46.55it/s]\n",
      "Gaps to fill: 0it [00:00, ?it/s]\n",
      "Gaps to simplify: 0it [00:00, ?it/s]\n",
      "Gaps to fill: 0it [00:00, ?it/s]\n",
      "Gaps to simplify in region 26: 100%|██████████████| 1/1 [00:00<00:00, 84.69it/s]\n",
      "Gaps to fill: 0it [00:00, ?it/s]\n",
      "Gaps to simplify: 0it [00:00, ?it/s]\n",
      "Gaps to fill: 0it [00:00, ?it/s]\n",
      "Gaps to simplify in region 28: 100%|█████████████| 1/1 [00:00<00:00, 128.77it/s]\n",
      "Gaps to fill: 0it [00:00, ?it/s]\n",
      "Gaps to simplify: 0it [00:00, ?it/s]\n",
      "Gaps to fill: 0it [00:00, ?it/s]\n",
      "Gaps to simplify in region 30: 100%|██████████████| 1/1 [00:00<00:00, 52.61it/s]\n",
      "Gaps to fill: 0it [00:00, ?it/s]\n",
      "Gaps to simplify in region 31: 100%|██████████████| 2/2 [00:00<00:00, 61.84it/s]\n",
      "Gaps to fill in region 31: 100%|██████████████████| 1/1 [00:00<00:00, 50.44it/s]\n",
      "Gaps to simplify in region 32: 100%|██████████████| 7/7 [00:00<00:00, 72.34it/s]\n",
      "Gaps to fill in region 32: 100%|██████████████████| 1/1 [00:00<00:00, 74.67it/s]\n",
      "Gaps to simplify in region 33: 100%|█████████████| 4/4 [00:00<00:00, 131.84it/s]\n",
      "Gaps to fill: 0it [00:00, ?it/s]\n",
      "Gaps to simplify: 0it [00:00, ?it/s]\n",
      "Gaps to fill: 0it [00:00, ?it/s]\n",
      "Gaps to simplify in region 35: 100%|████████████| 29/29 [00:00<00:00, 75.58it/s]\n",
      "Gaps to fill in region 35: 100%|██████████████████| 1/1 [00:00<00:00, 37.16it/s]\n",
      "Gaps to simplify: 0it [00:00, ?it/s]\n",
      "Gaps to fill: 0it [00:00, ?it/s]\n",
      "Gaps to simplify in region 37: 100%|██████████████| 2/2 [00:00<00:00, 69.59it/s]\n",
      "Gaps to fill in region 37: 100%|██████████████████| 1/1 [00:00<00:00, 42.39it/s]\n",
      "Gaps to simplify: 0it [00:00, ?it/s]\n",
      "Gaps to fill: 0it [00:00, ?it/s]\n",
      "Gaps to simplify in region 39: 100%|██████████████| 1/1 [00:00<00:00,  7.85it/s]\n",
      "Gaps to fill: 0it [00:00, ?it/s]\n",
      "Gaps to simplify in region 40: 100%|████████████| 15/15 [00:00<00:00, 40.13it/s]\n",
      "Gaps to fill: 0it [00:00, ?it/s]\n",
      "Gaps to simplify in region 41: 100%|██████████████| 1/1 [00:00<00:00, 63.88it/s]\n",
      "Gaps to fill: 0it [00:00, ?it/s]\n",
      "Gaps to simplify in region 42: 100%|██████████████| 1/1 [00:00<00:00, 81.81it/s]\n",
      "Gaps to fill: 0it [00:00, ?it/s]\n",
      "Gaps to simplify: 0it [00:00, ?it/s]\n",
      "Gaps to fill: 0it [00:00, ?it/s]\n",
      "Gaps to simplify in region 44: 100%|██████████████| 8/8 [00:00<00:00, 92.87it/s]\n",
      "Gaps to fill: 0it [00:00, ?it/s]\n",
      "Gaps to simplify in region 45: 100%|█████████████| 1/1 [00:00<00:00, 103.43it/s]\n",
      "Gaps to fill: 0it [00:00, ?it/s]\n",
      "Gaps to simplify: 0it [00:00, ?it/s]\n",
      "Gaps to fill: 0it [00:00, ?it/s]\n",
      "Gaps to simplify: 0it [00:00, ?it/s]\n",
      "Gaps to fill: 0it [00:00, ?it/s]\n",
      "Gaps to simplify in region 48: 100%|█████████████| 4/4 [00:00<00:00, 126.15it/s]\n",
      "Gaps to fill: 0it [00:00, ?it/s]\n",
      "Gaps to simplify: 0it [00:00, ?it/s]\n",
      "Gaps to fill: 0it [00:00, ?it/s]\n",
      "Gaps to simplify in region 50: 100%|██████████████| 2/2 [00:00<00:00, 61.72it/s]\n",
      "Gaps to fill: 0it [00:00, ?it/s]\n",
      "Gaps to simplify: 0it [00:00, ?it/s]\n",
      "Gaps to fill: 0it [00:00, ?it/s]\n",
      "Gaps to simplify: 0it [00:00, ?it/s]\n",
      "Gaps to fill: 0it [00:00, ?it/s]\n",
      "Gaps to simplify in region 53: 100%|█████████████| 3/3 [00:00<00:00, 127.89it/s]\n",
      "Gaps to fill: 0it [00:00, ?it/s]\n",
      "Gaps to simplify in region 54: 100%|█████████████| 1/1 [00:00<00:00, 162.55it/s]\n",
      "Gaps to fill: 0it [00:00, ?it/s]\n",
      "Gaps to simplify in region 55: 100%|██████████████| 1/1 [00:00<00:00, 23.80it/s]\n",
      "Gaps to fill: 0it [00:00, ?it/s]\n",
      "Gaps to simplify: 0it [00:00, ?it/s]\n",
      "Gaps to fill: 0it [00:00, ?it/s]\n",
      "Gaps to simplify: 0it [00:00, ?it/s]\n",
      "Gaps to fill: 0it [00:00, ?it/s]\n",
      "Gaps to simplify: 0it [00:00, ?it/s]\n",
      "Gaps to fill: 0it [00:00, ?it/s]\n",
      "Gaps to simplify in region 59: 100%|██████████████| 2/2 [00:00<00:00,  9.46it/s]\n",
      "Gaps to fill in region 59: 100%|██████████████████| 1/1 [00:00<00:00,  5.17it/s]\n",
      "Gaps to simplify in region 60: 100%|█████████████| 1/1 [00:00<00:00, 165.48it/s]\n",
      "Gaps to fill: 0it [00:00, ?it/s]\n",
      "Gaps to simplify in region 61: 100%|█████████████| 2/2 [00:00<00:00, 106.80it/s]\n",
      "Gaps to fill in region 61: 100%|██████████████████| 1/1 [00:00<00:00, 61.74it/s]\n",
      "Gaps to simplify in region 62: 100%|█████████████| 2/2 [00:00<00:00, 174.08it/s]\n",
      "Gaps to fill: 0it [00:00, ?it/s]\n",
      "Gaps to simplify: 0it [00:00, ?it/s]\n",
      "Gaps to fill: 0it [00:00, ?it/s]\n",
      "Gaps to simplify: 0it [00:00, ?it/s]\n",
      "Gaps to fill: 0it [00:00, ?it/s]\n",
      "Gaps to simplify: 0it [00:00, ?it/s]\n",
      "Gaps to fill: 0it [00:00, ?it/s]\n",
      "Gaps to simplify in region 66: 100%|██████████████| 5/5 [00:00<00:00, 74.54it/s]\n",
      "Gaps to fill in region 66: 100%|██████████████████| 2/2 [00:00<00:00, 37.86it/s]\n",
      "Gaps to simplify: 0it [00:00, ?it/s]\n",
      "Gaps to fill: 0it [00:00, ?it/s]\n",
      "Gaps to simplify: 0it [00:00, ?it/s]\n",
      "Gaps to fill: 0it [00:00, ?it/s]\n",
      "Gaps to simplify: 0it [00:00, ?it/s]\n",
      "Gaps to fill: 0it [00:00, ?it/s]\n",
      "Gaps to simplify in region 70: 100%|█████████████| 2/2 [00:00<00:00, 166.51it/s]\n",
      "Gaps to fill: 0it [00:00, ?it/s]\n",
      "Gaps to simplify: 0it [00:00, ?it/s]\n",
      "Gaps to fill: 0it [00:00, ?it/s]\n",
      "Gaps to simplify in region 72: 100%|█████████████| 1/1 [00:00<00:00, 122.73it/s]\n",
      "Gaps to fill: 0it [00:00, ?it/s]\n",
      "Gaps to simplify in region 73: 100%|█████████████| 5/5 [00:00<00:00, 105.39it/s]\n",
      "Gaps to fill in region 73: 100%|██████████████████| 1/1 [00:00<00:00, 46.91it/s]\n",
      "Gaps to simplify in region 74: 100%|█████████████| 2/2 [00:00<00:00, 102.63it/s]\n",
      "Gaps to fill: 0it [00:00, ?it/s]\n",
      "Gaps to simplify: 0it [00:00, ?it/s]\n",
      "Gaps to fill: 0it [00:00, ?it/s]\n",
      "Gaps to simplify in region 76: 100%|██████████████| 1/1 [00:00<00:00, 39.15it/s]\n",
      "Gaps to fill: 0it [00:00, ?it/s]\n",
      "Gaps to simplify: 0it [00:00, ?it/s]\n",
      "Gaps to fill: 0it [00:00, ?it/s]\n",
      "Gaps to simplify in region 78: 100%|██████████████| 2/2 [00:00<00:00, 68.25it/s]\n",
      "Gaps to fill: 0it [00:00, ?it/s]\n",
      "Gaps to simplify: 0it [00:00, ?it/s]\n",
      "Gaps to fill: 0it [00:00, ?it/s]\n",
      "Gaps to simplify in region 80: 100%|█████████████| 9/9 [00:00<00:00, 149.63it/s]\n",
      "Gaps to fill: 0it [00:00, ?it/s]\n",
      "Gaps to simplify: 0it [00:00, ?it/s]\n",
      "Gaps to fill: 0it [00:00, ?it/s]\n",
      "Gaps to simplify: 0it [00:00, ?it/s]\n",
      "Gaps to fill: 0it [00:00, ?it/s]\n",
      "Gaps to simplify: 0it [00:00, ?it/s]\n",
      "Gaps to fill: 0it [00:00, ?it/s]\n",
      "Gaps to simplify in region 84: 100%|██████████████| 3/3 [00:00<00:00, 87.57it/s]\n",
      "Gaps to fill: 0it [00:00, ?it/s]\n",
      "Gaps to simplify: 0it [00:00, ?it/s]\n",
      "Gaps to fill: 0it [00:00, ?it/s]\n",
      "Gaps to simplify in region 86: 100%|██████████████| 3/3 [00:00<00:00, 86.73it/s]\n",
      "Gaps to fill: 0it [00:00, ?it/s]\n",
      "Gaps to simplify in region 87: 100%|█████████████| 3/3 [00:00<00:00, 162.81it/s]\n",
      "Gaps to fill: 0it [00:00, ?it/s]\n",
      "Gaps to simplify in region 88: 100%|██████████████| 6/6 [00:00<00:00, 89.33it/s]\n",
      "Gaps to fill: 0it [00:00, ?it/s]\n",
      "Gaps to simplify in region 89: 100%|██████████████| 1/1 [00:00<00:00, 37.14it/s]\n",
      "Gaps to fill: 0it [00:00, ?it/s]\n",
      "Gaps to simplify: 0it [00:00, ?it/s]\n",
      "Gaps to fill: 0it [00:00, ?it/s]\n",
      "Gaps to simplify: 0it [00:00, ?it/s]\n",
      "Gaps to fill: 0it [00:00, ?it/s]\n",
      "Gaps to simplify in region 92: 100%|█████████████| 1/1 [00:00<00:00, 159.29it/s]\n",
      "Gaps to fill: 0it [00:00, ?it/s]\n",
      "Gaps to simplify: 0it [00:00, ?it/s]\n",
      "Gaps to fill: 0it [00:00, ?it/s]\n",
      "Gaps to simplify: 0it [00:00, ?it/s]\n",
      "Gaps to fill: 0it [00:00, ?it/s]\n",
      "Gaps to simplify: 0it [00:00, ?it/s]\n",
      "Gaps to fill: 0it [00:00, ?it/s]\n",
      "Gaps to simplify in region 96: 100%|██████████████| 3/3 [00:00<00:00, 63.86it/s]\n",
      "Gaps to fill: 0it [00:00, ?it/s]\n",
      "Gaps to simplify: 0it [00:00, ?it/s]\n",
      "Gaps to fill: 0it [00:00, ?it/s]\n",
      "Gaps to simplify in region 98: 100%|██████████████| 1/1 [00:00<00:00, 29.34it/s]\n",
      "Gaps to fill: 0it [00:00, ?it/s]\n",
      "Gaps to simplify: 0it [00:00, ?it/s]\n",
      "Gaps to fill: 0it [00:00, ?it/s]\n",
      "Gaps to simplify in region 100: 100%|████████████| 1/1 [00:00<00:00, 107.27it/s]\n",
      "Gaps to fill: 0it [00:00, ?it/s]\n",
      "Gaps to simplify in region 101: 100%|█████████████| 2/2 [00:00<00:00, 28.06it/s]\n",
      "Gaps to fill: 0it [00:00, ?it/s]\n",
      "Gaps to simplify: 0it [00:00, ?it/s]\n",
      "Gaps to fill: 0it [00:00, ?it/s]\n",
      "Gaps to simplify in region 103: 100%|█████████████| 3/3 [00:00<00:00, 20.27it/s]\n",
      "Gaps to fill: 0it [00:00, ?it/s]\n",
      "Gaps to simplify: 0it [00:00, ?it/s]\n",
      "Gaps to fill: 0it [00:00, ?it/s]\n",
      "Gaps to simplify: 0it [00:00, ?it/s]\n",
      "Gaps to fill: 0it [00:00, ?it/s]\n",
      "Gaps to simplify: 0it [00:00, ?it/s]\n",
      "Gaps to fill: 0it [00:00, ?it/s]\n",
      "Gaps to simplify in region 107: 100%|█████████████| 3/3 [00:00<00:00, 59.22it/s]\n",
      "Gaps to fill: 0it [00:00, ?it/s]\n",
      "Gaps to simplify: 0it [00:00, ?it/s]\n",
      "Gaps to fill: 0it [00:00, ?it/s]\n",
      "Gaps to simplify: 0it [00:00, ?it/s]\n",
      "Gaps to fill: 0it [00:00, ?it/s]\n",
      "Gaps to simplify: 0it [00:00, ?it/s]\n",
      "Gaps to fill: 0it [00:00, ?it/s]\n",
      "Gaps to simplify in region 111: 100%|█████████████| 5/5 [00:00<00:00, 36.07it/s]\n",
      "Gaps to fill: 0it [00:00, ?it/s]\n",
      "Gaps to simplify in region 112: 100%|█████████████| 3/3 [00:00<00:00, 66.93it/s]\n",
      "Gaps to fill: 0it [00:00, ?it/s]\n",
      "Gaps to simplify in region 113: 100%|█████████████| 1/1 [00:00<00:00, 64.11it/s]\n",
      "Gaps to fill: 0it [00:00, ?it/s]\n",
      "Gaps to simplify in region 114: 100%|█████████████| 2/2 [00:00<00:00, 72.74it/s]\n",
      "Gaps to fill: 0it [00:00, ?it/s]\n",
      "Gaps to simplify: 0it [00:00, ?it/s]\n",
      "Gaps to fill: 0it [00:00, ?it/s]\n",
      "Gaps to simplify in region 116: 100%|█████████████| 1/1 [00:00<00:00, 77.21it/s]\n",
      "Gaps to fill: 0it [00:00, ?it/s]\n",
      "Gaps to simplify: 0it [00:00, ?it/s]\n",
      "Gaps to fill: 0it [00:00, ?it/s]\n",
      "Gaps to simplify: 0it [00:00, ?it/s]\n",
      "Gaps to fill: 0it [00:00, ?it/s]\n",
      "Gaps to simplify: 0it [00:00, ?it/s]\n",
      "Gaps to fill: 0it [00:00, ?it/s]\n",
      "Gaps to simplify: 0it [00:00, ?it/s]\n",
      "Gaps to fill: 0it [00:00, ?it/s]\n",
      "Gaps to simplify: 0it [00:00, ?it/s]\n",
      "Gaps to fill: 0it [00:00, ?it/s]\n",
      "Gaps to simplify in region 122: 100%|█████████████| 4/4 [00:00<00:00, 63.12it/s]\n",
      "Gaps to fill: 0it [00:00, ?it/s]\n",
      "Gaps to simplify: 0it [00:00, ?it/s]\n",
      "Gaps to fill: 0it [00:00, ?it/s]\n",
      "Gaps to simplify: 0it [00:00, ?it/s]\n",
      "Gaps to fill: 0it [00:00, ?it/s]\n",
      "Gaps to simplify: 0it [00:00, ?it/s]\n",
      "Gaps to fill: 0it [00:00, ?it/s]\n",
      "Gaps to simplify in region 126: 100%|███████████| 10/10 [00:00<00:00, 34.23it/s]\n",
      "Gaps to fill in region 126: 100%|█████████████████| 1/1 [00:00<00:00, 21.82it/s]\n",
      "Gaps to simplify in region 127: 100%|█████████████| 1/1 [00:00<00:00, 78.99it/s]\n",
      "Gaps to fill: 0it [00:00, ?it/s]\n",
      "Gaps to simplify: 0it [00:00, ?it/s]\n",
      "Gaps to fill: 0it [00:00, ?it/s]\n",
      "Gaps to simplify: 0it [00:00, ?it/s]\n",
      "Gaps to fill: 0it [00:00, ?it/s]\n",
      "Gaps to simplify: 0it [00:00, ?it/s]\n",
      "Gaps to fill: 0it [00:00, ?it/s]\n",
      "Gaps to simplify: 0it [00:00, ?it/s]\n",
      "Gaps to fill: 0it [00:00, ?it/s]\n",
      "Gaps to simplify in region 132: 100%|█████████████| 1/1 [00:00<00:00, 76.38it/s]\n",
      "Gaps to fill: 0it [00:00, ?it/s]\n"
     ]
    }
   ],
   "source": [
    "vest_base = add_vest_base(vest_base_data, start_col, year, county = county_df)"
   ]
  },
  {
   "cell_type": "code",
   "execution_count": 47,
   "id": "14f50380-9032-4483-89d0-21371835a6a5",
   "metadata": {},
   "outputs": [
    {
     "name": "stdout",
     "output_type": "stream",
     "text": [
      "[0.0, 0.0, 0.0, 0.0, 0.0, 0.0, 0.0, 0.0, 0.0, 0.0, 0.0, 0.0, 0.0, 0.0, 0.0, 0.0, 0.0, 0.0, 0.0, 0.0, 0.0, 0.0, 0.0, 0.0, 0.0, 0.0, 0.0, 0.0, 0.0, 0.0, 0.0, 0.0, 0.0, 0.0, 0.0, 0.0, 0.0, 0.0, 0.0, 0.0, 0.0, 0.0, 0.0, 0.0, 0.0, 0.0, 0.0, 0.0, 0.0, 0.0, 0.0, 0.0, 0.0, 0.0, 0.0, 0.0, 0.0, 0.0, 0.0, 0.0, 0.0, 0.0, 0.0, 0.0, 0.0, 0.0, 0.0, 0.0, 0.0, 0.0, 0.0, 0.0, 0.0, 0.0, 0.0, 0.0, 0.0, 0.0, 0.0, 0.0, 0.0, 0.0, 0.0, 0.0, 0.0, 0.0, 0.0, 0.0, 0.0, 0.0, 0.0, 0.0, 0.0, 0.0, 0.0, 0.0, 0.0, 0.0, 0.0, 0.0, 0.0, 0.0, 0.0, 0.0, 0.0, 0.0, 0.0, 0.0, 0.0, 0.0, 0.0, 0.0, 0.0, 0.0, 0.0, 0.0, 0.0, 0.0, 0.0, 0.0, 0.0, 0.0, 0.0, 0.0, 0.0, 0.0, 0.0, 0.0, 0.0, 0.0, 0.0, 0.0, 0.0, 0.0, 0.0, 0.0, 0.0, 0.0, 0.0, 0.0, 0.0, 0.0, 0.0, 0.0, 0.0, 0.0, 0.0, 0.0, 0.0, 0.0, 0.0, 0.0, 0.0, 0.0, 0.0, 0.0, 0.0, 0.0, 0.0, 0.0, 0.0, 0.0, 0.0, 0.0, 0.0, 0.0, 0.0, 0.0, 0.0, 0.0, 0.0, 0.0, 0.0, 0.0, 0.0, 0.0, 0.0, 0.0, 0.0, 0.0, 0.0, 0.0, 0.0, 0.0, 0.0, 0.0, 0.0, 0.0, 0.0, 0.0, 0.0, 0.0, 0.0, 0.0, 0.0, 0.0, 0.0, 0.0, 0.0, 0.0, 0.0, 0.0, 0.0, 0.0, 0.0, 0.0, 0.0, 0.0, 0.0, 0.0, 0.0, 0.0, 0.0, 0.0, 0.0, 0.0, 0.0, 0.0, 0.0, 0.0, 0.0, 0.0, 0.0, 0.0, 0.0, 0.0, 0.0, 0.0, 0.0, 0.0, 0.0, 0.0, 0.0, 0.0, 0.0, 0.0, 0.0, 0.0, 0.0, 0.0, 0.0, 0.0, 0.0, 0.0, 0.0, 0.0, 0.0, 0.0, 0.0, 0.0, 0.0, 0.0, 0.0, 0.0, 0.0, 0.0, 0.0, 0.0, 0.0, 0.0, 0.0, 0.0, 0.0, 0.0, 0.0, 0.0, 0.0, 0.0, 0.0, 0.0, 0.0, 0.0, 0.0, 0.0, 0.0, 0.0, 0.0, 0.0, 0.0, 0.0, 0.0, 0.0, 0.0, 0.0, 0.0, 0.0, 0.0, 0.0, 0.0, 0.0, 0.0, 0.0, 0.0, 0.0, 0.0, 0.0, 0.0, 0.0, 0.0, 0.0, 0.0, 0.0, 0.0, 0.0, 0.0, 0.0, 0.0, 0.0, 0.0, 0.0, 0.0, 0.0, 0.0, 0.0, 0.0, 0.0, 0.0, 0.0, 0.0, 0.0, 0.0, 0.0, 0.0, 0.0, 0.0, 0.0, 0.0, 0.0, 0.0, 0.0, 0.0, 0.0, 0.0, 0.0, 0.0, 0.0, 0.0, 0.0, 0.0, 0.0, 0.0, 0.0, 0.0, 0.0, 0.0, 0.0, 0.0, 0.0, 0.0, 0.0, 0.0, 0.0, 0.0, 0.0, 0.0, 0.0, 0.0, 0.0, 0.0, 0.0, 0.0, 0.0, 0.0, 0.0, 0.0, 0.0, 0.0, 0.0, 0.0, 0.0, 0.0, 0.0, 0.0, 0.0, 0.0, 0.0, 0.0, 0.0, 0.0, 0.0, 0.0, 0.0, 0.0, 0.0, 0.0, 0.0, 0.0, 0.0, 0.0, 0.0, 0.0, 0.0, 0.0, 0.0, 0.0, 0.0, 0.0, 0.0, 0.0, 0.0, 0.0, 0.0, 0.0, 0.0, 0.0, 0.0, 0.0, 0.0, 0.0, 0.0, 0.0, 0.0, 0.0, 0.0, 0.0, 0.0, 0.0, 0.0, 0.0, 0.0, 0.0, 0.0, 0.0, 0.0, 0.0, 0.0, 0.0, 0.0, 0.0, 0.0, 0.0, 0.0, 0.0, 0.0, 0.0, 0.0, 0.0, 0.0, 0.0, 0.0, 0.0, 0.0, 0.0, 0.0, 0.0, 0.0, 0.0, 0.0, 0.0, 0.0, 0.0, 0.0, 0.0, 0.0, 0.0, 0.0, 0.0, 0.0, 0.0, 0.0, 0.0, 0.0, 0.0, 0.0, 0.0, 0.0, 0.0, 0.0, 0.0, 0.0, 0.0, 0.0, 0.0, 0.0, 0.0, 0.0, 0.0, 0.0, 0.0, 0.0, 0.0, 0.0, 0.0, 0.0, 0.0, 0.0, 0.0, 0.0, 0.0, 0.0, 0.0, 0.0, 0.0, 0.0, 0.0, 0.0, 0.0, 0.0, 0.0, 0.0, 0.0, 0.0, 0.0, 0.0, 0.0, 0.0, 0.0, 0.0, 0.0, 0.0, 0.0, 0.0, 0.0, 0.0, 0.0, 0.0, 0.0, 0.0, 0.0, 0.0, 0.0, 0.0, 0.0, 0.0, 0.0, 0.0, 0.0, 0.0, 0.0, 0.0, 0.0, 0.0, 0.0, 0.0, 0.0, 0.0, 0.0, 0.0, 0.0, 0.0, 0.0, 0.0, 0.0, 0.0, 0.0, 0.0, 0.0, 0.0, 0.0, 0.0, 0.0, 0.0, 0.0, 0.0, 0.0, 0.0, 0.0, 0.0, 0.0, 0.0, 0.0, 0.0, 0.0, 0.0, 0.0, 0.0, 0.0, 0.0, 0.0, 0.0, 0.0, 0.0, 0.0, 0.0, 0.0, 0.0, 0.0, 0.0, 0.0, 0.0, 0.0, 0.0, 0.0, 0.0, 0.0, 0.0, 0.0, 0.0, 0.0, 0.0, 0.0, 0.0, 0.0, 0.0, 0.0, 0.0, 0.0, 0.0, 0.0, 0.0, 0.0, 0.0, 0.0, 0.0, 0.0, 0.0, 0.0, 0.0, 0.0, 0.0, 0.0, 0.0, 0.0, 0.0, 0.0, 0.0, 0.0, 0.0, 0.0, 0.0, 0.0, 0.0, 0.0, 0.0, 0.0, 0.0, 0.0, 0.0, 0.0, 0.0, 0.0, 0.0, 0.0, 0.0, 0.0, 0.0, 0.0, 0.0, 0.0, 0.0, 0.0, 0.0, 0.0, 0.0, 0.0, 0.0, 0.0, 0.0, 0.0, 0.0, 0.0, 0.0, 0.0, 0.0, 0.0, 0.0, 0.0, 0.0, 0.0, 0.0, 0.0, 0.0, 0.0, 0.0, 0.0, 0.0, 0.0, 0.0, 0.0, 0.0, 0.0, 0.0, 0.0, 0.0, 0.0, 0.0, 0.0, 0.0, 0.0, 0.0, 0.0, 0.0, 0.0, 0.0, 0.0, 0.0, 0.0, 0.0, 0.0, 0.0, 0.0, 0.0, 0.0, 0.0, 0.0, 0.0, 0.0, 0.0, 0.0, 0.0, 0.0, 0.0, 0.0, 0.0, 0.0, 0.0, 0.0, 0.0, 0.0, 0.0, 0.0, 0.0, 0.0, 0.0, 0.0, 0.0, 0.0, 0.0, 0.0, 0.0, 0.0, 0.0, 0.0, 0.0, 0.0, 0.0, 0.0, 0.0, 0.0, 0.0, 0.0, 0.0, 0.0, 0.0, 0.0, 0.0, 0.0, 0.0, 0.0, 0.0, 0.0, 0.0, 0.0, 0.0, 0.0, 0.0, 0.0, 0.0, 0.0, 0.0, 0.0, 0.0, 0.0, 0.0, 0.0, 0.0, 0.0, 0.0, 0.0, 0.0, 0.0, 0.0, 0.0, 0.0, 0.0, 0.0, 0.0, 0.0, 0.0, 0.0, 0.0, 0.0, 0.0, 0.0, 0.0, 0.0, 0.0, 0.0, 0.0, 0.0, 0.0, 0.0, 0.0, 0.0, 0.0, 0.0, 0.0, 0.0, 0.0, 0.0, 0.0, 0.0, 0.0, 0.0, 0.0, 0.0, 0.0, 0.0, 0.0, 0.0, 0.0, 0.0, 0.0, 0.0, 0.0, 0.0, 0.0, 0.0, 0.0, 0.0, 0.0, 0.0, 0.0, 0.0, 0.0, 0.0, 0.0, 0.0, 0.0, 0.0, 0.0, 0.0, 0.0, 0.0, 0.0, 0.0, 0.0, 0.0, 0.0, 0.0, 0.0, 0.0, 0.0, 0.0, 0.0, 0.0, 0.0, 0.0, 0.0, 0.0, 0.0, 0.0, 0.0, 0.0, 0.0, 0.0, 0.0, 0.0, 0.0, 0.0, 0.0, 0.0, 0.0, 0.0, 0.0, 0.0, 0.0, 0.0, 0.0, 0.0, 0.0, 0.0, 0.0, 0.0, 0.0, 0.0, 0.0, 0.0, 0.0, 0.0, 0.0, 0.0, 0.0, 0.0, 0.0, 0.0, 0.0, 0.0, 0.0, 0.0, 0.0, 0.0, 0.0, 0.0, 0.0, 0.0, 0.0, 0.0, 0.0, 0.0, 0.0, 0.0, 0.0, 0.0, 0.0, 0.0, 0.0, 0.0, 0.0, 0.0, 0.0, 0.0, 0.0, 0.0, 0.0, 0.0, 0.0, 0.0, 0.0, 0.0, 0.0, 0.0, 0.0, 0.0, 0.0, 0.0, 0.0, 0.0, 0.0, 0.0, 0.0, 0.0, 0.0, 0.0, 0.0, 0.0, 0.0, 0.0, 0.0, 0.0, 0.0, 0.0, 0.0, 0.0, 0.0, 0.0, 0.0, 0.0, 0.0, 0.0, 0.0, 0.0, 0.0, 0.0, 0.0, 0.0, 0.0, 0.0, 0.0, 0.0, 0.0, 0.0, 0.0, 0.0, 0.0, 0.0, 0.0, 0.0, 0.0, 0.0, 0.0, 0.0, 0.0, 0.0, 0.0, 0.0, 0.0, 0.0, 0.0, 0.0, 0.0, 0.0, 0.0, 0.0, 0.0, 0.0, 0.0, 0.0, 0.0, 0.0, 0.0, 0.0, 0.0, 0.0, 0.0, 0.0, 0.0, 0.0, 0.0, 0.0, 0.0, 0.0, 0.0, 0.0, 0.0, 0.0, 0.0, 0.0, 0.0, 0.0, 0.0, 0.0, 0.0, 0.0, 0.0, 0.0, 0.0, 0.0, 0.0, 0.0, 0.0, 0.0, 0.0, 0.0, 0.0, 0.0, 0.0, 0.0, 0.0, 0.0, 0.0, 0.0, 1.0619422764712323e-05, 1.0619422764712323e-05, 0.8022661767285156, 0.8022661767285156, 1.8845740319822193, 1.8845740319822193, 3.46334577894651, 3.46334577894651, 4.669324496790051, 4.669324496790051, 4.805699894182023, 4.805699894182023, 6.1742819995770795, 6.1742819995770795, 6.7860322354280616, 6.7860322354280616, 7.518400806864604, 7.518400806864604, 7.789909988068718, 7.789909988068718, 8.11026696812736, 8.11026696812736, 8.473182503089927, 8.473182503089927, 9.786900293847982, 9.786900293847982, 10.308235243071179, 10.308235243071179, 10.385899902151188, 10.385899902151188, 11.299383882224392, 11.299383882224392, 11.49282584485034, 11.49282584485034, 11.747908809076174, 11.747908809076174, 12.69120360016869, 12.69120360016869, 12.787929232880414, 12.787929232880414, 13.33012287164294, 13.33012287164294, 13.500945541117346, 13.500945541117346, 13.89892899700013, 13.89892899700013, 14.003095547711839, 14.003095547711839, 14.12796484057708, 14.12796484057708, 14.445141530873105, 14.445141530873105, 14.633050899971765, 14.633050899971765, 15.140713333103347, 15.140713333103347, 15.47606898125756, 15.47606898125756, 15.508566225139479, 15.508566225139479, 16.127992226152912, 16.127992226152912, 16.66334567382038, 16.66334567382038, 17.92899478804003, 17.92899478804003, 18.28228455515852, 18.28228455515852, 19.761929436849883, 19.761929436849883, 19.8379167737437, 19.8379167737437, 19.88026038790512, 19.88026038790512, 20.432306384515737, 20.432306384515737, 20.91720227761788, 20.91720227761788, 21.320363220212244, 21.320363220212244, 21.787088570606137, 21.787088570606137, 22.51354675924884, 22.51354675924884, 22.701031761758976, 22.701031761758976, 22.79504779290757, 22.79504779290757, 23.066947727370028, 23.066947727370028, 24.713633243680338, 24.713633243680338, 27.14079189340931, 27.14079189340931, 28.11770653054445, 28.11770653054445, 28.50921786887642, 28.50921786887642, 30.041512012601192, 30.041512012601192, 31.332804363699072, 31.332804363699072, 31.75814555972367, 31.75814555972367, 31.78846351775628, 31.78846351775628, 31.823930170897277, 31.82393017089728, 31.84738522965346, 31.84738522965346, 32.72533984092966, 32.72533984092966, 33.67781308572283, 33.67781308572283, 33.73467774770596, 33.73467774770596, 33.76884598611717, 33.76884598611717, 34.14983631232121, 34.14983631232121, 34.71232925356077, 34.71232925356077, 35.4486233941918, 35.4486233941918, 35.805057887740915, 35.805057887740915, 35.87932039002011, 35.87932039002011, 36.34837401909641, 36.34837401909641, 36.370600472707984, 36.370600472707984, 36.72071317024066, 36.72071317024066, 36.80138094966419, 36.80138094966419, 36.823908357438214, 36.823908357438214, 37.21879083321614, 37.21879083321614, 37.795034307477394, 37.7950343074774, 38.72491295198988, 38.72491295198988, 39.24080384239081, 39.24080384239081, 40.97656061485777, 40.97656061485777, 41.733082079336626, 41.733082079336626, 42.709474961518666, 42.709474961518666, 42.85730959411015, 42.85730959411015, 42.86897675503512, 42.86897675503512, 43.18570875774073, 43.18570875774073, 43.295803722578285, 43.295803722578285, 43.81301550564096, 43.81301550564096, 45.41166399657796, 45.41166399657796, 45.566041941167796, 45.566041941167796, 45.85600182924567, 45.85600182924567, 47.233225273507266, 47.233225273507266, 47.990525404262065, 47.990525404262065, 48.42253996423281, 48.42253996423281, 49.50878022216705, 49.50878022216705, 49.967444450001594, 49.967444450001594, 51.65651783459377, 51.65651783459377, 52.123059908007754, 52.123059908007754, 53.41568117144748, 53.41568117144748, 54.40989916547259, 54.409899165472595, 54.664734214028414, 54.66473421402842, 57.99649180780229, 57.99649180780229, 58.04024965375465, 58.04024965375466, 62.55238391166721, 62.55238391166721, 63.59043638287419, 63.59043638287419, 67.81764953349531, 67.81764953349531, 68.4882342656127, 68.4882342656127, 70.5768492952801, 70.57684929528011, 71.31872038548403, 71.31872038548403, 71.42139428364902, 71.42139428364902, 71.8990028349724, 71.8990028349724, 71.90958728806324, 71.90958728806324, 72.61094427909775, 72.61094427909775, 72.62445645651103, 72.62445645651103, 72.83738596184878, 72.83738596184878, 73.10476236062529, 73.10476236062529, 73.40451203093819, 73.40451203093819, 74.61965424772296, 74.61965424772296, 75.06985002897225, 75.06985002897227, 75.29493316549616, 75.29493316549616, 75.3031744419396, 75.3031744419396, 75.4496393520688, 75.4496393520688, 76.71266775931836, 76.71266775931836, 77.40633918532781, 77.40633918532781, 79.3457081659081, 79.3457081659081, 79.96281744867956, 79.96281744867956, 80.68231720601038, 80.68231720601038, 81.45018048301175, 81.45018048301175, 83.01976130915304, 83.01976130915304, 83.29602243481439, 83.29602243481439, 83.81777115780297, 83.81777115780297, 88.16435240640537, 88.16435240640537, 90.80157624875989, 90.80157624875989, 91.26228093681112, 91.26228093681114, 91.55392393548033, 91.55392393548033, 93.790836004701, 93.79083600470102, 94.16735247289148, 94.16735247289148, 95.10966700334534, 95.10966700334534, 101.09780461673265, 101.09780461673265, 104.21790807993537, 104.21790807993538, 104.8353037956455, 104.83530379564552, 105.40886618195148, 105.40886618195148, 105.98989856197078, 105.98989856197078, 107.74491447191822, 107.74491447191822, 108.27723671715444, 108.27723671715444, 108.63688534587081, 108.63688534587081, 108.69212115232175, 108.69212115232175, 110.44572747675956, 110.44572747675956, 111.26283798439127, 111.26283798439127, 111.83021948064797, 111.83021948064798, 112.15774893758362, 112.15774893758363, 114.91664478331705, 114.91664478331705, 114.94855221927291, 114.94855221927291, 116.2179470844816, 116.2179470844816, 117.1343260472706, 117.1343260472706, 117.41200400928996, 117.41200400928997, 117.85331077573079, 117.85331077573079, 118.19762330574453, 118.19762330574453, 119.72653038044827, 119.72653038044832, 120.115783506686, 120.11578350668601, 123.33208903504304, 123.33208903504305, 124.6300667818632, 124.6300667818632, 124.79200979763235, 124.79200979763236, 124.91083726979666, 124.91083726979666, 125.10429531533859, 125.10429531533859, 127.20500377741199, 127.205003777412, 128.546682658662, 128.546682658662, 128.7359088455827, 128.7359088455827, 128.8217476156571, 128.8217476156571, 130.26795487272474, 130.26795487272474, 133.89367702563828, 133.89367702563828, 134.70014310937415, 134.70014310937415, 135.772775580743, 135.772775580743, 139.00201584384592, 139.00201584384595, 139.47310837590447, 139.47310837590447, 141.06853374977686, 141.06853374977686, 142.56886633666932, 142.56886633666934, 142.57063222351644, 142.57063222351644, 143.3153986813737, 143.3153986813737, 143.32249994191938, 143.32249994191938, 146.165984361227, 146.165984361227, 146.2472504946202, 146.2472504946202, 147.2252824892204, 147.2252824892204, 148.33627895708585, 148.33627895708585, 148.87226016878364, 148.87226016878367, 149.340252038829, 149.340252038829, 151.80364217730448, 151.80364217730448, 153.80867946321985, 153.80867946321985, 157.8155634536068, 157.8155634536068, 158.1606753162048, 158.16067531620482, 161.49772601318077, 161.4977260131808, 162.69151924315406, 162.69151924315406, 163.29943717284524, 163.29943717284524, 163.8981064124308, 163.89810641243082, 164.38390980648444, 164.38390980648444, 165.58340451996133, 165.5834045199614, 167.93786472321304, 167.93786472321307, 170.53719401372308, 170.5371940137231, 170.79442902627392, 170.79442902627392, 171.33145658964432, 171.33145658964435, 172.00634320811804, 172.00634320811807, 174.68837194917378, 174.68837194917378, 175.28230837741012, 175.28230837741015, 176.6754363390667, 176.67543633906672, 177.42065152469166, 177.42065152469166, 178.5554031875388, 178.5554031875388, 179.36499131265626, 179.36499131265626, 184.06002034448588, 184.0600203444859, 184.58474944931706, 184.58474944931706, 187.18855451540009, 187.18855451540009, 187.7895933241718, 187.7895933241718, 188.07533774844654, 188.07533774844654, 188.16556649961325, 188.16556649961328, 189.99234726215414, 189.99234726215414, 190.9917038913668, 190.99170389136683, 191.91817934122142, 191.91817934122142, 192.12011192882653, 192.12011192882653, 192.20305734709436, 192.2030573470944, 195.39993964014508, 195.3999396401451, 195.51634291341452, 195.51634291341455, 195.7264173998097, 195.7264173998097, 196.27884947865905, 196.27884947865905, 196.70380526230161, 196.70380526230161, 197.09117644813412, 197.09117644813412, 198.0840553725285, 198.0840553725285, 199.35588095226288, 199.3558809522629, 200.27032857104854, 200.27032857104854, 200.65371462454488, 200.65371462454488, 201.66700870002956, 201.66700870002956, 203.48933904510773, 203.48933904510776, 203.52649528844185, 203.52649528844185, 205.97976202957517, 205.97976202957517, 206.8832898192415, 206.88328981924153, 207.15738309503, 207.15738309503, 208.135653742069, 208.135653742069, 208.27980882218725, 208.27980882218725, 210.1332549164922, 210.1332549164922, 211.90280709749283, 211.90280709749283, 212.42682923473424, 212.42682923473424, 212.94701707710493, 212.94701707710493, 212.9504959340798, 212.95049593407984, 212.96323044336742, 212.96323044336742, 213.71009758001935, 213.71009758001935, 214.52568340898313, 214.52568340898313, 215.54182579151606, 215.54182579151606, 216.83479263383327, 216.8347926338333, 218.27399613425683, 218.27399613425686, 218.36934331676807, 218.36934331676807, 218.68517765571892, 218.68517765571892, 219.085723199315, 219.08572319931505, 221.94779245414006, 221.94779245414009, 221.9669964384661, 221.96699643846614, 223.18943531456762, 223.18943531456762, 225.2725139553422, 225.2725139553422, 226.02807489495459, 226.0280748949546, 226.16011888416398, 226.16011888416398, 228.2612156687188, 228.26121566871888, 228.36066472679587, 228.36066472679587, 228.58326172270318, 228.58326172270324, 228.6642739030617, 228.66427390306174, 229.82323824184604, 229.82323824184604, 230.08337685717285, 230.08337685717288, 230.47134909525423, 230.47134909525425, 230.92567245419113, 230.92567245419113, 231.55679346407436, 231.55679346407436, 231.9127779205088, 231.91277792050883, 231.98998451665466, 231.98998451665466, 232.96410684926457, 232.96410684926457, 235.90961605403453, 235.90961605403453, 236.89434669784535, 236.89434669784535, 236.93348757167337, 236.93348757167337, 238.04264488783778, 238.0426448878378, 238.85588878854904, 238.85588878854904, 239.77371114425432, 239.77371114425432, 239.8296690286419, 239.82966902864192, 240.46605438372313, 240.46605438372313, 241.47959121364778, 241.4795912136478, 242.02521748708884, 242.02521748708887, 243.2993258915714, 243.29932589157147, 243.88292956308882, 243.88292956308882, 244.96870166567376, 244.96870166567376, 245.32786480723016, 245.32786480723016, 245.94788585459133, 245.94788585459133, 246.11674630574507, 246.11674630574512, 247.0246509947487, 247.0246509947487, 248.0933370727068, 248.09333707270682, 248.77642204164854, 248.77642204164854, 250.5671645112955, 250.5671645112955, 251.6732770476649, 251.67327704766493, 251.83186112701466, 251.83186112701472, 253.4589274401322, 253.4589274401322, 255.11391607106935, 255.11391607106935, 257.4872468802575, 257.4872468802575, 258.44965643627035, 258.4496564362704, 259.37637879616506, 259.37637879616506, 260.62878848239717, 260.62878848239717, 261.9977166254107, 261.9977166254107, 263.065849348234, 263.06584934823405, 264.45406510711786, 264.45406510711786, 265.1685297548171, 265.1685297548171, 266.9205411548054, 266.9205411548054, 269.13727290749705, 269.13727290749705, 269.9999765872287, 269.99997658722873, 270.1130138046848, 270.1130138046848, 270.28879355988573, 270.2887935598858, 270.318849371232, 270.318849371232, 270.41197145874884, 270.41197145874884, 271.029635348492, 271.02963534849204, 271.2440428118966, 271.24404281189663, 272.69883765498247, 272.69883765498247, 272.82479462715935, 272.82479462715935, 273.01690721230017, 273.01690721230017, 273.82511250699633, 273.82511250699633, 275.4139143746346, 275.41391437463466, 276.40502572386134, 276.40502572386134, 279.84468560669694, 279.84468560669694, 281.20828857793373, 281.2082885779338, 281.4054861503892, 281.40548615038927, 282.9983957162772, 282.99839571627723, 284.20090329023344, 284.20090329023344, 284.71044919169793, 284.710449191698, 284.92912088594505, 284.9291208859451, 284.9743055840833, 284.97430558408337, 285.61254546326353, 285.61254546326353, 286.70501144339863, 286.7050114433987, 288.6532543646852, 288.6532543646852, 289.6767469457728, 289.6767469457728, 291.1932899605872, 291.1932899605872, 292.5017221247591, 292.5017221247591, 292.5791306173247, 292.5791306173247, 294.7329368489929, 294.73293684899295, 295.57667615630413, 295.57667615630413, 295.5988241614472, 295.5988241614472, 295.60700299869177, 295.60700299869177, 295.66632807482904, 295.66632807482915, 296.0292296414555, 296.0292296414555, 297.946526980822, 297.94652698082206, 298.3984634075696, 298.3984634075696, 298.40993300100666, 298.4099330010067, 299.35845964108813, 299.35845964108813, 302.4030926217035, 302.4030926217035, 303.001706772828, 303.0017067728281, 307.20221265270675, 307.20221265270675, 309.09225302430946, 309.09225302430946, 310.66489011287393, 310.664890112874, 313.1107138078336, 313.1107138078336]\n"
     ]
    }
   ],
   "source": [
    "borders = check_small_boundary_lengths(vest_base)\n",
    "print(borders[:1700])"
   ]
  },
  {
   "cell_type": "code",
   "execution_count": 48,
   "id": "0bdbe94a-b838-4078-8a54-5391736c4492",
   "metadata": {},
   "outputs": [
    {
     "name": "stdout",
     "output_type": "stream",
     "text": [
      "Snapping all geometries to a grid with precision 10^( -5 ) to avoid GEOS errors.\n",
      "Identifying overlaps...\n"
     ]
    },
    {
     "name": "stderr",
     "output_type": "stream",
     "text": [
      "100%|█████████████████████████████████████| 2494/2494 [00:00<00:00, 3591.54it/s]\n"
     ]
    },
    {
     "name": "stdout",
     "output_type": "stream",
     "text": [
      "Resolving overlaps...\n",
      "Filling gaps...\n"
     ]
    },
    {
     "name": "stderr",
     "output_type": "stream",
     "text": [
      "Gaps to simplify: 100%|███████████████████████████| 1/1 [00:00<00:00,  7.45it/s]\n",
      "Gaps to fill: 0it [00:00, ?it/s]"
     ]
    },
    {
     "name": "stdout",
     "output_type": "stream",
     "text": [
      "Converting small rook adjacencies to queen...\n"
     ]
    },
    {
     "name": "stderr",
     "output_type": "stream",
     "text": [
      "\n",
      "100%|██████████████████████████████████████| 2477/2477 [00:03<00:00, 735.62it/s]\n",
      "100%|███████████████████████████████████████████| 4/4 [00:00<00:00, 3713.42it/s]\n",
      "100%|███████████████████████████████████████████| 4/4 [00:00<00:00, 2792.94it/s]\n",
      "100%|███████████████████████████████████████████| 5/5 [00:00<00:00, 3505.77it/s]\n",
      "100%|███████████████████████████████████████████| 4/4 [00:00<00:00, 3210.34it/s]\n",
      "100%|███████████████████████████████████████████| 4/4 [00:00<00:00, 3164.92it/s]\n",
      "100%|███████████████████████████████████████████| 4/4 [00:00<00:00, 3273.60it/s]\n",
      "100%|███████████████████████████████████████████| 4/4 [00:00<00:00, 3659.15it/s]\n",
      "100%|███████████████████████████████████████████| 4/4 [00:00<00:00, 3358.13it/s]\n",
      "100%|███████████████████████████████████████████| 4/4 [00:00<00:00, 3313.69it/s]\n",
      "100%|███████████████████████████████████████████| 5/5 [00:00<00:00, 3896.60it/s]\n",
      "100%|███████████████████████████████████████████| 4/4 [00:00<00:00, 3577.99it/s]\n",
      "100%|███████████████████████████████████████████| 4/4 [00:00<00:00, 3500.36it/s]\n",
      "100%|███████████████████████████████████████████| 3/3 [00:00<00:00, 3394.37it/s]\n",
      "100%|███████████████████████████████████████████| 4/4 [00:00<00:00, 3485.09it/s]\n",
      "100%|███████████████████████████████████████████| 5/5 [00:00<00:00, 3607.69it/s]\n",
      "100%|███████████████████████████████████████████| 4/4 [00:00<00:00, 3303.25it/s]\n",
      "100%|███████████████████████████████████████████| 4/4 [00:00<00:00, 3281.93it/s]\n",
      "100%|███████████████████████████████████████████| 4/4 [00:00<00:00, 3539.50it/s]\n",
      "100%|███████████████████████████████████████████| 4/4 [00:00<00:00, 3074.44it/s]\n",
      "100%|███████████████████████████████████████████| 5/5 [00:00<00:00, 3426.72it/s]\n",
      "100%|███████████████████████████████████████████| 4/4 [00:00<00:00, 3169.70it/s]\n",
      "100%|███████████████████████████████████████████| 4/4 [00:00<00:00, 3051.51it/s]\n",
      "100%|███████████████████████████████████████████| 4/4 [00:00<00:00, 2323.07it/s]\n",
      "100%|███████████████████████████████████████████| 4/4 [00:00<00:00, 2065.91it/s]\n",
      "100%|███████████████████████████████████████████| 4/4 [00:00<00:00, 2728.89it/s]\n",
      "100%|███████████████████████████████████████████| 4/4 [00:00<00:00, 2594.28it/s]\n",
      "100%|███████████████████████████████████████████| 4/4 [00:00<00:00, 2546.25it/s]\n",
      "100%|███████████████████████████████████████████| 4/4 [00:00<00:00, 2381.10it/s]\n",
      "100%|███████████████████████████████████████████| 4/4 [00:00<00:00, 2495.87it/s]\n",
      "100%|███████████████████████████████████████████| 4/4 [00:00<00:00, 2671.96it/s]\n",
      "100%|███████████████████████████████████████████| 4/4 [00:00<00:00, 2317.62it/s]\n",
      "100%|███████████████████████████████████████████| 4/4 [00:00<00:00, 2367.99it/s]\n",
      "100%|███████████████████████████████████████████| 4/4 [00:00<00:00, 2567.29it/s]\n",
      "100%|███████████████████████████████████████████| 5/5 [00:00<00:00, 3424.48it/s]\n",
      "100%|███████████████████████████████████████████| 4/4 [00:00<00:00, 2159.51it/s]\n",
      "100%|███████████████████████████████████████████| 4/4 [00:00<00:00, 2350.41it/s]\n",
      "100%|███████████████████████████████████████████| 5/5 [00:00<00:00, 2517.89it/s]\n",
      "100%|███████████████████████████████████████████| 4/4 [00:00<00:00, 2965.74it/s]\n",
      "100%|███████████████████████████████████████████| 4/4 [00:00<00:00, 2490.68it/s]\n",
      "100%|███████████████████████████████████████████| 4/4 [00:00<00:00, 2549.34it/s]\n",
      "100%|███████████████████████████████████████████| 4/4 [00:00<00:00, 2527.07it/s]\n",
      "100%|███████████████████████████████████████████| 4/4 [00:00<00:00, 2757.14it/s]\n",
      "100%|███████████████████████████████████████████| 3/3 [00:00<00:00, 2279.51it/s]\n",
      "100%|███████████████████████████████████████████| 4/4 [00:00<00:00, 2501.45it/s]\n",
      "100%|███████████████████████████████████████████| 4/4 [00:00<00:00, 2594.28it/s]\n",
      "100%|███████████████████████████████████████████| 4/4 [00:00<00:00, 2412.25it/s]\n",
      "100%|███████████████████████████████████████████| 4/4 [00:00<00:00, 2510.81it/s]\n",
      "100%|███████████████████████████████████████████| 5/5 [00:00<00:00, 2785.43it/s]\n",
      "100%|███████████████████████████████████████████| 4/4 [00:00<00:00, 2709.94it/s]\n",
      "100%|███████████████████████████████████████████| 4/4 [00:00<00:00, 2838.78it/s]\n",
      "100%|██████████████████████████████████████| 2477/2477 [00:03<00:00, 739.99it/s]\n"
     ]
    }
   ],
   "source": [
    "vest_base = do_smart_repair(vest_base, min_rook_length = 30.5)"
   ]
  },
  {
   "cell_type": "code",
   "execution_count": 49,
   "id": "b5620d6f-95ad-43f4-b4a4-ec30e5c8ef40",
   "metadata": {},
   "outputs": [
    {
     "name": "stderr",
     "output_type": "stream",
     "text": [
      "100%|██████████████████████████████████████| 2477/2477 [00:03<00:00, 722.50it/s]\n"
     ]
    },
    {
     "data": {
      "text/plain": [
       "True"
      ]
     },
     "execution_count": 49,
     "metadata": {},
     "output_type": "execute_result"
    }
   ],
   "source": [
    "maup.doctor(vest_base)"
   ]
  },
  {
   "cell_type": "code",
   "execution_count": 50,
   "id": "d24390b5",
   "metadata": {},
   "outputs": [
    {
     "name": "stderr",
     "output_type": "stream",
     "text": [
      "100%|██████████████████████████████████████| 2477/2477 [00:03<00:00, 802.04it/s]\n",
      "100%|██████████████████████████████████████| 2477/2477 [00:18<00:00, 134.73it/s]\n"
     ]
    }
   ],
   "source": [
    "# vap and population have the same GEOID20\n",
    "blocks_to_precincts_assignment = maup.assign(population_df.geometry, vest_base.geometry)"
   ]
  },
  {
   "cell_type": "code",
   "execution_count": 51,
   "id": "ca181f49",
   "metadata": {},
   "outputs": [],
   "source": [
    "vest_base[pop_col] = population_df[pop_col].groupby(blocks_to_precincts_assignment).sum()"
   ]
  },
  {
   "cell_type": "code",
   "execution_count": 53,
   "id": "217a3cdf",
   "metadata": {},
   "outputs": [],
   "source": [
    "election_df = gpd.GeoDataFrame(vest_base)"
   ]
  },
  {
   "cell_type": "markdown",
   "id": "e53bea8f",
   "metadata": {},
   "source": [
    "## Check if population agrees"
   ]
  },
  {
   "cell_type": "code",
   "execution_count": 55,
   "id": "9da31a0e",
   "metadata": {},
   "outputs": [
    {
     "name": "stdout",
     "output_type": "stream",
     "text": [
      "population agrees\n"
     ]
    }
   ],
   "source": [
    "check_population(population_df, vest_base)"
   ]
  },
  {
   "cell_type": "markdown",
   "id": "5b56dae7",
   "metadata": {},
   "source": [
    "## Add more vest data"
   ]
  },
  {
   "cell_type": "code",
   "execution_count": 57,
   "id": "8626ed5a",
   "metadata": {},
   "outputs": [],
   "source": [
    "vest21 = gpd.read_file(vest21_data)\n",
    "vest18 = gpd.read_file(vest18_data)\n",
    "vest17 = gpd.read_file(vest17_data)\n",
    "vest16 = gpd.read_file(vest16_data)"
   ]
  },
  {
   "cell_type": "code",
   "execution_count": 58,
   "id": "50dae3e4",
   "metadata": {},
   "outputs": [
    {
     "data": {
      "text/plain": [
       "Index(['COUNTYFP', 'LOCALITY', 'VTDST', 'PRECINCT', 'G21GOVRYOU', 'G21GOVDMCA',\n",
       "       'G21GOVLBLA', 'G21GOVOWRI', 'G21LTGRSEA', 'G21LTGDAYA', 'G21LTGOWRI',\n",
       "       'G21ATGRMIY', 'G21ATGDHER', 'G21ATGOWRI', 'geometry'],\n",
       "      dtype='object')"
      ]
     },
     "execution_count": 58,
     "metadata": {},
     "output_type": "execute_result"
    }
   ],
   "source": [
    "vest21.columns"
   ]
  },
  {
   "cell_type": "code",
   "execution_count": 59,
   "id": "77b08af4",
   "metadata": {},
   "outputs": [
    {
     "data": {
      "text/plain": [
       "Index(['COUNTYFP', 'LOCALITY', 'VTDST', 'PRECINCT', 'G18USSDKAI', 'G18USSRSTE',\n",
       "       'G18USSLWAT', 'G18USSOWRI', 'geometry'],\n",
       "      dtype='object')"
      ]
     },
     "execution_count": 59,
     "metadata": {},
     "output_type": "execute_result"
    }
   ],
   "source": [
    "vest18.columns"
   ]
  },
  {
   "cell_type": "code",
   "execution_count": 60,
   "id": "ab43362d",
   "metadata": {},
   "outputs": [
    {
     "data": {
      "text/plain": [
       "Index(['COUNTYFP', 'LOCALITY', 'VTDST', 'PRECINCT', 'G17GOVDNOR', 'G17GOVRGIL',\n",
       "       'G17GOVLHYR', 'G17GOVOWRI', 'G17LTGDFAI', 'G17LTGRVOG', 'G17LTGOWRI',\n",
       "       'G17ATGDHER', 'G17ATGRADA', 'G17ATGOWRI', 'geometry'],\n",
       "      dtype='object')"
      ]
     },
     "execution_count": 60,
     "metadata": {},
     "output_type": "execute_result"
    }
   ],
   "source": [
    "vest17.columns"
   ]
  },
  {
   "cell_type": "code",
   "execution_count": 61,
   "id": "a11e130f",
   "metadata": {},
   "outputs": [
    {
     "data": {
      "text/plain": [
       "Index(['COUNTYFP', 'LOCALITY', 'VTDST', 'PRECINCT', 'G16PREDCLI', 'G16PRERTRU',\n",
       "       'G16PRELJOH', 'G16PREIMCM', 'G16PREGSTE', 'G16PREOWRI', 'geometry'],\n",
       "      dtype='object')"
      ]
     },
     "execution_count": 61,
     "metadata": {},
     "output_type": "execute_result"
    }
   ],
   "source": [
    "vest16.columns"
   ]
  },
  {
   "cell_type": "code",
   "execution_count": 62,
   "id": "5b909952",
   "metadata": {},
   "outputs": [
    {
     "name": "stderr",
     "output_type": "stream",
     "text": [
      "100%|██████████████████████████████████████| 2479/2479 [00:03<00:00, 715.44it/s]\n"
     ]
    },
    {
     "name": "stdout",
     "output_type": "stream",
     "text": [
      "There are 81 overlaps.\n",
      "There are 551 holes.\n",
      "Snapping all geometries to a grid with precision 10^( -5 ) to avoid GEOS errors.\n",
      "Identifying overlaps...\n"
     ]
    },
    {
     "name": "stderr",
     "output_type": "stream",
     "text": [
      "100%|█████████████████████████████████████| 2624/2624 [00:00<00:00, 3729.79it/s]\n"
     ]
    },
    {
     "name": "stdout",
     "output_type": "stream",
     "text": [
      "Resolving overlaps...\n",
      "Assigning order 2 pieces...\n",
      "Assigning order 3 pieces...\n",
      "Filling gaps...\n"
     ]
    },
    {
     "name": "stderr",
     "output_type": "stream",
     "text": [
      "Gaps to simplify: 100%|█████████████████████████| 65/65 [00:10<00:00,  6.37it/s]\n",
      "Gaps to fill: 100%|███████████████████████████████| 7/7 [00:01<00:00,  5.61it/s]\n",
      "100%|██████████████████████████████████████| 2479/2479 [00:03<00:00, 709.29it/s]\n",
      "100%|██████████████████████████████████████| 2479/2479 [00:03<00:00, 755.63it/s]\n",
      "100%|██████████████████████████████████████| 2479/2479 [00:18<00:00, 130.91it/s]\n",
      "100%|██████████████████████████████████████| 2477/2477 [00:03<00:00, 751.15it/s]\n",
      "100%|██████████████████████████████████████| 2477/2477 [00:18<00:00, 135.69it/s]\n"
     ]
    },
    {
     "name": "stdout",
     "output_type": "stream",
     "text": [
      "population agrees\n"
     ]
    },
    {
     "name": "stderr",
     "output_type": "stream",
     "text": [
      "100%|██████████████████████████████████████| 2463/2463 [00:03<00:00, 705.06it/s]\n"
     ]
    },
    {
     "name": "stdout",
     "output_type": "stream",
     "text": [
      "There are 46 overlaps.\n",
      "There are 81 holes.\n",
      "Snapping all geometries to a grid with precision 10^( -5 ) to avoid GEOS errors.\n",
      "Identifying overlaps...\n"
     ]
    },
    {
     "name": "stderr",
     "output_type": "stream",
     "text": [
      "100%|█████████████████████████████████████| 2574/2574 [00:00<00:00, 3673.33it/s]\n"
     ]
    },
    {
     "name": "stdout",
     "output_type": "stream",
     "text": [
      "Resolving overlaps...\n",
      "Assigning order 2 pieces...\n",
      "Assigning order 3 pieces...\n",
      "Filling gaps...\n"
     ]
    },
    {
     "name": "stderr",
     "output_type": "stream",
     "text": [
      "Gaps to simplify: 100%|█████████████████████████| 49/49 [00:07<00:00,  6.24it/s]\n",
      "Gaps to fill: 100%|███████████████████████████████| 4/4 [00:00<00:00,  4.76it/s]\n",
      "100%|██████████████████████████████████████| 2463/2463 [00:03<00:00, 723.67it/s]\n",
      "100%|██████████████████████████████████████| 2463/2463 [00:03<00:00, 740.82it/s]\n",
      "100%|██████████████████████████████████████| 2463/2463 [00:18<00:00, 134.52it/s]\n",
      "100%|██████████████████████████████████████| 2477/2477 [00:03<00:00, 699.27it/s]\n",
      "100%|██████████████████████████████████████| 2477/2477 [00:18<00:00, 135.76it/s]\n"
     ]
    },
    {
     "name": "stdout",
     "output_type": "stream",
     "text": [
      "population agrees\n"
     ]
    },
    {
     "name": "stderr",
     "output_type": "stream",
     "text": [
      "100%|██████████████████████████████████████| 2463/2463 [00:03<00:00, 745.53it/s]\n"
     ]
    },
    {
     "name": "stdout",
     "output_type": "stream",
     "text": [
      "There are 47 overlaps.\n",
      "There are 82 holes.\n",
      "Snapping all geometries to a grid with precision 10^( -5 ) to avoid GEOS errors.\n",
      "Identifying overlaps...\n"
     ]
    },
    {
     "name": "stderr",
     "output_type": "stream",
     "text": [
      "100%|█████████████████████████████████████| 2577/2577 [00:00<00:00, 3806.25it/s]\n"
     ]
    },
    {
     "name": "stdout",
     "output_type": "stream",
     "text": [
      "Resolving overlaps...\n",
      "Assigning order 2 pieces...\n",
      "Assigning order 3 pieces...\n",
      "Filling gaps...\n"
     ]
    },
    {
     "name": "stderr",
     "output_type": "stream",
     "text": [
      "Gaps to simplify: 100%|█████████████████████████| 49/49 [00:07<00:00,  6.32it/s]\n",
      "Gaps to fill: 100%|███████████████████████████████| 4/4 [00:00<00:00,  4.89it/s]\n",
      "100%|██████████████████████████████████████| 2463/2463 [00:03<00:00, 759.06it/s]\n",
      "100%|██████████████████████████████████████| 2463/2463 [00:03<00:00, 716.35it/s]\n",
      "100%|██████████████████████████████████████| 2463/2463 [00:17<00:00, 138.05it/s]\n",
      "100%|██████████████████████████████████████| 2477/2477 [00:03<00:00, 806.47it/s]\n",
      "100%|██████████████████████████████████████| 2477/2477 [00:17<00:00, 138.70it/s]\n"
     ]
    },
    {
     "name": "stdout",
     "output_type": "stream",
     "text": [
      "population agrees\n"
     ]
    },
    {
     "name": "stderr",
     "output_type": "stream",
     "text": [
      "100%|██████████████████████████████████████| 2456/2456 [00:03<00:00, 711.48it/s]\n"
     ]
    },
    {
     "name": "stdout",
     "output_type": "stream",
     "text": [
      "There are 51 overlaps.\n",
      "There are 83 holes.\n",
      "There are some invalid geometries.\n",
      "Snapping all geometries to a grid with precision 10^( -5 ) to avoid GEOS errors.\n",
      "Identifying overlaps...\n"
     ]
    },
    {
     "name": "stderr",
     "output_type": "stream",
     "text": [
      "100%|█████████████████████████████████████| 2571/2571 [00:00<00:00, 3687.22it/s]\n"
     ]
    },
    {
     "name": "stdout",
     "output_type": "stream",
     "text": [
      "Resolving overlaps...\n",
      "Assigning order 2 pieces...\n",
      "Assigning order 3 pieces...\n",
      "Filling gaps...\n"
     ]
    },
    {
     "name": "stderr",
     "output_type": "stream",
     "text": [
      "Gaps to simplify: 100%|█████████████████████████| 50/50 [00:07<00:00,  6.44it/s]\n",
      "Gaps to fill: 100%|███████████████████████████████| 5/5 [00:01<00:00,  4.97it/s]\n",
      "100%|██████████████████████████████████████| 2456/2456 [00:03<00:00, 751.82it/s]\n",
      "100%|██████████████████████████████████████| 2456/2456 [00:03<00:00, 751.25it/s]\n",
      "100%|██████████████████████████████████████| 2456/2456 [00:17<00:00, 137.11it/s]\n",
      "100%|██████████████████████████████████████| 2477/2477 [00:02<00:00, 827.16it/s]\n",
      "100%|██████████████████████████████████████| 2477/2477 [00:18<00:00, 137.60it/s]\n"
     ]
    },
    {
     "name": "stdout",
     "output_type": "stream",
     "text": [
      "population agrees\n"
     ]
    }
   ],
   "source": [
    "# check the result here\n",
    "election_df = add_vest(vest21, election_df, '21', population_df, start_col)\n",
    "election_df = add_vest(vest18, election_df, '18', population_df, start_col)\n",
    "election_df = add_vest(vest17, election_df, '17', population_df, start_col)\n",
    "election_df = add_vest(vest16, election_df, '16', population_df, start_col)"
   ]
  },
  {
   "cell_type": "markdown",
   "id": "fc2a6947",
   "metadata": {},
   "source": [
    "##  Add the district data"
   ]
  },
  {
   "cell_type": "code",
   "execution_count": 64,
   "id": "70796e06",
   "metadata": {},
   "outputs": [],
   "source": [
    "cong_df = gpd.read_file(cd_data)\n",
    "cong_df = cong_df.to_crs(cong_df.estimate_utm_crs())\n",
    "send = gpd.read_file(send_data)\n",
    "send = send.to_crs(send.estimate_utm_crs())\n",
    "hdist = gpd.read_file(hdist_data)\n",
    "hdist = hdist.to_crs(hdist.estimate_utm_crs())"
   ]
  },
  {
   "cell_type": "code",
   "execution_count": 65,
   "id": "9fd8f3e8",
   "metadata": {},
   "outputs": [
    {
     "name": "stderr",
     "output_type": "stream",
     "text": [
      "100%|███████████████████████████████████████████| 11/11 [00:00<00:00, 67.20it/s]\n",
      "100%|██████████████████████████████████████████| 11/11 [00:00<00:00, 138.26it/s]\n",
      "100%|███████████████████████████████████████████| 11/11 [00:01<00:00,  9.59it/s]\n"
     ]
    }
   ],
   "source": [
    "election_df = add_district(cong_df, \"CD\", election_df, \"DISTRICTN\")"
   ]
  },
  {
   "cell_type": "code",
   "execution_count": 66,
   "id": "c3445b72",
   "metadata": {},
   "outputs": [
    {
     "name": "stderr",
     "output_type": "stream",
     "text": [
      "100%|██████████████████████████████████████████| 40/40 [00:00<00:00, 104.99it/s]\n",
      "100%|██████████████████████████████████████████| 40/40 [00:00<00:00, 308.51it/s]\n",
      "100%|███████████████████████████████████████████| 40/40 [00:01<00:00, 21.28it/s]\n"
     ]
    }
   ],
   "source": [
    "election_df = add_district(send, \"SEND\", election_df, \"DISTRICTN\")"
   ]
  },
  {
   "cell_type": "code",
   "execution_count": 67,
   "id": "6f642de3",
   "metadata": {},
   "outputs": [
    {
     "name": "stderr",
     "output_type": "stream",
     "text": [
      "100%|████████████████████████████████████████| 100/100 [00:00<00:00, 151.68it/s]\n",
      "100%|████████████████████████████████████████| 100/100 [00:00<00:00, 319.58it/s]\n",
      "100%|█████████████████████████████████████████| 100/100 [00:02<00:00, 37.18it/s]\n"
     ]
    }
   ],
   "source": [
    "election_df = add_district(hdist, \"HDIST\", election_df, \"DISTRICTN\")"
   ]
  },
  {
   "cell_type": "code",
   "execution_count": 68,
   "id": "23e23262-9f8d-46ed-b574-643a5d2c20cb",
   "metadata": {},
   "outputs": [
    {
     "name": "stderr",
     "output_type": "stream",
     "text": [
      "100%|██████████████████████████████████████| 2477/2477 [00:03<00:00, 738.80it/s]\n"
     ]
    },
    {
     "data": {
      "text/plain": [
       "True"
      ]
     },
     "execution_count": 68,
     "metadata": {},
     "output_type": "execute_result"
    }
   ],
   "source": [
    "maup.doctor(election_df)"
   ]
  },
  {
   "cell_type": "code",
   "execution_count": 69,
   "id": "9ee53963",
   "metadata": {},
   "outputs": [
    {
     "data": {
      "text/plain": [
       "Index(['2MOREVAP', 'AMINVAP', 'ASIANVAP', 'ATG17D', 'ATG17O', 'ATG17R',\n",
       "       'ATG21D', 'ATG21O', 'ATG21R', 'BVAP', 'COUNTYFP', 'GOV17D', 'GOV17O',\n",
       "       'GOV17R', 'GOV21D', 'GOV21O', 'GOV21R', 'HISP', 'HVAP', 'H_2MORE',\n",
       "       'H_AMIN', 'H_ASIAN', 'H_BLACK', 'H_NHPI', 'H_OTHER', 'H_WHITE',\n",
       "       'LOCALITY', 'LTG17D', 'LTG17O', 'LTG17R', 'LTG21D', 'LTG21O', 'LTG21R',\n",
       "       'NHPIVAP', 'NH_2MORE', 'NH_AMIN', 'NH_ASIAN', 'NH_BLACK', 'NH_NHPI',\n",
       "       'NH_OTHER', 'NH_WHITE', 'OTHERVAP', 'PRE16D', 'PRE16O', 'PRE16R',\n",
       "       'PRE20D', 'PRE20O', 'PRE20R', 'PRECINCT', 'TOTPOP', 'USS18D', 'USS18O',\n",
       "       'USS18R', 'USS20D', 'USS20O', 'USS20R', 'VAP', 'VTDST', 'WVAP',\n",
       "       'geometry', 'CD', 'SEND', 'HDIST'],\n",
       "      dtype='object')"
      ]
     },
     "execution_count": 69,
     "metadata": {},
     "output_type": "execute_result"
    }
   ],
   "source": [
    "election_df.columns"
   ]
  },
  {
   "cell_type": "markdown",
   "id": "a0ae2407",
   "metadata": {},
   "source": [
    "### Put the base precinct year after the precinct information column"
   ]
  },
  {
   "cell_type": "code",
   "execution_count": 71,
   "id": "39ce0631",
   "metadata": {},
   "outputs": [],
   "source": [
    "base_columns = {}\n",
    "if 'COUNTYFP' + year not in election_df.columns:\n",
    "    base_columns = {\n",
    "        'COUNTYFP':'COUNTYFP'+year,\n",
    "        'VTDST':'VTDST'+year,\n",
    "        'PRECINCT':'PRECINCT'+year,\n",
    "        'LOCALITY':'LOCALITY'+year} \n",
    "election_df.rename(columns=base_columns, inplace = True)"
   ]
  },
  {
   "cell_type": "code",
   "execution_count": 72,
   "id": "178b7531",
   "metadata": {},
   "outputs": [],
   "source": [
    "# reorder the columns\n",
    "fixed_columns = [\n",
    "    'COUNTYFP'+year,\n",
    "    'VTDST'+year,\n",
    "    'PRECINCT'+year,\n",
    "    'LOCALITY'+year,\n",
    "    'CD',\n",
    "    'SEND',\n",
    "    'HDIST',\n",
    "    'TOTPOP',\n",
    "    'NH_2MORE',\n",
    "    'NH_AMIN',\n",
    "    'NH_ASIAN',\n",
    "    'NH_BLACK',\n",
    "    'NH_NHPI',\n",
    "    'NH_OTHER',\n",
    "    'NH_WHITE',\n",
    "    'HISP',\n",
    "    'H_AMIN',\n",
    "    'H_ASIAN',\n",
    "    'H_BLACK',\n",
    "    'H_NHPI',\n",
    "    'H_OTHER',\n",
    "    'H_WHITE',\n",
    "    'H_2MORE',\n",
    "    'VAP',\n",
    "    'HVAP',\n",
    "    'WVAP',\n",
    "    'BVAP',\n",
    "    'AMINVAP',\n",
    "    'ASIANVAP',\n",
    "    'NHPIVAP',\n",
    "    'OTHERVAP',\n",
    "    '2MOREVAP']\n",
    "\n",
    "election_columns = [col for col in election_df.columns if col not in fixed_columns]\n",
    "final_col = fixed_columns + election_columns\n",
    "election_df = election_df[final_col]"
   ]
  },
  {
   "cell_type": "code",
   "execution_count": 73,
   "id": "8d2b36a7-ffd2-4738-848f-ec5d51726a35",
   "metadata": {},
   "outputs": [
    {
     "data": {
      "text/plain": [
       "Index(['COUNTYFP20', 'VTDST20', 'PRECINCT20', 'LOCALITY20', 'CD', 'SEND',\n",
       "       'HDIST', 'TOTPOP', 'NH_2MORE', 'NH_AMIN', 'NH_ASIAN', 'NH_BLACK',\n",
       "       'NH_NHPI', 'NH_OTHER', 'NH_WHITE', 'HISP', 'H_AMIN', 'H_ASIAN',\n",
       "       'H_BLACK', 'H_NHPI', 'H_OTHER', 'H_WHITE', 'H_2MORE', 'VAP', 'HVAP',\n",
       "       'WVAP', 'BVAP', 'AMINVAP', 'ASIANVAP', 'NHPIVAP', 'OTHERVAP',\n",
       "       '2MOREVAP', 'ATG17D', 'ATG17O', 'ATG17R', 'ATG21D', 'ATG21O', 'ATG21R',\n",
       "       'GOV17D', 'GOV17O', 'GOV17R', 'GOV21D', 'GOV21O', 'GOV21R', 'LTG17D',\n",
       "       'LTG17O', 'LTG17R', 'LTG21D', 'LTG21O', 'LTG21R', 'PRE16D', 'PRE16O',\n",
       "       'PRE16R', 'PRE20D', 'PRE20O', 'PRE20R', 'USS18D', 'USS18O', 'USS18R',\n",
       "       'USS20D', 'USS20O', 'USS20R', 'geometry'],\n",
       "      dtype='object')"
      ]
     },
     "execution_count": 73,
     "metadata": {},
     "output_type": "execute_result"
    }
   ],
   "source": [
    "election_df.columns"
   ]
  },
  {
   "cell_type": "code",
   "execution_count": 74,
   "id": "ffb940d2",
   "metadata": {},
   "outputs": [],
   "source": [
    "import os\n",
    "\n",
    "# store the result in directory \"il\"\n",
    "directory = \"./{}\".format(state_ab)\n",
    "if not os.path.exists(directory):\n",
    "    os.makedirs(directory)\n",
    "\n",
    "shapefile_path = \"./{}/{}.shp\".format(state_ab, state_ab)\n",
    "geojson_path = './{}/{}.geojson'.format(state_ab, state_ab)\n",
    "json_path = \"./{}.json\".format(state_ab, state_ab)\n",
    "\n",
    "# Check if the shapefile or geojson file already exists\n",
    "if os.path.exists(shapefile_path):\n",
    "    os.remove(shapefile_path)\n",
    "if os.path.exists(geojson_path):\n",
    "    os.remove(geojson_path)\n",
    "\n",
    "election_df.to_file(shapefile_path)\n",
    "election_df.to_file(geojson_path, driver='GeoJSON')\n",
    "\n",
    "# Only do once to build json and read from file when generating ensembles\n",
    "graph = Graph.from_file(shapefile_path, ignore_errors=True)\n",
    "graph.to_json(json_path)"
   ]
  },
  {
   "cell_type": "code",
   "execution_count": 75,
   "id": "eba2b356",
   "metadata": {},
   "outputs": [
    {
     "data": {
      "text/plain": [
       "<Axes: >"
      ]
     },
     "execution_count": 75,
     "metadata": {},
     "output_type": "execute_result"
    },
    {
     "data": {
      "image/png": "[encoded data removed]",
      "text/plain": [
       "<Figure size 640x480 with 1 Axes>"
      ]
     },
     "metadata": {},
     "output_type": "display_data"
    }
   ],
   "source": [
    "shape=gpd.read_file('va/va.shp')\n",
    "shape.plot()"
   ]
  },
  {
   "cell_type": "code",
   "execution_count": null,
   "id": "fb9f0f23-939b-444f-b533-21eb9698cca5",
   "metadata": {},
   "outputs": [],
   "source": []
  }
 ],
 "metadata": {
  "kernelspec": {
   "display_name": "gerry",
   "language": "python",
   "name": "gerry"
  },
  "language_info": {
   "codemirror_mode": {
    "name": "ipython",
    "version": 3
   },
   "file_extension": ".py",
   "mimetype": "text/x-python",
   "name": "python",
   "nbconvert_exporter": "python",
   "pygments_lexer": "ipython3",
   "version": "3.11.4"
  }
 },
 "nbformat": 4,
 "nbformat_minor": 5
}

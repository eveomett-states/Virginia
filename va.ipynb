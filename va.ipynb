{
 "cells": [
  {
   "cell_type": "markdown",
   "id": "b27fe5ba-9ba4-464d-bf97-2d6c17c72336",
   "metadata": {},
   "source": [
    "## Data Retrieved"
   ]
  },
  {
   "cell_type": "markdown",
   "id": "542bef2f-131a-475f-85e2-4f24a6df7db4",
   "metadata": {},
   "source": [
    "USF All data retrieved 04/30/24:\n",
    "https://redistrictingdatahub.org/dataset/virginia-block-pl-94171-2020-by-table/\n",
    "https://redistrictingdatahub.org/dataset/vest-2020-virginia-precinct-boundaries-and-election-results-shapefile/\n",
    "https://redistrictingdatahub.org/dataset/2021-virginia-congressional-districts-approved-plan/\n",
    "\n",
    "https://redistrictingdatahub.org/dataset/vest-2018-virginia-precinct-and-election-results/\n",
    "https://redistrictingdatahub.org/dataset/vest-2016-virginia-precinct-and-election-results/\n",
    "https://redistrictingdatahub.org/dataset/vest-2021-virginia-precinct-boundaries-and-election-results-shapefile/\n",
    "https://redistrictingdatahub.org/dataset/vest-2017-virginia-precinct-boundaries-and-election-results-shapefile/\n",
    "\n",
    "https://redistrictingdatahub.org/dataset/2021-senate-of-virginia-districts-approved-plan/\n",
    "https://redistrictingdatahub.org/dataset/2021-virginia-house-of-delegates-districts-approved-plan/"
   ]
  },
  {
   "cell_type": "code",
   "execution_count": 4,
   "id": "97be400b-13a5-4a2c-bf18-060019c6fe8a",
   "metadata": {},
   "outputs": [],
   "source": [
    "import pandas as pd\n",
    "import geopandas as gpd\n",
    "import maup\n",
    "import time\n",
    "from maup import smart_repair\n",
    "from gerrychain import Graph\n",
    "\n",
    "maup.progress.enabled = True"
   ]
  },
  {
   "cell_type": "code",
   "execution_count": 5,
   "id": "21720c83-4c11-4c01-9ac6-932271c1f00b",
   "metadata": {},
   "outputs": [],
   "source": [
    "import warnings\n",
    "warnings.filterwarnings(\"ignore\")"
   ]
  },
  {
   "cell_type": "code",
   "execution_count": 6,
   "id": "78aa544f-7cfe-47d6-99c3-5b9a67422e13",
   "metadata": {},
   "outputs": [],
   "source": [
    "# state = Virginia\n",
    "state_ab = \"va\""
   ]
  },
  {
   "cell_type": "markdown",
   "id": "9e4b4f49-67d5-4296-9484-1ae5631613f3",
   "metadata": {},
   "source": [
    "## Data\n",
    "1. Download all the data in directory \"va_data\"\n",
    "2. Extract them all"
   ]
  },
  {
   "cell_type": "code",
   "execution_count": 8,
   "id": "f9715959-1d22-4644-8f00-2957248fd4ce",
   "metadata": {},
   "outputs": [],
   "source": [
    "data_folder = state_ab + \"_data/\"\n",
    "population1_data = \"./{}{}_pl2020_b/{}_pl2020_p1_b.shp\".format(data_folder, state_ab, state_ab)\n",
    "population2_data = \"./{}{}_pl2020_b/{}_pl2020_p2_b.shp\".format(data_folder, state_ab, state_ab)\n",
    "vap_data =  \"./{}{}_pl2020_b/{}_pl2020_p4_b.shp\".format(data_folder, state_ab, state_ab)\n",
    "vest21_data = \"./{}{}_vest_21/{}_vest_21.shp\".format(data_folder, state_ab, state_ab)\n",
    "vest20_data = \"./{}{}_vest_20/{}_vest_20.shp\".format(data_folder, state_ab, state_ab)\n",
    "vest18_data = \"./{}{}_vest_18/{}_vest_18.shp\".format(data_folder, state_ab, state_ab)\n",
    "vest17_data = \"./{}{}_vest_17/{}_vest_17.shp\".format(data_folder, state_ab, state_ab)\n",
    "vest16_data = \"./{}{}_vest_16/{}_vest_16.shp\".format(data_folder, state_ab, state_ab)\n",
    "cd_data = \"./{}{}_cong_adopted_2021/SCV FINAL CD.shp\".format(data_folder, state_ab)\n",
    "send_data = \"./{}{}_sldu_adopted_2021/SCV FINAL SD.shp\".format(data_folder, state_ab)\n",
    "hdist_data = \"./{}{}_sldl_adopted_2021/SCV FINAL HOD.shp\".format(data_folder, state_ab)"
   ]
  },
  {
   "cell_type": "code",
   "execution_count": 9,
   "id": "43468832-9663-4f4c-9a0c-7649da99a9e3",
   "metadata": {},
   "outputs": [],
   "source": [
    "def do_smart_repair(df):\n",
    "    # change it to the UTM it needs for smart_repair\n",
    "    df = df.to_crs(df.estimate_utm_crs())\n",
    "    df = smart_repair(df)\n",
    "    \n",
    "    # check maup doctor again to see if smart repair works\n",
    "    if maup.doctor(df) == True:\n",
    "        # change it back to this UTM for this data\n",
    "        df = df.to_crs('EPSG:4269')\n",
    "    else:\n",
    "        df = df.to_crs('EPSG:4269')\n",
    "        raise Exception('maup.doctor failed')\n",
    "    \n",
    "    return df"
   ]
  },
  {
   "cell_type": "code",
   "execution_count": 10,
   "id": "60f35324-63c4-475b-a1b6-132efa1a56ea",
   "metadata": {},
   "outputs": [],
   "source": [
    "def add_district(dist_df, dist_name, election_df, col_name):\n",
    "    election_df = election_df.to_crs('EPSG:4269')\n",
    "    dist_df = dist_df.to_crs('EPSG:4269')\n",
    "    # check if it needs to be smart_repair\n",
    "    if maup.doctor(dist_df) != True:\n",
    "        dist_df = do_smart_repair(dist_df)\n",
    "\n",
    "    election_df = gpd.GeoDataFrame(election_df, crs=\"EPSG:4269\")\n",
    "\n",
    "    # assign the pricincts\n",
    "    precincts_to_district_assignment = maup.assign(election_df.geometry, dist_df.geometry)\n",
    "    election_df[dist_name] = precincts_to_district_assignment\n",
    "    for precinct_index in range(len(election_df)):\n",
    "        election_df.at[precinct_index, dist_name] = dist_df.at[election_df.at[precinct_index, dist_name], col_name]\n",
    "\n",
    "    return election_df"
   ]
  },
  {
   "cell_type": "code",
   "execution_count": 11,
   "id": "c171f560-cff2-4579-85c3-f9806f2148c6",
   "metadata": {},
   "outputs": [],
   "source": [
    "def rename(original, year):\n",
    "    party = original[6]\n",
    "    if party == 'R' or party == 'D':\n",
    "        return original[3:6] + year + original[6]\n",
    "    else:\n",
    "        return original[3:6] + year + 'O'"
   ]
  },
  {
   "cell_type": "code",
   "execution_count": 12,
   "id": "91246499",
   "metadata": {},
   "outputs": [],
   "source": [
    "pop_col = ['TOTPOP', 'HISP', 'NH_WHITE', 'NH_BLACK', 'NH_AMIN', 'NH_ASIAN', 'NH_NHPI', 'NH_OTHER', 'NH_2MORE', 'H_WHITE', 'H_BLACK', 'H_AMIN', 'H_ASIAN', 'H_NHPI', 'H_OTHER', 'H_2MORE', 'VAP', 'HVAP', 'WVAP', 'BVAP', 'AMINVAP', 'ASIANVAP', 'NHPIVAP', 'OTHERVAP', '2MOREVAP']"
   ]
  },
  {
   "cell_type": "code",
   "execution_count": 13,
   "id": "44116067",
   "metadata": {},
   "outputs": [],
   "source": [
    "def check_population(population, df):\n",
    "    pop_check = pd.DataFrame({\n",
    "        'pop_col': pop_col,\n",
    "        'population_df': population[pop_col].sum(), \n",
    "        'vest_base': df[pop_col].sum(),\n",
    "        'equal': [x == y for x, y in zip(population[pop_col].sum(), df[pop_col].sum())]\n",
    "    })\n",
    "    if pop_check['equal'].mean() < 1:\n",
    "        print(pop_check)\n",
    "        raise Exception(\"population doesn't agree\")\n",
    "\n",
    "    else:\n",
    "        print(\"population agrees\")"
   ]
  },
  {
   "cell_type": "code",
   "execution_count": 14,
   "id": "ce742e28",
   "metadata": {},
   "outputs": [],
   "source": [
    "def add_vest(vest, df, year, population, start_col):\n",
    "    df = df.to_crs('EPSG:4269')\n",
    "    vest = vest.to_crs('EPSG:4269')\n",
    "     # check if it needs to be smart_repair\n",
    "    if maup.doctor(vest) != True:\n",
    "        vest = do_smart_repair(vest)\n",
    "    \n",
    "    # rename the columns\n",
    "    original_col = vest.columns[start_col:-1]\n",
    "    new_col = [rename(i, year) for i in original_col]\n",
    "    rename_dict = dict(zip(original_col, new_col))\n",
    "    vest = vest.rename(columns=rename_dict)\n",
    "    vest = vest.groupby(level=0, axis=1).sum() # combine all the other party's vote into columns with sufix \"O\"\n",
    "    col_name = list(set(new_col))\n",
    "    col_name.sort()\n",
    "    \n",
    "    # make the blocks from precincts by weight\n",
    "    vest = gpd.GeoDataFrame(vest, crs=\"EPSG:4269\")\n",
    "    election_in_block = population[[\"VAP\", 'geometry']] # population_df is in block scale\n",
    "    blocks_to_precincts_assignment = maup.assign(election_in_block.geometry, vest.geometry)\n",
    "    weights = election_in_block[\"VAP\"] / blocks_to_precincts_assignment.map(election_in_block[\"VAP\"].groupby(blocks_to_precincts_assignment).sum())\n",
    "    weights = weights.fillna(0)\n",
    "    prorated = maup.prorate(blocks_to_precincts_assignment, vest[col_name], weights)\n",
    "    election_in_block[col_name] = prorated\n",
    "    \n",
    "    # assign blocks to precincts\n",
    "    election_in_block = gpd.GeoDataFrame(election_in_block, crs=\"EPSG:4269\")\n",
    "    df = gpd.GeoDataFrame(df, crs=\"EPSG:4269\")\n",
    "    block_to_pricinct_assginment = maup.assign(election_in_block.geometry, df.geometry)\n",
    "    df[col_name] = election_in_block[col_name].groupby(block_to_pricinct_assginment).sum()\n",
    "    df = df.groupby(level=0, axis=1).sum()\n",
    "    df = gpd.GeoDataFrame(df, crs = \"EPSG:4269\")\n",
    "    # check if population agrees\n",
    "    check_population(population, df)\n",
    "    \n",
    "    return df"
   ]
  },
  {
   "cell_type": "markdown",
   "id": "44238acb-c1b6-4b87-961b-243b3840995e",
   "metadata": {},
   "source": [
    "### Read the census data"
   ]
  },
  {
   "cell_type": "code",
   "execution_count": 16,
   "id": "fdbbeeb9-d2f9-4f62-9425-0862778f1e56",
   "metadata": {},
   "outputs": [],
   "source": [
    "population1_df = gpd.read_file(population1_data)\n",
    "population2_df = gpd.read_file(population2_data)\n",
    "vap_df = gpd.read_file(vap_data)"
   ]
  },
  {
   "cell_type": "code",
   "execution_count": 17,
   "id": "6f07afcf-aba3-4f3c-b826-7c5458ef5b8a",
   "metadata": {},
   "outputs": [],
   "source": [
    "population2_df = population2_df.drop(columns=['SUMLEV', 'LOGRECNO', 'GEOID', 'COUNTY', 'geometry'])\n",
    "vap_df = vap_df.drop(columns=['SUMLEV', 'LOGRECNO', 'GEOID', 'COUNTY', 'geometry'])"
   ]
  },
  {
   "cell_type": "code",
   "execution_count": 18,
   "id": "9d560222-1af2-4ccb-a794-1430bd335efb",
   "metadata": {},
   "outputs": [],
   "source": [
    "population_df = pd.merge(population1_df, population2_df, on='GEOID20')\n",
    "population_df = pd.merge(population_df, vap_df, on='GEOID20')"
   ]
  },
  {
   "cell_type": "code",
   "execution_count": 19,
   "id": "47022c58-9875-492e-8f29-45d668d01f5d",
   "metadata": {},
   "outputs": [
    {
     "name": "stderr",
     "output_type": "stream",
     "text": [
      "100%|█████████████████████████████████| 163491/163491 [01:08<00:00, 2373.68it/s]\n"
     ]
    },
    {
     "data": {
      "text/plain": [
       "True"
      ]
     },
     "execution_count": 19,
     "metadata": {},
     "output_type": "execute_result"
    }
   ],
   "source": [
    "maup.doctor(population_df)"
   ]
  },
  {
   "cell_type": "code",
   "execution_count": 20,
   "id": "49ecc1ed-947c-4a62-93bb-d564f63a71f0",
   "metadata": {},
   "outputs": [],
   "source": [
    "population_df['H_WHITE'] = population_df.apply(lambda t: t['P0010003'] - t['P0020005'], 1)\n",
    "population_df['H_BLACK'] = population_df.apply(lambda t: t['P0010004'] - t['P0020006'], 1)\n",
    "population_df['H_AMIN'] = population_df.apply(lambda t: t['P0010005'] - t['P0020007'], 1)\n",
    "population_df['H_ASIAN'] = population_df.apply(lambda t: t['P0010006'] - t['P0020008'], 1)\n",
    "population_df['H_NHPI'] = population_df.apply(lambda t: t['P0010007'] - t['P0020009'], 1)\n",
    "population_df['H_OTHER'] = population_df.apply(lambda t: t['P0010008'] - t['P0020010'], 1)\n",
    "population_df['H_2MORE'] = population_df.apply(lambda t: t['P0010009'] - t['P0020011'], 1)"
   ]
  },
  {
   "cell_type": "code",
   "execution_count": 21,
   "id": "0bb87815",
   "metadata": {},
   "outputs": [],
   "source": [
    "rename_dict = {'P0020001': 'TOTPOP', 'P0020002': 'HISP', 'P0020005': 'NH_WHITE', 'P0020006': 'NH_BLACK', 'P0020007': 'NH_AMIN',\n",
    "                    'P0020008': 'NH_ASIAN', 'P0020009': 'NH_NHPI', 'P0020010': 'NH_OTHER', 'P0020011': 'NH_2MORE',\n",
    "                    'P0040001': 'VAP', 'P0040002': 'HVAP', 'P0040005': 'WVAP', 'P0040006': 'BVAP', 'P0040007': 'AMINVAP',\n",
    "                                        'P0040008': 'ASIANVAP', 'P0040009': 'NHPIVAP', 'P0040010': 'OTHERVAP', 'P0040011': '2MOREVAP'}"
   ]
  },
  {
   "cell_type": "code",
   "execution_count": 22,
   "id": "9f489b5c",
   "metadata": {},
   "outputs": [],
   "source": [
    "population_df.rename(columns=rename_dict, inplace = True)"
   ]
  },
  {
   "cell_type": "code",
   "execution_count": 23,
   "id": "e2895b0c",
   "metadata": {},
   "outputs": [
    {
     "name": "stderr",
     "output_type": "stream",
     "text": [
      "100%|███████████████████████████████████████████| 11/11 [00:00<00:00, 61.61it/s]\n"
     ]
    },
    {
     "data": {
      "text/plain": [
       "True"
      ]
     },
     "execution_count": 23,
     "metadata": {},
     "output_type": "execute_result"
    }
   ],
   "source": [
    "cong_df = gpd.read_file(cd_data)\n",
    "maup.doctor(cong_df)"
   ]
  },
  {
   "cell_type": "markdown",
   "id": "c2091314-91dc-415f-a3c1-183a5dc4db05",
   "metadata": {},
   "source": [
    "## Read the vest 20 data\n",
    "\n",
    "Now using it as a \"base pricinct\""
   ]
  },
  {
   "cell_type": "code",
   "execution_count": 25,
   "id": "7cd2c574",
   "metadata": {},
   "outputs": [],
   "source": [
    "def add_vest_base(vest, start_col, year):\n",
    "    original_col = vest.columns[start_col:-1]\n",
    "    new_col = [rename(i, year) for i in original_col]\n",
    "    rename_dict = dict(zip(original_col, new_col))\n",
    "    vest = vest.rename(columns=rename_dict)\n",
    "    vest = vest.groupby(level=0, axis=1).sum()\n",
    "    vest = gpd.GeoDataFrame(vest, crs=\"EPSG:4269\")\n",
    "    \n",
    "    return vest"
   ]
  },
  {
   "cell_type": "markdown",
   "id": "cbf75de4",
   "metadata": {},
   "source": [
    "## Check if vest20 can be used as base"
   ]
  },
  {
   "cell_type": "code",
   "execution_count": 27,
   "id": "20fd0020",
   "metadata": {},
   "outputs": [
    {
     "name": "stderr",
     "output_type": "stream",
     "text": [
      "100%|██████████████████████████████████████| 2477/2477 [00:03<00:00, 716.41it/s]\n"
     ]
    },
    {
     "name": "stdout",
     "output_type": "stream",
     "text": [
      "There are 58 overlaps.\n",
      "There are 587 holes.\n",
      "Snapping all geometries to a grid with precision 10^( -5 ) to avoid GEOS errors.\n",
      "Identifying overlaps...\n"
     ]
    },
    {
     "name": "stderr",
     "output_type": "stream",
     "text": [
      "100%|█████████████████████████████████████| 2623/2623 [00:00<00:00, 3747.72it/s]\n"
     ]
    },
    {
     "name": "stdout",
     "output_type": "stream",
     "text": [
      "Resolving overlaps...\n",
      "Assigning order 2 pieces...\n",
      "Assigning order 3 pieces...\n",
      "Filling gaps...\n"
     ]
    },
    {
     "name": "stderr",
     "output_type": "stream",
     "text": [
      "Gaps to simplify: 100%|█████████████████████████| 64/64 [00:09<00:00,  6.65it/s]\n",
      "Gaps to fill: 100%|███████████████████████████████| 7/7 [00:01<00:00,  5.88it/s]\n",
      "100%|██████████████████████████████████████| 2477/2477 [00:03<00:00, 756.26it/s]\n"
     ]
    }
   ],
   "source": [
    "vest20 = gpd.read_file(vest20_data)\n",
    "if maup.doctor(vest20) != True:\n",
    "    vest20 = do_smart_repair(vest20)"
   ]
  },
  {
   "cell_type": "code",
   "execution_count": 28,
   "id": "5f823a48",
   "metadata": {},
   "outputs": [
    {
     "data": {
      "text/plain": [
       "Index(['COUNTYFP', 'LOCALITY', 'VTDST', 'PRECINCT', 'G20PREDBID', 'G20PRERTRU',\n",
       "       'G20PRELJOR', 'G20PREOWRI', 'G20USSDWAR', 'G20USSRGAD', 'G20USSOWRI',\n",
       "       'geometry'],\n",
       "      dtype='object')"
      ]
     },
     "execution_count": 28,
     "metadata": {},
     "output_type": "execute_result"
    }
   ],
   "source": [
    "vest20.columns"
   ]
  },
  {
   "cell_type": "code",
   "execution_count": 29,
   "id": "cc7aaccc",
   "metadata": {},
   "outputs": [],
   "source": [
    "start_col = 4\n",
    "vest_base_data = vest20\n",
    "year = '20'"
   ]
  },
  {
   "cell_type": "code",
   "execution_count": 30,
   "id": "556ed71f",
   "metadata": {},
   "outputs": [],
   "source": [
    "vest_base = add_vest_base(vest_base_data, start_col, year)"
   ]
  },
  {
   "cell_type": "code",
   "execution_count": 31,
   "id": "d24390b5",
   "metadata": {},
   "outputs": [
    {
     "name": "stderr",
     "output_type": "stream",
     "text": [
      "100%|██████████████████████████████████████| 2477/2477 [00:03<00:00, 815.80it/s]\n",
      "100%|██████████████████████████████████████| 2477/2477 [00:17<00:00, 138.26it/s]\n"
     ]
    }
   ],
   "source": [
    "# vap and population have the same GEOID20\n",
    "blocks_to_precincts_assignment = maup.assign(population_df.geometry, vest_base.geometry)"
   ]
  },
  {
   "cell_type": "code",
   "execution_count": 32,
   "id": "ca181f49",
   "metadata": {},
   "outputs": [],
   "source": [
    "vest_base[pop_col] = population_df[pop_col].groupby(blocks_to_precincts_assignment).sum()"
   ]
  },
  {
   "cell_type": "code",
   "execution_count": 33,
   "id": "217a3cdf",
   "metadata": {},
   "outputs": [],
   "source": [
    "election_df = gpd.GeoDataFrame(vest_base, crs=\"EPSG:4269\")"
   ]
  },
  {
   "cell_type": "markdown",
   "id": "e53bea8f",
   "metadata": {},
   "source": [
    "## Check if population agrees"
   ]
  },
  {
   "cell_type": "code",
   "execution_count": 35,
   "id": "9da31a0e",
   "metadata": {},
   "outputs": [
    {
     "data": {
      "text/html": [
       "<div>\n",
       "<style scoped>\n",
       "    .dataframe tbody tr th:only-of-type {\n",
       "        vertical-align: middle;\n",
       "    }\n",
       "\n",
       "    .dataframe tbody tr th {\n",
       "        vertical-align: top;\n",
       "    }\n",
       "\n",
       "    .dataframe thead th {\n",
       "        text-align: right;\n",
       "    }\n",
       "</style>\n",
       "<table border=\"1\" class=\"dataframe\">\n",
       "  <thead>\n",
       "    <tr style=\"text-align: right;\">\n",
       "      <th></th>\n",
       "      <th>pop_col</th>\n",
       "      <th>population_df</th>\n",
       "      <th>vest_base</th>\n",
       "      <th>equal</th>\n",
       "    </tr>\n",
       "  </thead>\n",
       "  <tbody>\n",
       "    <tr>\n",
       "      <th>TOTPOP</th>\n",
       "      <td>TOTPOP</td>\n",
       "      <td>8631393</td>\n",
       "      <td>8631393.0</td>\n",
       "      <td>True</td>\n",
       "    </tr>\n",
       "    <tr>\n",
       "      <th>HISP</th>\n",
       "      <td>HISP</td>\n",
       "      <td>908749</td>\n",
       "      <td>908749.0</td>\n",
       "      <td>True</td>\n",
       "    </tr>\n",
       "    <tr>\n",
       "      <th>NH_WHITE</th>\n",
       "      <td>NH_WHITE</td>\n",
       "      <td>5058363</td>\n",
       "      <td>5058363.0</td>\n",
       "      <td>True</td>\n",
       "    </tr>\n",
       "    <tr>\n",
       "      <th>NH_BLACK</th>\n",
       "      <td>NH_BLACK</td>\n",
       "      <td>1578090</td>\n",
       "      <td>1578090.0</td>\n",
       "      <td>True</td>\n",
       "    </tr>\n",
       "    <tr>\n",
       "      <th>NH_AMIN</th>\n",
       "      <td>NH_AMIN</td>\n",
       "      <td>19080</td>\n",
       "      <td>19080.0</td>\n",
       "      <td>True</td>\n",
       "    </tr>\n",
       "    <tr>\n",
       "      <th>NH_ASIAN</th>\n",
       "      <td>NH_ASIAN</td>\n",
       "      <td>610612</td>\n",
       "      <td>610612.0</td>\n",
       "      <td>True</td>\n",
       "    </tr>\n",
       "    <tr>\n",
       "      <th>NH_NHPI</th>\n",
       "      <td>NH_NHPI</td>\n",
       "      <td>6195</td>\n",
       "      <td>6195.0</td>\n",
       "      <td>True</td>\n",
       "    </tr>\n",
       "    <tr>\n",
       "      <th>NH_OTHER</th>\n",
       "      <td>NH_OTHER</td>\n",
       "      <td>45394</td>\n",
       "      <td>45394.0</td>\n",
       "      <td>True</td>\n",
       "    </tr>\n",
       "    <tr>\n",
       "      <th>NH_2MORE</th>\n",
       "      <td>NH_2MORE</td>\n",
       "      <td>404910</td>\n",
       "      <td>404910.0</td>\n",
       "      <td>True</td>\n",
       "    </tr>\n",
       "    <tr>\n",
       "      <th>H_WHITE</th>\n",
       "      <td>H_WHITE</td>\n",
       "      <td>150493</td>\n",
       "      <td>150493.0</td>\n",
       "      <td>True</td>\n",
       "    </tr>\n",
       "    <tr>\n",
       "      <th>H_BLACK</th>\n",
       "      <td>H_BLACK</td>\n",
       "      <td>29491</td>\n",
       "      <td>29491.0</td>\n",
       "      <td>True</td>\n",
       "    </tr>\n",
       "    <tr>\n",
       "      <th>H_AMIN</th>\n",
       "      <td>H_AMIN</td>\n",
       "      <td>20927</td>\n",
       "      <td>20927.0</td>\n",
       "      <td>True</td>\n",
       "    </tr>\n",
       "    <tr>\n",
       "      <th>H_ASIAN</th>\n",
       "      <td>H_ASIAN</td>\n",
       "      <td>4824</td>\n",
       "      <td>4824.0</td>\n",
       "      <td>True</td>\n",
       "    </tr>\n",
       "    <tr>\n",
       "      <th>H_NHPI</th>\n",
       "      <td>H_NHPI</td>\n",
       "      <td>961</td>\n",
       "      <td>961.0</td>\n",
       "      <td>True</td>\n",
       "    </tr>\n",
       "    <tr>\n",
       "      <th>H_OTHER</th>\n",
       "      <td>H_OTHER</td>\n",
       "      <td>401256</td>\n",
       "      <td>401256.0</td>\n",
       "      <td>True</td>\n",
       "    </tr>\n",
       "    <tr>\n",
       "      <th>H_2MORE</th>\n",
       "      <td>H_2MORE</td>\n",
       "      <td>300797</td>\n",
       "      <td>300797.0</td>\n",
       "      <td>True</td>\n",
       "    </tr>\n",
       "    <tr>\n",
       "      <th>VAP</th>\n",
       "      <td>VAP</td>\n",
       "      <td>6745054</td>\n",
       "      <td>6745054.0</td>\n",
       "      <td>True</td>\n",
       "    </tr>\n",
       "    <tr>\n",
       "      <th>HVAP</th>\n",
       "      <td>HVAP</td>\n",
       "      <td>614314</td>\n",
       "      <td>614314.0</td>\n",
       "      <td>True</td>\n",
       "    </tr>\n",
       "    <tr>\n",
       "      <th>WVAP</th>\n",
       "      <td>WVAP</td>\n",
       "      <td>4136979</td>\n",
       "      <td>4136979.0</td>\n",
       "      <td>True</td>\n",
       "    </tr>\n",
       "    <tr>\n",
       "      <th>BVAP</th>\n",
       "      <td>BVAP</td>\n",
       "      <td>1224840</td>\n",
       "      <td>1224840.0</td>\n",
       "      <td>True</td>\n",
       "    </tr>\n",
       "    <tr>\n",
       "      <th>AMINVAP</th>\n",
       "      <td>AMINVAP</td>\n",
       "      <td>15376</td>\n",
       "      <td>15376.0</td>\n",
       "      <td>True</td>\n",
       "    </tr>\n",
       "    <tr>\n",
       "      <th>ASIANVAP</th>\n",
       "      <td>ASIANVAP</td>\n",
       "      <td>478337</td>\n",
       "      <td>478337.0</td>\n",
       "      <td>True</td>\n",
       "    </tr>\n",
       "    <tr>\n",
       "      <th>NHPIVAP</th>\n",
       "      <td>NHPIVAP</td>\n",
       "      <td>4754</td>\n",
       "      <td>4754.0</td>\n",
       "      <td>True</td>\n",
       "    </tr>\n",
       "    <tr>\n",
       "      <th>OTHERVAP</th>\n",
       "      <td>OTHERVAP</td>\n",
       "      <td>29385</td>\n",
       "      <td>29385.0</td>\n",
       "      <td>True</td>\n",
       "    </tr>\n",
       "    <tr>\n",
       "      <th>2MOREVAP</th>\n",
       "      <td>2MOREVAP</td>\n",
       "      <td>241069</td>\n",
       "      <td>241069.0</td>\n",
       "      <td>True</td>\n",
       "    </tr>\n",
       "  </tbody>\n",
       "</table>\n",
       "</div>"
      ],
      "text/plain": [
       "           pop_col  population_df  vest_base  equal\n",
       "TOTPOP      TOTPOP        8631393  8631393.0   True\n",
       "HISP          HISP         908749   908749.0   True\n",
       "NH_WHITE  NH_WHITE        5058363  5058363.0   True\n",
       "NH_BLACK  NH_BLACK        1578090  1578090.0   True\n",
       "NH_AMIN    NH_AMIN          19080    19080.0   True\n",
       "NH_ASIAN  NH_ASIAN         610612   610612.0   True\n",
       "NH_NHPI    NH_NHPI           6195     6195.0   True\n",
       "NH_OTHER  NH_OTHER          45394    45394.0   True\n",
       "NH_2MORE  NH_2MORE         404910   404910.0   True\n",
       "H_WHITE    H_WHITE         150493   150493.0   True\n",
       "H_BLACK    H_BLACK          29491    29491.0   True\n",
       "H_AMIN      H_AMIN          20927    20927.0   True\n",
       "H_ASIAN    H_ASIAN           4824     4824.0   True\n",
       "H_NHPI      H_NHPI            961      961.0   True\n",
       "H_OTHER    H_OTHER         401256   401256.0   True\n",
       "H_2MORE    H_2MORE         300797   300797.0   True\n",
       "VAP            VAP        6745054  6745054.0   True\n",
       "HVAP          HVAP         614314   614314.0   True\n",
       "WVAP          WVAP        4136979  4136979.0   True\n",
       "BVAP          BVAP        1224840  1224840.0   True\n",
       "AMINVAP    AMINVAP          15376    15376.0   True\n",
       "ASIANVAP  ASIANVAP         478337   478337.0   True\n",
       "NHPIVAP    NHPIVAP           4754     4754.0   True\n",
       "OTHERVAP  OTHERVAP          29385    29385.0   True\n",
       "2MOREVAP  2MOREVAP         241069   241069.0   True"
      ]
     },
     "execution_count": 35,
     "metadata": {},
     "output_type": "execute_result"
    }
   ],
   "source": [
    "pd.DataFrame({\n",
    "    'pop_col': pop_col,\n",
    "    'population_df': population_df[pop_col].sum(), \n",
    "    'vest_base': vest_base[pop_col].sum(),\n",
    "    'equal': [x == y for x, y in zip(population_df[pop_col].sum(), vest_base[pop_col].sum())]\n",
    "})"
   ]
  },
  {
   "cell_type": "markdown",
   "id": "5b56dae7",
   "metadata": {},
   "source": [
    "## Add more vest data"
   ]
  },
  {
   "cell_type": "code",
   "execution_count": 37,
   "id": "8626ed5a",
   "metadata": {},
   "outputs": [],
   "source": [
    "vest21 = gpd.read_file(vest21_data)\n",
    "vest18 = gpd.read_file(vest18_data)\n",
    "vest17 = gpd.read_file(vest17_data)\n",
    "vest16 = gpd.read_file(vest16_data)"
   ]
  },
  {
   "cell_type": "code",
   "execution_count": 38,
   "id": "50dae3e4",
   "metadata": {},
   "outputs": [
    {
     "data": {
      "text/plain": [
       "Index(['COUNTYFP', 'LOCALITY', 'VTDST', 'PRECINCT', 'G21GOVRYOU', 'G21GOVDMCA',\n",
       "       'G21GOVLBLA', 'G21GOVOWRI', 'G21LTGRSEA', 'G21LTGDAYA', 'G21LTGOWRI',\n",
       "       'G21ATGRMIY', 'G21ATGDHER', 'G21ATGOWRI', 'geometry'],\n",
       "      dtype='object')"
      ]
     },
     "execution_count": 38,
     "metadata": {},
     "output_type": "execute_result"
    }
   ],
   "source": [
    "vest21.columns"
   ]
  },
  {
   "cell_type": "code",
   "execution_count": 39,
   "id": "77b08af4",
   "metadata": {},
   "outputs": [
    {
     "data": {
      "text/plain": [
       "Index(['COUNTYFP', 'LOCALITY', 'VTDST', 'PRECINCT', 'G18USSDKAI', 'G18USSRSTE',\n",
       "       'G18USSLWAT', 'G18USSOWRI', 'geometry'],\n",
       "      dtype='object')"
      ]
     },
     "execution_count": 39,
     "metadata": {},
     "output_type": "execute_result"
    }
   ],
   "source": [
    "vest18.columns"
   ]
  },
  {
   "cell_type": "code",
   "execution_count": 40,
   "id": "ab43362d",
   "metadata": {},
   "outputs": [
    {
     "data": {
      "text/plain": [
       "Index(['COUNTYFP', 'LOCALITY', 'VTDST', 'PRECINCT', 'G17GOVDNOR', 'G17GOVRGIL',\n",
       "       'G17GOVLHYR', 'G17GOVOWRI', 'G17LTGDFAI', 'G17LTGRVOG', 'G17LTGOWRI',\n",
       "       'G17ATGDHER', 'G17ATGRADA', 'G17ATGOWRI', 'geometry'],\n",
       "      dtype='object')"
      ]
     },
     "execution_count": 40,
     "metadata": {},
     "output_type": "execute_result"
    }
   ],
   "source": [
    "vest17.columns"
   ]
  },
  {
   "cell_type": "code",
   "execution_count": 41,
   "id": "a11e130f",
   "metadata": {},
   "outputs": [
    {
     "data": {
      "text/plain": [
       "Index(['COUNTYFP', 'LOCALITY', 'VTDST', 'PRECINCT', 'G16PREDCLI', 'G16PRERTRU',\n",
       "       'G16PRELJOH', 'G16PREIMCM', 'G16PREGSTE', 'G16PREOWRI', 'geometry'],\n",
       "      dtype='object')"
      ]
     },
     "execution_count": 41,
     "metadata": {},
     "output_type": "execute_result"
    }
   ],
   "source": [
    "vest16.columns"
   ]
  },
  {
   "cell_type": "code",
   "execution_count": 42,
   "id": "5b909952",
   "metadata": {},
   "outputs": [
    {
     "name": "stderr",
     "output_type": "stream",
     "text": [
      "100%|██████████████████████████████████████| 2479/2479 [00:03<00:00, 743.45it/s]\n"
     ]
    },
    {
     "name": "stdout",
     "output_type": "stream",
     "text": [
      "There are 58 overlaps.\n",
      "There are 588 holes.\n",
      "Snapping all geometries to a grid with precision 10^( -5 ) to avoid GEOS errors.\n",
      "Identifying overlaps...\n"
     ]
    },
    {
     "name": "stderr",
     "output_type": "stream",
     "text": [
      "100%|█████████████████████████████████████| 2624/2624 [00:00<00:00, 3778.24it/s]\n"
     ]
    },
    {
     "name": "stdout",
     "output_type": "stream",
     "text": [
      "Resolving overlaps...\n",
      "Assigning order 2 pieces...\n",
      "Assigning order 3 pieces...\n",
      "Filling gaps...\n"
     ]
    },
    {
     "name": "stderr",
     "output_type": "stream",
     "text": [
      "Gaps to simplify: 100%|█████████████████████████| 65/65 [00:09<00:00,  6.76it/s]\n",
      "Gaps to fill: 100%|███████████████████████████████| 7/7 [00:01<00:00,  5.78it/s]\n",
      "100%|██████████████████████████████████████| 2479/2479 [00:03<00:00, 758.67it/s]\n",
      "100%|██████████████████████████████████████| 2479/2479 [00:03<00:00, 744.87it/s]\n",
      "100%|██████████████████████████████████████| 2479/2479 [00:18<00:00, 135.94it/s]\n",
      "100%|██████████████████████████████████████| 2477/2477 [00:02<00:00, 836.69it/s]\n",
      "100%|██████████████████████████████████████| 2477/2477 [00:18<00:00, 136.04it/s]\n"
     ]
    },
    {
     "name": "stdout",
     "output_type": "stream",
     "text": [
      "population agrees\n"
     ]
    },
    {
     "name": "stderr",
     "output_type": "stream",
     "text": [
      "100%|██████████████████████████████████████| 2463/2463 [00:03<00:00, 688.19it/s]\n"
     ]
    },
    {
     "name": "stdout",
     "output_type": "stream",
     "text": [
      "There are 35 overlaps.\n",
      "There are 88 holes.\n",
      "Snapping all geometries to a grid with precision 10^( -5 ) to avoid GEOS errors.\n",
      "Identifying overlaps...\n"
     ]
    },
    {
     "name": "stderr",
     "output_type": "stream",
     "text": [
      "100%|█████████████████████████████████████| 2574/2574 [00:00<00:00, 3795.23it/s]\n"
     ]
    },
    {
     "name": "stdout",
     "output_type": "stream",
     "text": [
      "Resolving overlaps...\n",
      "Assigning order 2 pieces...\n",
      "Assigning order 3 pieces...\n",
      "Filling gaps...\n"
     ]
    },
    {
     "name": "stderr",
     "output_type": "stream",
     "text": [
      "Gaps to simplify: 100%|█████████████████████████| 49/49 [00:07<00:00,  6.50it/s]\n",
      "Gaps to fill: 100%|███████████████████████████████| 4/4 [00:00<00:00,  4.87it/s]\n",
      "100%|██████████████████████████████████████| 2463/2463 [00:03<00:00, 705.32it/s]\n",
      "100%|██████████████████████████████████████| 2463/2463 [00:03<00:00, 751.21it/s]\n",
      "100%|██████████████████████████████████████| 2463/2463 [00:18<00:00, 136.02it/s]\n",
      "100%|██████████████████████████████████████| 2477/2477 [00:03<00:00, 799.43it/s]\n",
      "100%|██████████████████████████████████████| 2477/2477 [00:18<00:00, 135.70it/s]\n"
     ]
    },
    {
     "name": "stdout",
     "output_type": "stream",
     "text": [
      "population agrees\n"
     ]
    },
    {
     "name": "stderr",
     "output_type": "stream",
     "text": [
      "100%|██████████████████████████████████████| 2463/2463 [00:03<00:00, 748.43it/s]\n"
     ]
    },
    {
     "name": "stdout",
     "output_type": "stream",
     "text": [
      "There are 35 overlaps.\n",
      "There are 90 holes.\n",
      "Snapping all geometries to a grid with precision 10^( -5 ) to avoid GEOS errors.\n",
      "Identifying overlaps...\n"
     ]
    },
    {
     "name": "stderr",
     "output_type": "stream",
     "text": [
      "100%|█████████████████████████████████████| 2577/2577 [00:00<00:00, 3786.28it/s]\n"
     ]
    },
    {
     "name": "stdout",
     "output_type": "stream",
     "text": [
      "Resolving overlaps...\n",
      "Assigning order 2 pieces...\n",
      "Assigning order 3 pieces...\n",
      "Filling gaps...\n"
     ]
    },
    {
     "name": "stderr",
     "output_type": "stream",
     "text": [
      "Gaps to simplify: 100%|█████████████████████████| 49/49 [00:07<00:00,  6.53it/s]\n",
      "Gaps to fill: 100%|███████████████████████████████| 4/4 [00:00<00:00,  4.90it/s]\n",
      "100%|██████████████████████████████████████| 2463/2463 [00:03<00:00, 773.63it/s]\n",
      "100%|██████████████████████████████████████| 2463/2463 [00:03<00:00, 740.92it/s]\n",
      "100%|██████████████████████████████████████| 2463/2463 [00:18<00:00, 133.96it/s]\n",
      "100%|██████████████████████████████████████| 2477/2477 [00:02<00:00, 841.16it/s]\n",
      "100%|██████████████████████████████████████| 2477/2477 [00:18<00:00, 137.23it/s]\n"
     ]
    },
    {
     "name": "stdout",
     "output_type": "stream",
     "text": [
      "population agrees\n"
     ]
    },
    {
     "name": "stderr",
     "output_type": "stream",
     "text": [
      "100%|██████████████████████████████████████| 2456/2456 [00:03<00:00, 666.78it/s]\n"
     ]
    },
    {
     "name": "stdout",
     "output_type": "stream",
     "text": [
      "There are 36 overlaps.\n",
      "There are 89 holes.\n",
      "Snapping all geometries to a grid with precision 10^( -5 ) to avoid GEOS errors.\n",
      "Identifying overlaps...\n"
     ]
    },
    {
     "name": "stderr",
     "output_type": "stream",
     "text": [
      "100%|███████████████████████████████████████| 2571/2571 [06:27<00:00,  6.64it/s]\n"
     ]
    },
    {
     "name": "stdout",
     "output_type": "stream",
     "text": [
      "Resolving overlaps...\n",
      "Assigning order 2 pieces...\n",
      "Assigning order 3 pieces...\n",
      "Filling gaps...\n"
     ]
    },
    {
     "name": "stderr",
     "output_type": "stream",
     "text": [
      "Gaps to simplify: 100%|█████████████████████████| 50/50 [00:07<00:00,  6.28it/s]\n",
      "Gaps to fill: 100%|███████████████████████████████| 5/5 [00:01<00:00,  4.90it/s]\n",
      "100%|██████████████████████████████████████| 2456/2456 [00:03<00:00, 699.84it/s]\n",
      "100%|██████████████████████████████████████| 2456/2456 [00:03<00:00, 771.42it/s]\n",
      "100%|██████████████████████████████████████| 2456/2456 [00:18<00:00, 131.26it/s]\n",
      "100%|██████████████████████████████████████| 2477/2477 [00:03<00:00, 806.52it/s]\n",
      "100%|██████████████████████████████████████| 2477/2477 [00:18<00:00, 133.29it/s]\n"
     ]
    },
    {
     "name": "stdout",
     "output_type": "stream",
     "text": [
      "population agrees\n"
     ]
    }
   ],
   "source": [
    "# check the result here\n",
    "election_df = add_vest(vest21, election_df, '21', population_df, start_col)\n",
    "election_df = add_vest(vest18, election_df, '18', population_df, start_col)\n",
    "election_df = add_vest(vest17, election_df, '17', population_df, start_col)\n",
    "election_df = add_vest(vest16, election_df, '16', population_df, start_col)"
   ]
  },
  {
   "cell_type": "markdown",
   "id": "fc2a6947",
   "metadata": {},
   "source": [
    "##  Add the district data"
   ]
  },
  {
   "cell_type": "code",
   "execution_count": 44,
   "id": "70796e06",
   "metadata": {},
   "outputs": [],
   "source": [
    "send = gpd.read_file(send_data)\n",
    "hdist = gpd.read_file(hdist_data)"
   ]
  },
  {
   "cell_type": "code",
   "execution_count": 45,
   "id": "9fd8f3e8",
   "metadata": {},
   "outputs": [
    {
     "name": "stderr",
     "output_type": "stream",
     "text": [
      "100%|███████████████████████████████████████████| 11/11 [00:00<00:00, 59.90it/s]\n",
      "100%|██████████████████████████████████████████| 11/11 [00:00<00:00, 127.68it/s]\n",
      "100%|███████████████████████████████████████████| 11/11 [00:01<00:00,  9.76it/s]\n"
     ]
    }
   ],
   "source": [
    "election_df = add_district(cong_df, \"CD\", election_df, \"DISTRICTN\")"
   ]
  },
  {
   "cell_type": "code",
   "execution_count": 46,
   "id": "c3445b72",
   "metadata": {},
   "outputs": [
    {
     "name": "stderr",
     "output_type": "stream",
     "text": [
      "100%|███████████████████████████████████████████| 40/40 [00:00<00:00, 85.14it/s]\n",
      "100%|██████████████████████████████████████████| 40/40 [00:00<00:00, 298.95it/s]\n",
      "100%|███████████████████████████████████████████| 40/40 [00:02<00:00, 19.48it/s]\n"
     ]
    }
   ],
   "source": [
    "election_df = add_district(send, \"SEND\", election_df, \"DISTRICTN\")"
   ]
  },
  {
   "cell_type": "code",
   "execution_count": 47,
   "id": "6f642de3",
   "metadata": {},
   "outputs": [
    {
     "name": "stderr",
     "output_type": "stream",
     "text": [
      "100%|████████████████████████████████████████| 100/100 [00:00<00:00, 132.56it/s]\n",
      "100%|████████████████████████████████████████| 100/100 [00:00<00:00, 561.45it/s]\n",
      "100%|█████████████████████████████████████████| 100/100 [00:02<00:00, 36.60it/s]\n"
     ]
    }
   ],
   "source": [
    "election_df = add_district(hdist, \"HDIST\", election_df, \"DISTRICTN\")"
   ]
  },
  {
   "cell_type": "code",
   "execution_count": 48,
   "id": "23e23262-9f8d-46ed-b574-643a5d2c20cb",
   "metadata": {},
   "outputs": [
    {
     "name": "stderr",
     "output_type": "stream",
     "text": [
      "100%|██████████████████████████████████████| 2477/2477 [00:03<00:00, 743.83it/s]\n"
     ]
    },
    {
     "data": {
      "text/plain": [
       "True"
      ]
     },
     "execution_count": 48,
     "metadata": {},
     "output_type": "execute_result"
    }
   ],
   "source": [
    "maup.doctor(election_df)"
   ]
  },
  {
   "cell_type": "code",
   "execution_count": 49,
   "id": "9ee53963",
   "metadata": {},
   "outputs": [
    {
     "data": {
      "text/plain": [
       "Index(['2MOREVAP', 'AMINVAP', 'ASIANVAP', 'ATG17D', 'ATG17O', 'ATG17R',\n",
       "       'ATG21D', 'ATG21O', 'ATG21R', 'BVAP', 'COUNTYFP', 'GOV17D', 'GOV17O',\n",
       "       'GOV17R', 'GOV21D', 'GOV21O', 'GOV21R', 'HISP', 'HVAP', 'H_2MORE',\n",
       "       'H_AMIN', 'H_ASIAN', 'H_BLACK', 'H_NHPI', 'H_OTHER', 'H_WHITE',\n",
       "       'LOCALITY', 'LTG17D', 'LTG17O', 'LTG17R', 'LTG21D', 'LTG21O', 'LTG21R',\n",
       "       'NHPIVAP', 'NH_2MORE', 'NH_AMIN', 'NH_ASIAN', 'NH_BLACK', 'NH_NHPI',\n",
       "       'NH_OTHER', 'NH_WHITE', 'OTHERVAP', 'PRE16D', 'PRE16O', 'PRE16R',\n",
       "       'PRE20D', 'PRE20O', 'PRE20R', 'PRECINCT', 'TOTPOP', 'USS18D', 'USS18O',\n",
       "       'USS18R', 'USS20D', 'USS20O', 'USS20R', 'VAP', 'VTDST', 'WVAP',\n",
       "       'geometry', 'CD', 'SEND', 'HDIST'],\n",
       "      dtype='object')"
      ]
     },
     "execution_count": 49,
     "metadata": {},
     "output_type": "execute_result"
    }
   ],
   "source": [
    "election_df.columns"
   ]
  },
  {
   "cell_type": "markdown",
   "id": "a0ae2407",
   "metadata": {},
   "source": [
    "### Put the base precinct year after the precinct information column"
   ]
  },
  {
   "cell_type": "code",
   "execution_count": 51,
   "id": "39ce0631",
   "metadata": {},
   "outputs": [],
   "source": [
    "base_columns = {}\n",
    "if 'COUNTYFP' + year not in election_df.columns:\n",
    "    base_columns = {\n",
    "        'COUNTYFP':'COUNTYFP'+year,\n",
    "        'VTDST':'VTDST'+year,\n",
    "        'PRECINCT':'PRECINCT'+year,\n",
    "        'LOCALITY':'LOCALITY'+year} \n",
    "election_df.rename(columns=base_columns, inplace = True)"
   ]
  },
  {
   "cell_type": "code",
   "execution_count": 52,
   "id": "178b7531",
   "metadata": {},
   "outputs": [],
   "source": [
    "# reorder the columns\n",
    "fixed_columns = [\n",
    "    'COUNTYFP'+year,\n",
    "    'VTDST'+year,\n",
    "    'PRECINCT'+year,\n",
    "    'LOCALITY'+year,\n",
    "    'CD',\n",
    "    'SEND',\n",
    "    'HDIST',\n",
    "    'TOTPOP',\n",
    "    'NH_2MORE',\n",
    "    'NH_AMIN',\n",
    "    'NH_ASIAN',\n",
    "    'NH_BLACK',\n",
    "    'NH_NHPI',\n",
    "    'NH_OTHER',\n",
    "    'NH_WHITE',\n",
    "    'HISP',\n",
    "    'H_AMIN',\n",
    "    'H_ASIAN',\n",
    "    'H_BLACK',\n",
    "    'H_NHPI',\n",
    "    'H_OTHER',\n",
    "    'H_WHITE',\n",
    "    'H_2MORE',\n",
    "    'VAP',\n",
    "    'HVAP',\n",
    "    'WVAP',\n",
    "    'BVAP',\n",
    "    'AMINVAP',\n",
    "    'ASIANVAP',\n",
    "    'NHPIVAP',\n",
    "    'OTHERVAP',\n",
    "    '2MOREVAP']\n",
    "\n",
    "election_columns = [col for col in election_df.columns if col not in fixed_columns]\n",
    "final_col = fixed_columns + election_columns\n",
    "election_df = election_df[final_col]"
   ]
  },
  {
   "cell_type": "code",
   "execution_count": 53,
   "id": "8d2b36a7-ffd2-4738-848f-ec5d51726a35",
   "metadata": {},
   "outputs": [
    {
     "data": {
      "text/plain": [
       "Index(['COUNTYFP20', 'VTDST20', 'PRECINCT20', 'LOCALITY20', 'CD', 'SEND',\n",
       "       'HDIST', 'TOTPOP', 'NH_2MORE', 'NH_AMIN', 'NH_ASIAN', 'NH_BLACK',\n",
       "       'NH_NHPI', 'NH_OTHER', 'NH_WHITE', 'HISP', 'H_AMIN', 'H_ASIAN',\n",
       "       'H_BLACK', 'H_NHPI', 'H_OTHER', 'H_WHITE', 'H_2MORE', 'VAP', 'HVAP',\n",
       "       'WVAP', 'BVAP', 'AMINVAP', 'ASIANVAP', 'NHPIVAP', 'OTHERVAP',\n",
       "       '2MOREVAP', 'ATG17D', 'ATG17O', 'ATG17R', 'ATG21D', 'ATG21O', 'ATG21R',\n",
       "       'GOV17D', 'GOV17O', 'GOV17R', 'GOV21D', 'GOV21O', 'GOV21R', 'LTG17D',\n",
       "       'LTG17O', 'LTG17R', 'LTG21D', 'LTG21O', 'LTG21R', 'PRE16D', 'PRE16O',\n",
       "       'PRE16R', 'PRE20D', 'PRE20O', 'PRE20R', 'USS18D', 'USS18O', 'USS18R',\n",
       "       'USS20D', 'USS20O', 'USS20R', 'geometry'],\n",
       "      dtype='object')"
      ]
     },
     "execution_count": 53,
     "metadata": {},
     "output_type": "execute_result"
    }
   ],
   "source": [
    "election_df.columns"
   ]
  },
  {
   "cell_type": "code",
   "execution_count": 54,
   "id": "ffb940d2",
   "metadata": {},
   "outputs": [],
   "source": [
    "import os\n",
    "\n",
    "# store the result in directory \"il\"\n",
    "directory = \"./{}\".format(state_ab)\n",
    "if not os.path.exists(directory):\n",
    "    os.makedirs(directory)\n",
    "\n",
    "shapefile_path = \"./{}/{}.shp\".format(state_ab, state_ab)\n",
    "geojson_path = './{}/{}.geojson'.format(state_ab, state_ab)\n",
    "json_path = \"./{}/{}.json\".format(state_ab, state_ab)\n",
    "\n",
    "# Check if the shapefile or geojson file already exists\n",
    "if os.path.exists(shapefile_path):\n",
    "    os.remove(shapefile_path)\n",
    "if os.path.exists(geojson_path):\n",
    "    os.remove(geojson_path)\n",
    "\n",
    "election_df.to_file(shapefile_path)\n",
    "election_df.to_file(geojson_path, driver='GeoJSON')\n",
    "\n",
    "# Only do once to build json and read from file when generating ensembles\n",
    "graph = Graph.from_file(shapefile_path, ignore_errors=True)\n",
    "graph.to_json(json_path)"
   ]
  },
  {
   "cell_type": "code",
   "execution_count": 55,
   "id": "eba2b356",
   "metadata": {},
   "outputs": [
    {
     "data": {
      "text/plain": [
       "<Axes: >"
      ]
     },
     "execution_count": 55,
     "metadata": {},
     "output_type": "execute_result"
    },
    {
     "data": {
      "image/png": "[encoded data removed]",
      "text/plain": [
       "<Figure size 640x480 with 1 Axes>"
      ]
     },
     "metadata": {},
     "output_type": "display_data"
    }
   ],
   "source": [
    "shape=gpd.read_file('va/va.shp')\n",
    "shape.plot()"
   ]
  }
 ],
 "metadata": {
  "kernelspec": {
   "display_name": "gerry",
   "language": "python",
   "name": "gerry"
  },
  "language_info": {
   "codemirror_mode": {
    "name": "ipython",
    "version": 3
   },
   "file_extension": ".py",
   "mimetype": "text/x-python",
   "name": "python",
   "nbconvert_exporter": "python",
   "pygments_lexer": "ipython3",
   "version": "3.11.4"
  }
 },
 "nbformat": 4,
 "nbformat_minor": 5
}

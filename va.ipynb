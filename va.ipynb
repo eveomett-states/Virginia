{
 "cells": [
  {
   "cell_type": "markdown",
   "id": "b27fe5ba-9ba4-464d-bf97-2d6c17c72336",
   "metadata": {},
   "source": [
    "## Intro to MAUP"
   ]
  },
  {
   "cell_type": "markdown",
   "id": "542bef2f-131a-475f-85e2-4f24a6df7db4",
   "metadata": {},
   "source": [
    "@author: eveomett AI for Redistricting, USF All data retrieved 04/30/24:\n",
    "https://redistrictingdatahub.org/dataset/virginia-block-pl-94171-2020-by-table/\n",
    "https://redistrictingdatahub.org/dataset/vest-2020-virginia-precinct-boundaries-and-election-results-shapefile/\n",
    "https://redistrictingdatahub.org/dataset/2021-virginia-congressional-districts-approved-plan/\n",
    "\n",
    "https://redistrictingdatahub.org/dataset/vest-2018-virginia-precinct-and-election-results/\n",
    "https://redistrictingdatahub.org/dataset/vest-2016-virginia-precinct-and-election-results/\n",
    "https://redistrictingdatahub.org/dataset/vest-2021-virginia-precinct-boundaries-and-election-results-shapefile/\n",
    "https://redistrictingdatahub.org/dataset/vest-2017-virginia-precinct-boundaries-and-election-results-shapefile/\n",
    "\n",
    "https://redistrictingdatahub.org/dataset/2021-senate-of-virginia-districts-approved-plan/\n",
    "https://redistrictingdatahub.org/dataset/2021-virginia-house-of-delegates-districts-approved-plan/"
   ]
  },
  {
   "cell_type": "code",
   "execution_count": 4,
   "id": "97be400b-13a5-4a2c-bf18-060019c6fe8a",
   "metadata": {},
   "outputs": [],
   "source": [
    "import pandas as pd\n",
    "import geopandas as gpd\n",
    "import maup\n",
    "import time\n",
    "from maup import smart_repair\n",
    "from gerrychain import Graph\n",
    "\n",
    "maup.progress.enabled = True"
   ]
  },
  {
   "cell_type": "code",
   "execution_count": 5,
   "id": "21720c83-4c11-4c01-9ac6-932271c1f00b",
   "metadata": {},
   "outputs": [],
   "source": [
    "import warnings\n",
    "warnings.filterwarnings(\"ignore\")"
   ]
  },
  {
   "cell_type": "code",
   "execution_count": 6,
   "id": "78aa544f-7cfe-47d6-99c3-5b9a67422e13",
   "metadata": {},
   "outputs": [],
   "source": [
    "# state = Virginia\n",
    "state_ab = \"va\""
   ]
  },
  {
   "cell_type": "markdown",
   "id": "9e4b4f49-67d5-4296-9484-1ae5631613f3",
   "metadata": {},
   "source": [
    "## Data\n",
    "1. Download all the data in directory \"il_data\"\n",
    "2. Extract them all"
   ]
  },
  {
   "cell_type": "code",
   "execution_count": 7,
   "id": "f9715959-1d22-4644-8f00-2957248fd4ce",
   "metadata": {},
   "outputs": [],
   "source": [
    "data_folder = state_ab + \"_data/\"\n",
    "population1_data = \"./{}{}_pl2020_b-2/{}_pl2020_p1_b.shp\".format(data_folder, state_ab, state_ab)\n",
    "population2_data = \"./{}{}_pl2020_b-2/{}_pl2020_p2_b.shp\".format(data_folder, state_ab, state_ab)\n",
    "vap_data =  \"./{}{}_pl2020_b-2/{}_pl2020_p4_b.shp\".format(data_folder, state_ab, state_ab)\n",
    "vest21_data = \"./{}{}_vest_21/{}_vest_21.shp\".format(data_folder, state_ab, state_ab)\n",
    "vest20_data = \"./{}{}_vest_20/{}_vest_20.shp\".format(data_folder, state_ab, state_ab)\n",
    "vest18_data = \"./{}{}_vest_18/{}_vest_18.shp\".format(data_folder, state_ab, state_ab)\n",
    "vest17_data = \"./{}{}_vest_17/{}_vest_17.shp\".format(data_folder, state_ab, state_ab)\n",
    "vest16_data = \"./{}{}_vest_16/{}_vest_16.shp\".format(data_folder, state_ab, state_ab)\n",
    "cd_data = \"./{}{}_cong_adopted_2021/SCV FINAL CD.shp\".format(data_folder, state_ab)\n",
    "send_data = \"./{}{}_sldu_2021/va_sldu_2021.shp\".format(data_folder, state_ab)\n",
    "hdist_data = \"./{}{}_sldl_adopted_2021/va_sldl_adopted_2021.shp\".format(data_folder, state_ab)"
   ]
  },
  {
   "cell_type": "code",
   "execution_count": 8,
   "id": "43468832-9663-4f4c-9a0c-7649da99a9e3",
   "metadata": {},
   "outputs": [],
   "source": [
    "def do_smart_repair(df):\n",
    "    # change it to the UTM it needs for smart_repair\n",
    "    df = df.to_crs(df.estimate_utm_crs())\n",
    "    df = smart_repair(df)\n",
    "    if maup.doctor(df):\n",
    "        print('smart_repair successful')\n",
    "            \n",
    "        # change it back to this UTM for this data\n",
    "        df = df.to_crs('EPSG:4269')\n",
    "    else:\n",
    "        print('smart_repair failed')\n",
    "    return df"
   ]
  },
  {
   "cell_type": "code",
   "execution_count": 9,
   "id": "60f35324-63c4-475b-a1b6-132efa1a56ea",
   "metadata": {},
   "outputs": [],
   "source": [
    "def add_district(dist_df, dist_name, election_df, col_name):\n",
    "    # check if it needs to be smart_repair\n",
    "    if maup.doctor(dist_df) != True:\n",
    "        dist_df = do_smart_repair(dist_df)\n",
    "    \n",
    "    election_df = gpd.GeoDataFrame(election_df, crs=\"EPSG:4269\")\n",
    "    \n",
    "    # assigne the pricincts\n",
    "    precincts_to_district_assignment = maup.assign(election_df.geometry, dist_df.geometry)\n",
    "    election_df[dist_name] = precincts_to_district_assignment\n",
    "    for precinct_index in range(len(election_df)):\n",
    "        election_df.at[precinct_index, dist_name] = dist_df.at[election_df.at[precinct_index, dist_name], col_name]\n",
    "    \n",
    "    return election_df"
   ]
  },
  {
   "cell_type": "code",
   "execution_count": 10,
   "id": "c171f560-cff2-4579-85c3-f9806f2148c6",
   "metadata": {},
   "outputs": [],
   "source": [
    "def rename(original, year):\n",
    "    party = original[6]\n",
    "    if party == 'R' or party == 'D':\n",
    "        return original[3:6] + year + original[6]\n",
    "    else:\n",
    "        return original[3:6] + year + 'O'"
   ]
  },
  {
   "cell_type": "code",
   "execution_count": 11,
   "id": "f3a37f99-d340-4d5f-b570-59d973737df9",
   "metadata": {},
   "outputs": [],
   "source": [
    "def add_vest_data(vest_data, df, year, block_df):\n",
    "    vest = gpd.read_file(vest_data)\n",
    "    \n",
    "     # check if it needs to be smart_repair\n",
    "    if maup.doctor(vest) != True:\n",
    "        vest = do_smart_repair(vest)\n",
    "    \n",
    "    # rename the columns\n",
    "    original_col = vest.columns[5:-1]\n",
    "    new_col = [rename(i, year) for i in original_col]\n",
    "    rename_dict = dict(zip(original_col, new_col))\n",
    "    vest = vest.rename(columns=rename_dict)\n",
    "    vest = vest.groupby(level=0, axis=1).sum() # combine all the other party's vote into columns with sufix \"O\"\n",
    "    col_name = list(set(new_col))\n",
    "    col_name.sort()\n",
    "    \n",
    "    # assign pricinct to block\n",
    "    vest = gpd.GeoDataFrame(vest, crs=\"EPSG:4269\")\n",
    "    vest_to_block_assginment = maup.assign(vest.geometry, block_df.geometry)\n",
    "    block = block_df[['geometry']]\n",
    "    block[col_name] = vest[col_name].groupby(vest_to_block_assginment).sum()\n",
    "    \n",
    "    # assign block to vest\n",
    "    block = gpd.GeoDataFrame(block, crs=\"EPSG:4269\")\n",
    "    df = gpd.GeoDataFrame(df, crs=\"EPSG:4269\")\n",
    "    block_to_pricinct_assginment = maup.assign(block.geometry, df.geometry)\n",
    "    df[col_name] = block[col_name].groupby(block_to_pricinct_assginment).sum()\n",
    "    df = df.groupby(level=0, axis=1).sum()\n",
    "    \n",
    "    return df"
   ]
  },
  {
   "cell_type": "markdown",
   "id": "44238acb-c1b6-4b87-961b-243b3840995e",
   "metadata": {},
   "source": [
    "### Read the census data"
   ]
  },
  {
   "cell_type": "code",
   "execution_count": 13,
   "id": "fdbbeeb9-d2f9-4f62-9425-0862778f1e56",
   "metadata": {},
   "outputs": [],
   "source": [
    "population1_df = gpd.read_file(population1_data)\n",
    "population2_df = gpd.read_file(population2_data)\n",
    "vap_df = gpd.read_file(vap_data)"
   ]
  },
  {
   "cell_type": "code",
   "execution_count": 14,
   "id": "6f07afcf-aba3-4f3c-b826-7c5458ef5b8a",
   "metadata": {},
   "outputs": [],
   "source": [
    "population2_df = population2_df.drop(columns=['SUMLEV', 'LOGRECNO', 'GEOID', 'COUNTY', 'geometry'])\n",
    "population_df = pd.merge(population1_df, population2_df, on='GEOID20')"
   ]
  },
  {
   "cell_type": "code",
   "execution_count": 15,
   "id": "47022c58-9875-492e-8f29-45d668d01f5d",
   "metadata": {},
   "outputs": [
    {
     "name": "stderr",
     "output_type": "stream",
     "text": [
      "100%|██████████████████████████████████| 163491/163491 [04:50<00:00, 563.68it/s]\n"
     ]
    },
    {
     "data": {
      "text/plain": [
       "True"
      ]
     },
     "execution_count": 15,
     "metadata": {},
     "output_type": "execute_result"
    }
   ],
   "source": [
    "maup.doctor(population_df)"
   ]
  },
  {
   "cell_type": "code",
   "execution_count": 17,
   "id": "49ecc1ed-947c-4a62-93bb-d564f63a71f0",
   "metadata": {},
   "outputs": [],
   "source": [
    "population_df['H_WHITE'] = population_df.apply(lambda t: t['P0010003'] - t['P0020005'], 1)\n",
    "population_df['H_BLACK'] = population_df.apply(lambda t: t['P0010004'] - t['P0020006'], 1)\n",
    "population_df['H_AMIN'] = population_df.apply(lambda t: t['P0010005'] - t['P0020007'], 1)\n",
    "population_df['H_ASIAN'] = population_df.apply(lambda t: t['P0010006'] - t['P0020008'], 1)\n",
    "population_df['H_NHPI'] = population_df.apply(lambda t: t['P0010007'] - t['P0020009'], 1)\n",
    "population_df['H_OTHER'] = population_df.apply(lambda t: t['P0010008'] - t['P0020010'], 1)\n",
    "population_df['H_2MORE'] = population_df.apply(lambda t: t['P0010009'] - t['P0020011'], 1)"
   ]
  },
  {
   "cell_type": "markdown",
   "id": "c2091314-91dc-415f-a3c1-183a5dc4db05",
   "metadata": {},
   "source": [
    "## Read the vest 20 data\n",
    "\n",
    "Now using it as a \"base pricinct\", but it could be vest 18 or vest 16 if vest 20 is not working"
   ]
  },
  {
   "cell_type": "code",
   "execution_count": 18,
   "id": "1279603a-fb29-4c01-9133-93908cd35f1f",
   "metadata": {},
   "outputs": [],
   "source": [
    "vest20 = gpd.read_file(vest20_data)"
   ]
  },
  {
   "cell_type": "code",
   "execution_count": 19,
   "id": "830ce661-ea23-4b25-8f7a-31b14747d0b1",
   "metadata": {},
   "outputs": [
    {
     "name": "stderr",
     "output_type": "stream",
     "text": [
      "100%|██████████████████████████████████████| 2477/2477 [00:11<00:00, 208.03it/s]\n"
     ]
    },
    {
     "name": "stdout",
     "output_type": "stream",
     "text": [
      "There are 58 overlaps.\n",
      "There are 587 holes.\n"
     ]
    },
    {
     "data": {
      "text/plain": [
       "False"
      ]
     },
     "execution_count": 19,
     "metadata": {},
     "output_type": "execute_result"
    }
   ],
   "source": [
    "maup.doctor(vest20)"
   ]
  },
  {
   "cell_type": "code",
   "execution_count": 20,
   "id": "052b9475-9ac8-4bb9-b225-9ec2ff7e879f",
   "metadata": {},
   "outputs": [
    {
     "name": "stdout",
     "output_type": "stream",
     "text": [
      "Snapping all geometries to a grid with precision 10^( -5 ) to avoid GEOS errors.\n",
      "Identifying overlaps...\n"
     ]
    },
    {
     "name": "stderr",
     "output_type": "stream",
     "text": [
      "100%|██████████████████████████████████████| 2623/2623 [00:03<00:00, 773.34it/s]\n"
     ]
    },
    {
     "name": "stdout",
     "output_type": "stream",
     "text": [
      "Resolving overlaps...\n",
      "Assigning order 2 pieces...\n",
      "Assigning order 3 pieces...\n",
      "Filling gaps...\n"
     ]
    },
    {
     "name": "stderr",
     "output_type": "stream",
     "text": [
      "Gaps to simplify: 100%|█████████████████████████| 64/64 [00:35<00:00,  1.80it/s]\n",
      "Gaps to fill: 100%|███████████████████████████████| 7/7 [00:04<00:00,  1.56it/s]\n",
      "100%|██████████████████████████████████████| 2477/2477 [00:11<00:00, 223.49it/s]\n"
     ]
    },
    {
     "name": "stdout",
     "output_type": "stream",
     "text": [
      "smart_repair successful\n"
     ]
    },
    {
     "data": {
      "text/html": [
       "<div>\n",
       "<style scoped>\n",
       "    .dataframe tbody tr th:only-of-type {\n",
       "        vertical-align: middle;\n",
       "    }\n",
       "\n",
       "    .dataframe tbody tr th {\n",
       "        vertical-align: top;\n",
       "    }\n",
       "\n",
       "    .dataframe thead th {\n",
       "        text-align: right;\n",
       "    }\n",
       "</style>\n",
       "<table border=\"1\" class=\"dataframe\">\n",
       "  <thead>\n",
       "    <tr style=\"text-align: right;\">\n",
       "      <th></th>\n",
       "      <th>COUNTYFP</th>\n",
       "      <th>LOCALITY</th>\n",
       "      <th>VTDST</th>\n",
       "      <th>PRECINCT</th>\n",
       "      <th>G20PREDBID</th>\n",
       "      <th>G20PRERTRU</th>\n",
       "      <th>G20PRELJOR</th>\n",
       "      <th>G20PREOWRI</th>\n",
       "      <th>G20USSDWAR</th>\n",
       "      <th>G20USSRGAD</th>\n",
       "      <th>G20USSOWRI</th>\n",
       "      <th>geometry</th>\n",
       "    </tr>\n",
       "  </thead>\n",
       "  <tbody>\n",
       "    <tr>\n",
       "      <th>0</th>\n",
       "      <td>001</td>\n",
       "      <td>Accomack County</td>\n",
       "      <td>000101</td>\n",
       "      <td>Chincoteague</td>\n",
       "      <td>837</td>\n",
       "      <td>1618</td>\n",
       "      <td>29</td>\n",
       "      <td>2</td>\n",
       "      <td>915</td>\n",
       "      <td>1563</td>\n",
       "      <td>3</td>\n",
       "      <td>POLYGON ((-75.42507 37.89957, -75.42499 37.899...</td>\n",
       "    </tr>\n",
       "    <tr>\n",
       "      <th>1</th>\n",
       "      <td>001</td>\n",
       "      <td>Accomack County</td>\n",
       "      <td>000201</td>\n",
       "      <td>Atlantic</td>\n",
       "      <td>321</td>\n",
       "      <td>657</td>\n",
       "      <td>11</td>\n",
       "      <td>2</td>\n",
       "      <td>357</td>\n",
       "      <td>644</td>\n",
       "      <td>0</td>\n",
       "      <td>POLYGON ((-75.42499 37.89985, -75.42507 37.899...</td>\n",
       "    </tr>\n",
       "    <tr>\n",
       "      <th>2</th>\n",
       "      <td>001</td>\n",
       "      <td>Accomack County</td>\n",
       "      <td>000202</td>\n",
       "      <td>Greenbackville</td>\n",
       "      <td>516</td>\n",
       "      <td>1091</td>\n",
       "      <td>18</td>\n",
       "      <td>0</td>\n",
       "      <td>539</td>\n",
       "      <td>1054</td>\n",
       "      <td>0</td>\n",
       "      <td>POLYGON ((-75.41691 37.93523, -75.41651 37.934...</td>\n",
       "    </tr>\n",
       "    <tr>\n",
       "      <th>3</th>\n",
       "      <td>001</td>\n",
       "      <td>Accomack County</td>\n",
       "      <td>000301</td>\n",
       "      <td>New Church</td>\n",
       "      <td>1013</td>\n",
       "      <td>667</td>\n",
       "      <td>14</td>\n",
       "      <td>2</td>\n",
       "      <td>1003</td>\n",
       "      <td>638</td>\n",
       "      <td>2</td>\n",
       "      <td>POLYGON ((-75.58612 37.89203, -75.58639 37.892...</td>\n",
       "    </tr>\n",
       "    <tr>\n",
       "      <th>4</th>\n",
       "      <td>001</td>\n",
       "      <td>Accomack County</td>\n",
       "      <td>000401</td>\n",
       "      <td>Bloxom</td>\n",
       "      <td>307</td>\n",
       "      <td>462</td>\n",
       "      <td>8</td>\n",
       "      <td>0</td>\n",
       "      <td>306</td>\n",
       "      <td>447</td>\n",
       "      <td>0</td>\n",
       "      <td>POLYGON ((-75.58754 37.86652, -75.58770 37.866...</td>\n",
       "    </tr>\n",
       "    <tr>\n",
       "      <th>...</th>\n",
       "      <td>...</td>\n",
       "      <td>...</td>\n",
       "      <td>...</td>\n",
       "      <td>...</td>\n",
       "      <td>...</td>\n",
       "      <td>...</td>\n",
       "      <td>...</td>\n",
       "      <td>...</td>\n",
       "      <td>...</td>\n",
       "      <td>...</td>\n",
       "      <td>...</td>\n",
       "      <td>...</td>\n",
       "    </tr>\n",
       "    <tr>\n",
       "      <th>2472</th>\n",
       "      <td>800</td>\n",
       "      <td>Suffolk City</td>\n",
       "      <td>000302</td>\n",
       "      <td>John F Kennedy (CD 4)</td>\n",
       "      <td>1111</td>\n",
       "      <td>54</td>\n",
       "      <td>13</td>\n",
       "      <td>5</td>\n",
       "      <td>1082</td>\n",
       "      <td>58</td>\n",
       "      <td>5</td>\n",
       "      <td>POLYGON ((-76.56694 36.72110, -76.56715 36.721...</td>\n",
       "    </tr>\n",
       "    <tr>\n",
       "      <th>2473</th>\n",
       "      <td>800</td>\n",
       "      <td>Suffolk City</td>\n",
       "      <td>000504</td>\n",
       "      <td>Lake Cohoon (CD 3)</td>\n",
       "      <td>143</td>\n",
       "      <td>325</td>\n",
       "      <td>2</td>\n",
       "      <td>2</td>\n",
       "      <td>149</td>\n",
       "      <td>317</td>\n",
       "      <td>0</td>\n",
       "      <td>POLYGON ((-76.65292 36.82553, -76.64793 36.829...</td>\n",
       "    </tr>\n",
       "    <tr>\n",
       "      <th>2474</th>\n",
       "      <td>800</td>\n",
       "      <td>Suffolk City</td>\n",
       "      <td>000302</td>\n",
       "      <td>John F Kennedy (CD 3)</td>\n",
       "      <td>930</td>\n",
       "      <td>300</td>\n",
       "      <td>12</td>\n",
       "      <td>7</td>\n",
       "      <td>952</td>\n",
       "      <td>285</td>\n",
       "      <td>0</td>\n",
       "      <td>POLYGON ((-76.46673 36.74654, -76.46676 36.746...</td>\n",
       "    </tr>\n",
       "    <tr>\n",
       "      <th>2475</th>\n",
       "      <td>059</td>\n",
       "      <td>Fairfax County</td>\n",
       "      <td>000712</td>\n",
       "      <td>Shreve</td>\n",
       "      <td>674</td>\n",
       "      <td>312</td>\n",
       "      <td>24</td>\n",
       "      <td>11</td>\n",
       "      <td>661</td>\n",
       "      <td>357</td>\n",
       "      <td>0</td>\n",
       "      <td>POLYGON ((-77.19151 38.89153, -77.19137 38.891...</td>\n",
       "    </tr>\n",
       "    <tr>\n",
       "      <th>2476</th>\n",
       "      <td>059</td>\n",
       "      <td>Fairfax County</td>\n",
       "      <td>000713</td>\n",
       "      <td>Timber Lane</td>\n",
       "      <td>1967</td>\n",
       "      <td>576</td>\n",
       "      <td>24</td>\n",
       "      <td>21</td>\n",
       "      <td>1882</td>\n",
       "      <td>600</td>\n",
       "      <td>7</td>\n",
       "      <td>POLYGON ((-77.20737 38.88928, -77.20703 38.889...</td>\n",
       "    </tr>\n",
       "  </tbody>\n",
       "</table>\n",
       "<p>2477 rows × 12 columns</p>\n",
       "</div>"
      ],
      "text/plain": [
       "     COUNTYFP         LOCALITY   VTDST               PRECINCT  G20PREDBID  \\\n",
       "0         001  Accomack County  000101           Chincoteague         837   \n",
       "1         001  Accomack County  000201               Atlantic         321   \n",
       "2         001  Accomack County  000202         Greenbackville         516   \n",
       "3         001  Accomack County  000301             New Church        1013   \n",
       "4         001  Accomack County  000401                 Bloxom         307   \n",
       "...       ...              ...     ...                    ...         ...   \n",
       "2472      800     Suffolk City  000302  John F Kennedy (CD 4)        1111   \n",
       "2473      800     Suffolk City  000504     Lake Cohoon (CD 3)         143   \n",
       "2474      800     Suffolk City  000302  John F Kennedy (CD 3)         930   \n",
       "2475      059   Fairfax County  000712                 Shreve         674   \n",
       "2476      059   Fairfax County  000713            Timber Lane        1967   \n",
       "\n",
       "      G20PRERTRU  G20PRELJOR  G20PREOWRI  G20USSDWAR  G20USSRGAD  G20USSOWRI  \\\n",
       "0           1618          29           2         915        1563           3   \n",
       "1            657          11           2         357         644           0   \n",
       "2           1091          18           0         539        1054           0   \n",
       "3            667          14           2        1003         638           2   \n",
       "4            462           8           0         306         447           0   \n",
       "...          ...         ...         ...         ...         ...         ...   \n",
       "2472          54          13           5        1082          58           5   \n",
       "2473         325           2           2         149         317           0   \n",
       "2474         300          12           7         952         285           0   \n",
       "2475         312          24          11         661         357           0   \n",
       "2476         576          24          21        1882         600           7   \n",
       "\n",
       "                                               geometry  \n",
       "0     POLYGON ((-75.42507 37.89957, -75.42499 37.899...  \n",
       "1     POLYGON ((-75.42499 37.89985, -75.42507 37.899...  \n",
       "2     POLYGON ((-75.41691 37.93523, -75.41651 37.934...  \n",
       "3     POLYGON ((-75.58612 37.89203, -75.58639 37.892...  \n",
       "4     POLYGON ((-75.58754 37.86652, -75.58770 37.866...  \n",
       "...                                                 ...  \n",
       "2472  POLYGON ((-76.56694 36.72110, -76.56715 36.721...  \n",
       "2473  POLYGON ((-76.65292 36.82553, -76.64793 36.829...  \n",
       "2474  POLYGON ((-76.46673 36.74654, -76.46676 36.746...  \n",
       "2475  POLYGON ((-77.19151 38.89153, -77.19137 38.891...  \n",
       "2476  POLYGON ((-77.20737 38.88928, -77.20703 38.889...  \n",
       "\n",
       "[2477 rows x 12 columns]"
      ]
     },
     "execution_count": 20,
     "metadata": {},
     "output_type": "execute_result"
    }
   ],
   "source": [
    "do_smart_repair(vest20)"
   ]
  },
  {
   "cell_type": "code",
   "execution_count": 21,
   "id": "af357616-3fe7-4a52-9756-e80cb68e9c4f",
   "metadata": {},
   "outputs": [],
   "source": [
    "original_col = vest20.columns[5:-1]\n",
    "new_col = [rename(i, '20') for i in original_col]\n",
    "rename_dict = dict(zip(original_col, new_col))\n",
    "vest20 = vest20.rename(columns=rename_dict)\n",
    "vest20 = vest20.groupby(level=0, axis=1).sum()\n",
    "vest20 = gpd.GeoDataFrame(vest20, crs=\"EPSG:4269\")"
   ]
  },
  {
   "cell_type": "code",
   "execution_count": 22,
   "id": "b3c33531-ee7f-4f11-996f-895d4d09b435",
   "metadata": {},
   "outputs": [
    {
     "name": "stderr",
     "output_type": "stream",
     "text": [
      "100%|███████████████████████████████████████| 2477/2477 [00:39<00:00, 62.78it/s]\n",
      "100%|██████████████████████████████████████| 2477/2477 [00:04<00:00, 556.99it/s]\n"
     ]
    }
   ],
   "source": [
    "# vap and population have the same GEOID20\n",
    "blocks_to_precincts_assignment = maup.assign(population_df.geometry, vest20.geometry)"
   ]
  },
  {
   "cell_type": "code",
   "execution_count": 24,
   "id": "c4456e53-d61f-4c25-881d-60620ec767a8",
   "metadata": {},
   "outputs": [],
   "source": [
    "pop_column_names = ['P0020001', 'P0020002', 'P0020005', 'P0020006', 'P0020007', 'P0020008', 'P0020009', 'P0020010', 'P0020011', \n",
    "                    'H_WHITE', 'H_BLACK', 'H_AMIN', 'H_ASIAN', 'H_NHPI', 'H_OTHER', 'H_2MORE']\n",
    "vap_column_names = ['P0040001', 'P0040002', 'P0040005', 'P0040006', 'P0040007', 'P0040008', 'P0040009', 'P0040010', 'P0040011']\n",
    "\n",
    "vest20[pop_column_names] = population_df[pop_column_names].groupby(blocks_to_precincts_assignment).sum()\n",
    "vest20[vap_column_names] = vap_df[vap_column_names].groupby(blocks_to_precincts_assignment).sum()"
   ]
  },
  {
   "cell_type": "code",
   "execution_count": 25,
   "id": "671b0021-bec1-4afe-8a5e-a177e2555ee7",
   "metadata": {},
   "outputs": [
    {
     "name": "stdout",
     "output_type": "stream",
     "text": [
      "8631393\n",
      "8631389.0\n",
      "6745054\n",
      "6745051.0\n"
     ]
    }
   ],
   "source": [
    "print(population_df['P0020001'].sum())\n",
    "print(vest20['P0020001'].sum())\n",
    "print(vap_df['P0040001'].sum())\n",
    "print(vest20['P0040001'].sum())"
   ]
  },
  {
   "cell_type": "code",
   "execution_count": null,
   "id": "33f99033-b5c0-4cf7-ab48-090b74783e00",
   "metadata": {},
   "outputs": [],
   "source": [
    "cong_df = gpd.read_file(cd_data)\n",
    "send = gpd.read_file(send_data)\n",
    "hdist = gpd.read_file(hdist_data"
   ]
  },
  {
   "cell_type": "code",
   "execution_count": null,
   "id": "96d5de63-86ac-4e98-af7e-729292a2c58d",
   "metadata": {},
   "outputs": [],
   "source": []
  },
  {
   "cell_type": "code",
   "execution_count": null,
   "id": "e9a024ca-b9ef-4673-96ac-b5d759fbbae1",
   "metadata": {},
   "outputs": [],
   "source": []
  },
  {
   "cell_type": "code",
   "execution_count": null,
   "id": "fa8154c5-aa56-4fc0-8819-24bccdc923e6",
   "metadata": {},
   "outputs": [],
   "source": []
  },
  {
   "cell_type": "code",
   "execution_count": null,
   "id": "21366a69-3d3d-42a8-ace3-c1c0c71b820e",
   "metadata": {},
   "outputs": [],
   "source": []
  },
  {
   "cell_type": "code",
   "execution_count": null,
   "id": "993907de-2cce-43b8-a37f-b17b3d89a990",
   "metadata": {},
   "outputs": [],
   "source": []
  },
  {
   "cell_type": "code",
   "execution_count": null,
   "id": "be8425d2-d469-4866-a031-1f76baba4a06",
   "metadata": {},
   "outputs": [],
   "source": []
  },
  {
   "cell_type": "code",
   "execution_count": null,
   "id": "91a95681-bd6a-4cbb-bc3e-7a4a9b15c266",
   "metadata": {},
   "outputs": [],
   "source": []
  }
 ],
 "metadata": {
  "kernelspec": {
   "display_name": "Python 3 (ipykernel)",
   "language": "python",
   "name": "python3"
  },
  "language_info": {
   "codemirror_mode": {
    "name": "ipython",
    "version": 3
   },
   "file_extension": ".py",
   "mimetype": "text/x-python",
   "name": "python",
   "nbconvert_exporter": "python",
   "pygments_lexer": "ipython3",
   "version": "3.12.1"
  }
 },
 "nbformat": 4,
 "nbformat_minor": 5
}
